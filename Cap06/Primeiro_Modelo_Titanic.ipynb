{
 "cells": [
  {
   "cell_type": "code",
   "execution_count": 18,
   "id": "ad285376",
   "metadata": {},
   "outputs": [],
   "source": [
    "import numpy as np\n",
    "import pandas as pd\n",
    "import matplotlib.pyplot as plt\n",
    "import seaborn as sns\n",
    "%matplotlib inline\n",
    "np.random.seed(0)\n",
    "pd.plotting.register_matplotlib_converters()\n",
    "from sklearn.model_selection import train_test_split\n",
    "from sklearn.ensemble import RandomForestClassifier\n",
    "from sklearn.metrics import accuracy_score"
   ]
  },
  {
   "cell_type": "code",
   "execution_count": 19,
   "id": "b16e99f8",
   "metadata": {},
   "outputs": [
    {
     "name": "stdout",
     "output_type": "stream",
     "text": [
      "No banco de dados 'test.csv', tem-se: \n",
      "Features categóricas: \n",
      "-  Name\n",
      "-  Sex\n",
      "-  Ticket\n",
      "-  Cabin\n",
      "-  Embarked\n",
      "\n",
      "Features númericas:\n",
      "-  PassengerId\n",
      "-  Pclass\n",
      "-  Age\n",
      "-  SibSp\n",
      "-  Parch\n",
      "-  Fare\n",
      "\n",
      "Features que contém NaN: \n",
      " - Age; 86 células NaN\n",
      " - Fare; 1 células NaN\n",
      " - Cabin; 327 células NaN\n",
      "\n",
      "No banco de dados 'train.csv', tem-se: \n",
      "\n",
      "Momentos estatísticos do dataframe \n",
      "        PassengerId    Survived      Pclass         Age       SibSp  \\\n",
      "count   891.000000  891.000000  891.000000  714.000000  891.000000   \n",
      "mean    446.000000    0.383838    2.308642   29.699118    0.523008   \n",
      "std     257.353842    0.486592    0.836071   14.526497    1.102743   \n",
      "min       1.000000    0.000000    1.000000    0.420000    0.000000   \n",
      "25%     223.500000    0.000000    2.000000   20.125000    0.000000   \n",
      "50%     446.000000    0.000000    3.000000   28.000000    0.000000   \n",
      "75%     668.500000    1.000000    3.000000   38.000000    1.000000   \n",
      "max     891.000000    1.000000    3.000000   80.000000    8.000000   \n",
      "\n",
      "            Parch        Fare  \n",
      "count  891.000000  891.000000  \n",
      "mean     0.381594   32.204208  \n",
      "std      0.806057   49.693429  \n",
      "min      0.000000    0.000000  \n",
      "25%      0.000000    7.910400  \n",
      "50%      0.000000   14.454200  \n",
      "75%      0.000000   31.000000  \n",
      "max      6.000000  512.329200  \n",
      "\n",
      "\n",
      "Features categóricas: \n",
      "-  Name\n",
      "-  Sex\n",
      "-  Ticket\n",
      "-  Cabin\n",
      "-  Embarked\n",
      "Features númericas:\n",
      "-  PassengerId\n",
      "-  Survived\n",
      "-  Pclass\n",
      "-  Age\n",
      "-  SibSp\n",
      "-  Parch\n",
      "-  Fare\n",
      "\n",
      "Features que contém NaN: \n",
      " - Age; 177 células NaN\n",
      " - Cabin; 687 células NaN\n",
      " - Embarked; 2 células NaN\n"
     ]
    }
   ],
   "source": [
    "# Questão 6.1\n",
    "test = pd.read_csv(\"Arquivos csv/test.csv\")\n",
    "train = pd.read_csv(\"Arquivos csv/train.csv\")\n",
    "\n",
    "train_describe = train.describe()\n",
    "\n",
    "# Identificar as Features do banco de dados que são categóricas e as que são númericas\n",
    "features_categoricas_test = []\n",
    "features_numericas_test = []\n",
    "for columns in test.columns:\n",
    "    if test[columns].dtype == object:\n",
    "        features_categoricas_test.append(columns)\n",
    "    else:\n",
    "        features_numericas_test.append(columns)\n",
    "        \n",
    "features_categoricas_train = []\n",
    "features_numericas_train = []\n",
    "for columns in train.columns:\n",
    "    if train[columns].dtype == object:\n",
    "        features_categoricas_train.append(columns)\n",
    "    else:\n",
    "        features_numericas_train.append(columns)\n",
    "\n",
    "# Quais Features contém NaN e a quantidade em cada Feature\n",
    "qtd = []\n",
    "features_nan = []\n",
    "for columns in test.columns:\n",
    "    if pd.isnull(test[columns]).sum() != 0:\n",
    "        qtd.append(pd.isnull(test[columns]).sum())\n",
    "        features_nan.append(columns)\n",
    "        \n",
    "features_nan_test = pd.DataFrame({'Columns': features_nan, 'Quantidade': qtd})\n",
    "\n",
    "qtd = []\n",
    "features_nan = []\n",
    "for columns in train.columns:\n",
    "    if pd.isnull(train[columns]).sum() != 0:\n",
    "        qtd.append(pd.isnull(train[columns]).sum())\n",
    "        features_nan.append(columns)\n",
    "        \n",
    "features_nan_train = pd.DataFrame({'Columns': features_nan, 'Quantidade': qtd})\n",
    "\n",
    "# Informações dos bancos de dados:\n",
    "# test.csv\n",
    "print(\"No banco de dados 'test.csv', tem-se: \\nFeatures categóricas: \")\n",
    "for i in features_categoricas_test:\n",
    "    print(\"- \", i)\n",
    "\n",
    "print(\"\\nFeatures númericas:\")\n",
    "for i in features_numericas_test:\n",
    "    print(\"- \", i)\n",
    "    \n",
    "print(\"\\nFeatures que contém NaN: \")\n",
    "for i in features_nan_test.index:\n",
    "    print(\" - {}; {} células NaN\".format(features_nan_test['Columns'][i], features_nan_test['Quantidade'][i]))\n",
    "    \n",
    "# train.csv\n",
    "print(\"\\nNo banco de dados 'train.csv', tem-se: \")\n",
    "print(\"\\nMomentos estatísticos do dataframe \\n\", train_describe)\n",
    "print(\"\\n\\nFeatures categóricas: \")\n",
    "for i in features_categoricas_train:\n",
    "    print(\"- \", i)\n",
    "\n",
    "print(\"Features númericas:\")\n",
    "for i in features_numericas_train:\n",
    "    print(\"- \", i)\n",
    "    \n",
    "print(\"\\nFeatures que contém NaN: \")\n",
    "for i in features_nan_train.index:\n",
    "    print(\" - {}; {} células NaN\".format(features_nan_train['Columns'][i], features_nan_train['Quantidade'][i]))\n",
    "\n",
    "# Novos dataframes apenas com as features numéricas do banco de dados\n",
    "test_new = test.drop(features_categoricas_test, axis = 1);\n",
    "train_new = train.drop(features_categoricas_train, axis = 1)\n",
    "\n",
    "# Retirar as linhas que contenham NaN das features do banco de dados 'train.csv'\n",
    "train_new = train_new.dropna(axis = 0)\n",
    "\n",
    "# Subtituir os NaN pelo valor 0 no banco de dados de 'test.csv'\n",
    "test_new = test_new.fillna(0)"
   ]
  },
  {
   "cell_type": "code",
   "execution_count": 20,
   "id": "bfbd3fa6",
   "metadata": {},
   "outputs": [
    {
     "name": "stdout",
     "output_type": "stream",
     "text": [
      "\n",
      "Análise: \n",
      "A chance de sobreviver aumenta se a pessoa for mais nova;\n",
      "\n",
      "A chance de sobreviver aumenta se a pessoa for da 1ª classe;\n",
      "\n",
      "A chance de sobreviver aumenta se a pessoa tiver menos irmãos/cônjuges a bordo;\n",
      "\n",
      "A chance de sobreviver aumenta se a pessoa tiver menos pais/criança a bordo;\n"
     ]
    },
    {
     "data": {
      "image/png": "[encoded data removed]",
      "text/plain": [
       "<Figure size 720x432 with 1 Axes>"
      ]
     },
     "metadata": {
      "needs_background": "light"
     },
     "output_type": "display_data"
    },
    {
     "data": {
      "image/png": "[encoded data removed]",
      "text/plain": [
       "<Figure size 720x432 with 1 Axes>"
      ]
     },
     "metadata": {
      "needs_background": "light"
     },
     "output_type": "display_data"
    },
    {
     "data": {
      "image/png": "[encoded data removed]",
      "text/plain": [
       "<Figure size 720x432 with 1 Axes>"
      ]
     },
     "metadata": {
      "needs_background": "light"
     },
     "output_type": "display_data"
    },
    {
     "data": {
      "image/png": "[encoded data removed]",
      "text/plain": [
       "<Figure size 720x432 with 1 Axes>"
      ]
     },
     "metadata": {
      "needs_background": "light"
     },
     "output_type": "display_data"
    }
   ],
   "source": [
    "# Questão 6.2\n",
    "# Feature Age\n",
    "# Lista com os nomes que serão dados aos grupo em que as idades serão repartidas\n",
    "grupo = ['(0-10)', '(10-20)', '(20-30)', '(30-40)', '(40-50)', '(50-60)','(60-70)', '(80-90)']\n",
    "\n",
    "# Separando as idades dos dataframe\n",
    "train_new['GroupAge'] = pd.cut(x=train_new['Age'], bins=[-1, 10, 20, 30, 40, 50, 60, 70, 80], labels=grupo)\n",
    "\n",
    "# Gráfico que indica a chance de sobrevivência por grupo de idade\n",
    "plt.figure(figsize = (10,6)) # Definindo tamanho da figura\n",
    "plt.title(\"Chance de sobrevivência por grupo de idade\") # Add título\n",
    "sns.barplot(x = train_new['GroupAge'], y = train_new['Survived'])\n",
    "print('\\nAnálise: \\nA chance de sobreviver aumenta se a pessoa for mais nova;')\n",
    "\n",
    "# Feature Pclass\n",
    "# Lista com os nomes que serão dados aos grupo em que as classes serão repartidas\n",
    "grupo = ['1ª classe', '2ª classe', '3ª classe']\n",
    "\n",
    "# Separando as idades dos dataframe\n",
    "train_new['GroupClass'] = pd.cut(x=train_new['Pclass'], bins=[0, 1, 2, 3], labels=grupo)\n",
    "\n",
    "# Gráfico que indica a chance de sobrevivência por grupo de idade\n",
    "plt.figure(figsize = (10,6)) # Definindo tamanho da figura\n",
    "plt.title(\"Chance de sobrevivência por classe\") # Add título\n",
    "sns.barplot(x = train_new['GroupClass'], y = train_new['Survived'])\n",
    "print('\\nA chance de sobreviver aumenta se a pessoa for da 1ª classe;')\n",
    "\n",
    "# Feature SibSp\n",
    "# Lista com os nomes que serão dados aos grupo em que as classes serão repartidas\n",
    "grupo = ['(0-2)', '(2-4)', '(4-6)', '(6-8)']\n",
    "\n",
    "# Separando as idades dos dataframe\n",
    "train_new['GroupSibSp'] = pd.cut(x=train_new['SibSp'], bins=[-1, 2, 4, 6, 8], labels=grupo)\n",
    "\n",
    "# Gráfico que indica a chance de sobrevivência por grupo de idade\n",
    "plt.figure(figsize = (10,6)) # Definindo tamanho da figura\n",
    "plt.title(\"Chance de sobrevivência por quantidade de irmãos/cônjuges a bordo\") # Add título\n",
    "sns.barplot(x = train_new['GroupSibSp'], y = train_new['Survived'])\n",
    "print('\\nA chance de sobreviver aumenta se a pessoa tiver menos irmãos/cônjuges a bordo;')\n",
    "\n",
    "# Feature Parch\n",
    "# Lista com os nomes que serão dados aos grupo em que as classes serão repartidas\n",
    "grupo = ['(0-2)', '(2-4)', '(4-6)', '(6-8)']\n",
    "\n",
    "# Separando as idades dos dataframe\n",
    "train_new['GroupParch'] = pd.cut(x=train_new['Parch'], bins=[-1, 2, 4, 6, 8], labels=grupo)\n",
    "\n",
    "# Gráfico que indica a chance de sobrevivência por grupo de idade\n",
    "plt.figure(figsize = (10,6)) # Definindo tamanho da figura\n",
    "plt.title(\"Chance de sobrevivência por quantidade de pais/crianças a bordo\") # Add título\n",
    "sns.barplot(x = train_new['GroupParch'], y = train_new['Survived'])\n",
    "print('\\nA chance de sobreviver aumenta se a pessoa tiver menos pais/criança a bordo;')"
   ]
  },
  {
   "cell_type": "code",
   "execution_count": 21,
   "id": "f0dca43f",
   "metadata": {},
   "outputs": [
    {
     "name": "stdout",
     "output_type": "stream",
     "text": [
      "\n",
      "Porcentagem das predições que foram acertadas pelo modelo: 67.13%\n",
      "\n",
      "      PassengerId  Survived\n",
      "0            892         0\n",
      "1            893         0\n",
      "2            894         0\n",
      "3            895         1\n",
      "4            896         1\n",
      "..           ...       ...\n",
      "413         1305         1\n",
      "414         1306         1\n",
      "415         1307         0\n",
      "416         1308         1\n",
      "417         1309         1\n",
      "\n",
      "[418 rows x 2 columns]\n"
     ]
    }
   ],
   "source": [
    "# Questão 6.3\n",
    "# Tirar a coluna que contém o ID dos passageiros antes de treinar o modelo\n",
    "train_new = train_new.drop(['PassengerId'], axis = 1)\n",
    "features_numericas_train.remove('PassengerId')\n",
    "features_numericas_train.remove('Survived')\n",
    "\n",
    "# Criar variável X, contendo as Features\n",
    "X = train_new[features_numericas_train]\n",
    "\n",
    "# Criar variável y, contendo o target\n",
    "y = train_new['Survived']\n",
    "\n",
    "train_X, val_X, train_y, val_y = train_test_split(X, y, random_state = 0, test_size = 0.2)\n",
    "\n",
    "# Treinar random forest com as features e o target de treino\n",
    "modelo_titanic = RandomForestClassifier()\n",
    "\n",
    "# Realizar a predição\n",
    "modelo_titanic.fit(train_X, train_y)\n",
    "\n",
    "predicted_survived = modelo_titanic.predict(val_X)\n",
    "qualidade = accuracy_score(val_y, predicted_survived)\n",
    "print(\"\\nPorcentagem das predições que foram acertadas pelo modelo: {:.2f}%\".format((qualidade*100)))\n",
    "\n",
    "# Gerar predição\n",
    "idPassenger = test_new['PassengerId']\n",
    "test_new = test_new.drop('PassengerId', axis=1)\n",
    "predicted_survived = modelo_titanic.predict(test_new)\n",
    "saida = pd.DataFrame({'PassengerId' : idPassenger, 'Survived' : predicted_survived})\n",
    "saida.to_csv('Arquivos csv/test_predicted.csv', index = False)\n",
    "print(\"\\n\", saida)"
   ]
  }
 ],
 "metadata": {
  "kernelspec": {
   "display_name": "Python 3 (ipykernel)",
   "language": "python",
   "name": "python3"
  },
  "language_info": {
   "codemirror_mode": {
    "name": "ipython",
    "version": 3
   },
   "file_extension": ".py",
   "mimetype": "text/x-python",
   "name": "python",
   "nbconvert_exporter": "python",
   "pygments_lexer": "ipython3",
   "version": "3.9.12"
  }
 },
 "nbformat": 4,
 "nbformat_minor": 5
}
