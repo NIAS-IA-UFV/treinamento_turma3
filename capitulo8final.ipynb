{
 "cells": [
  {
   "cell_type": "code",
   "execution_count": 1,
   "id": "a3427efc",
   "metadata": {
    "_cell_guid": "b1076dfc-b9ad-4769-8c92-a6c4dae69d19",
    "_uuid": "8f2839f25d086af736a60e9eeb907d3b93b6e0e5",
    "execution": {
     "iopub.execute_input": "2022-08-27T23:39:18.410719Z",
     "iopub.status.busy": "2022-08-27T23:39:18.410230Z",
     "iopub.status.idle": "2022-08-27T23:39:19.612789Z",
     "shell.execute_reply": "2022-08-27T23:39:19.611869Z"
    },
    "papermill": {
     "duration": 1.215031,
     "end_time": "2022-08-27T23:39:19.618468",
     "exception": false,
     "start_time": "2022-08-27T23:39:18.403437",
     "status": "completed"
    },
    "tags": []
   },
   "outputs": [
    {
     "name": "stdout",
     "output_type": "stream",
     "text": [
      "/kaggle/input/titanic/train.csv\n",
      "/kaggle/input/titanic/test.csv\n",
      "/kaggle/input/titanic/gender_submission.csv\n"
     ]
    }
   ],
   "source": [
    "# This Python 3 environment comes with many helpful analytics libraries installed\n",
    "# It is defined by the kaggle/python Docker image: https://github.com/kaggle/docker-python\n",
    "# For example, here's several helpful packages to load\n",
    "\n",
    "import numpy as np # linear algebra\n",
    "import pandas as pd # data processing, CSV file I/O (e.g. pd.read_csv)\n",
    "import seaborn as sns\n",
    "import matplotlib.pyplot as plt\n",
    "%matplotlib inline\n",
    "np.random.seed(0)\n",
    "\n",
    "\n",
    "# Input data files are available in the read-only \"../input/\" directory\n",
    "# For example, running this (by clicking run or pressing Shift+Enter) will list all files under the input directory\n",
    "\n",
    "import os\n",
    "for dirname, _, filenames in os.walk('/kaggle/input'):\n",
    "    for filename in filenames:\n",
    "        print(os.path.join(dirname, filename))\n",
    "\n",
    "# You can write up to 20GB to the current directory (/kaggle/working/) that gets preserved as output when you create a version using \"Save & Run All\" \n",
    "# You can also write temporary files to /kaggle/temp/, but they won't be saved outside of the current session"
   ]
  },
  {
   "cell_type": "code",
   "execution_count": 2,
   "id": "9b523c9c",
   "metadata": {
    "execution": {
     "iopub.execute_input": "2022-08-27T23:39:19.637372Z",
     "iopub.status.busy": "2022-08-27T23:39:19.636674Z",
     "iopub.status.idle": "2022-08-27T23:39:19.673489Z",
     "shell.execute_reply": "2022-08-27T23:39:19.672234Z"
    },
    "papermill": {
     "duration": 0.049846,
     "end_time": "2022-08-27T23:39:19.676275",
     "exception": false,
     "start_time": "2022-08-27T23:39:19.626429",
     "status": "completed"
    },
    "tags": []
   },
   "outputs": [],
   "source": [
    "dftreino = pd.read_csv(\"../input/titanic/train.csv\")\n",
    "dfteste = pd.read_csv(\"../input/titanic/test.csv\")"
   ]
  },
  {
   "cell_type": "markdown",
   "id": "be6f97a9",
   "metadata": {
    "papermill": {
     "duration": 0.003268,
     "end_time": "2022-08-27T23:39:19.683438",
     "exception": false,
     "start_time": "2022-08-27T23:39:19.680170",
     "status": "completed"
    },
    "tags": []
   },
   "source": [
    "catfeat = [coln for coln in data.columns if data[coln].nunique() < 10 and data[coln].dtype == 'object'\n",
    "                                              and coln not in [\"Survived\",\"Name\",\"PassengerId\",\"Ticket\",'Cabin'] == True]"
   ]
  },
  {
   "cell_type": "code",
   "execution_count": 3,
   "id": "a585b23d",
   "metadata": {
    "execution": {
     "iopub.execute_input": "2022-08-27T23:39:19.692981Z",
     "iopub.status.busy": "2022-08-27T23:39:19.692247Z",
     "iopub.status.idle": "2022-08-27T23:39:20.174035Z",
     "shell.execute_reply": "2022-08-27T23:39:20.172685Z"
    },
    "papermill": {
     "duration": 0.4901,
     "end_time": "2022-08-27T23:39:20.177094",
     "exception": false,
     "start_time": "2022-08-27T23:39:19.686994",
     "status": "completed"
    },
    "tags": []
   },
   "outputs": [],
   "source": [
    "from sklearn.compose import ColumnTransformer\n",
    "from sklearn.pipeline import Pipeline\n",
    "from sklearn.impute import SimpleImputer\n",
    "from sklearn.preprocessing import OneHotEncoder\n",
    "from sklearn.preprocessing import OrdinalEncoder\n",
    "from sklearn.ensemble import RandomForestClassifier\n",
    "from sklearn.model_selection import train_test_split\n",
    "from sklearn.metrics import accuracy_score\n",
    "\n",
    "def pipelinecreator(data,encoder,model,numerical_imputer,categorical_imputer):\n",
    "    # definindo as features e dividindo os dados\n",
    "    catfeat = [coln for coln in data.columns if data[coln].nunique() < 10 and data[coln].dtype == 'object']\n",
    "    numfeat = [coln for coln in data.columns if data[coln].dtype in ['float64','int64'] and coln not in ['Survived','Name','PassengerId','Ticket','Cabin']]\n",
    "    features = catfeat + numfeat\n",
    "    target = data['Survived']\n",
    "    X = data[features]\n",
    "    X_train, X_valid, y_train, y_valid = train_test_split(X, target,test_size=0.2,random_state=0)\n",
    "    \n",
    "    \n",
    "    #criando o préprocessador\n",
    "    numerical_transformer = SimpleImputer(strategy=numerical_imputer)\n",
    "    \n",
    "    categorical_transformer = Pipeline(steps=[\n",
    "    ('imputer', SimpleImputer(strategy='most_frequent')),  \n",
    "    ('encode', encoder)])\n",
    "    \n",
    "    preprocessor = ColumnTransformer(transformers=[('num', numerical_transformer, numfeat),('cat', categorical_transformer, catfeat)])\n",
    "    \n",
    "    #criando a pipeline final\n",
    "    pipelinef = Pipeline(steps=[('preprocessor',preprocessor),('model',model)])\n",
    "    \n",
    "    #fit \n",
    "    pipelinef.fit(X_train,y_train)\n",
    "    pred = pipelinef.predict(X_valid)\n",
    "    score = accuracy_score(pred,y_valid)\n",
    "    percscore = (score * 100)\n",
    "    prec = print('Encoder: %s , imputing: %s,score: %.3f,score em porcentagem: %d%%'%(encoder,numerical_imputer,score,percscore))\n",
    "    return (pipelinef)"
   ]
  },
  {
   "cell_type": "code",
   "execution_count": 4,
   "id": "4809f74b",
   "metadata": {
    "execution": {
     "iopub.execute_input": "2022-08-27T23:39:20.186206Z",
     "iopub.status.busy": "2022-08-27T23:39:20.185766Z",
     "iopub.status.idle": "2022-08-27T23:39:20.191367Z",
     "shell.execute_reply": "2022-08-27T23:39:20.190149Z"
    },
    "papermill": {
     "duration": 0.012941,
     "end_time": "2022-08-27T23:39:20.193823",
     "exception": false,
     "start_time": "2022-08-27T23:39:20.180882",
     "status": "completed"
    },
    "tags": []
   },
   "outputs": [],
   "source": [
    "# listas\n",
    "strat = ['mean','median','most_frequent','constant']\n",
    "encoders = [OneHotEncoder(handle_unknown='ignore',sparse = False),OrdinalEncoder()]"
   ]
  },
  {
   "cell_type": "code",
   "execution_count": 5,
   "id": "b3305c27",
   "metadata": {
    "execution": {
     "iopub.execute_input": "2022-08-27T23:39:20.202708Z",
     "iopub.status.busy": "2022-08-27T23:39:20.202316Z",
     "iopub.status.idle": "2022-08-27T23:39:22.042106Z",
     "shell.execute_reply": "2022-08-27T23:39:22.040160Z"
    },
    "papermill": {
     "duration": 1.847404,
     "end_time": "2022-08-27T23:39:22.044812",
     "exception": false,
     "start_time": "2022-08-27T23:39:20.197408",
     "status": "completed"
    },
    "tags": []
   },
   "outputs": [
    {
     "name": "stdout",
     "output_type": "stream",
     "text": [
      "Encoder: OneHotEncoder(handle_unknown='ignore', sparse=False) , imputing: mean,score: 0.860,score em porcentagem: 86%\n",
      "Encoder: OneHotEncoder(handle_unknown='ignore', sparse=False) , imputing: median,score: 0.849,score em porcentagem: 84%\n",
      "Encoder: OneHotEncoder(handle_unknown='ignore', sparse=False) , imputing: most_frequent,score: 0.855,score em porcentagem: 85%\n",
      "Encoder: OneHotEncoder(handle_unknown='ignore', sparse=False) , imputing: constant,score: 0.832,score em porcentagem: 83%\n",
      "Encoder: OrdinalEncoder() , imputing: mean,score: 0.816,score em porcentagem: 81%\n",
      "Encoder: OrdinalEncoder() , imputing: median,score: 0.827,score em porcentagem: 82%\n",
      "Encoder: OrdinalEncoder() , imputing: most_frequent,score: 0.838,score em porcentagem: 83%\n",
      "Encoder: OrdinalEncoder() , imputing: constant,score: 0.804,score em porcentagem: 80%\n"
     ]
    }
   ],
   "source": [
    "categorical_imputer = 'most_frequent'\n",
    "for i in encoders:\n",
    "    for j in strat:\n",
    "        pipelinecreator(dftreino,i,RandomForestClassifier(),j,categorical_imputer)      "
   ]
  },
  {
   "cell_type": "markdown",
   "id": "370a2122",
   "metadata": {
    "papermill": {
     "duration": 0.00368,
     "end_time": "2022-08-27T23:39:22.052636",
     "exception": false,
     "start_time": "2022-08-27T23:39:22.048956",
     "status": "completed"
    },
    "tags": []
   },
   "source": [
    "MODELO QUE SE SAIU MELHOR NOS TESTES\n",
    "encoder: onehot \n",
    "estratégia imputing: most_frequent"
   ]
  },
  {
   "cell_type": "code",
   "execution_count": 6,
   "id": "90a0796d",
   "metadata": {
    "execution": {
     "iopub.execute_input": "2022-08-27T23:39:22.062542Z",
     "iopub.status.busy": "2022-08-27T23:39:22.061774Z",
     "iopub.status.idle": "2022-08-27T23:39:23.410027Z",
     "shell.execute_reply": "2022-08-27T23:39:23.408449Z"
    },
    "papermill": {
     "duration": 1.356195,
     "end_time": "2022-08-27T23:39:23.412754",
     "exception": false,
     "start_time": "2022-08-27T23:39:22.056559",
     "status": "completed"
    },
    "tags": []
   },
   "outputs": [
    {
     "name": "stdout",
     "output_type": "stream",
     "text": [
      "Encoder: OneHotEncoder(handle_unknown='ignore', sparse=False) , imputing: most_frequent,score: 0.855,score em porcentagem: 85%\n",
      "0.8081036971941498\n"
     ]
    }
   ],
   "source": [
    "#  8.3\n",
    "# cross validation\n",
    "from sklearn.model_selection import cross_val_score\n",
    "#definindo features e target\n",
    "features = ['Sex', 'Embarked', 'Pclass', 'Age', 'SibSp', 'Parch', 'Fare']\n",
    "X = dftreino[features]\n",
    "y = dftreino['Survived'] #target\n",
    "\n",
    "#gerando a pipeline com a função\n",
    "my_pipeline = pipelinecreator(dftreino,OneHotEncoder(handle_unknown='ignore', sparse=False),RandomForestClassifier(),'most_frequent',categorical_imputer)\n",
    "\n",
    "# cross validating \n",
    "scores = cross_val_score(my_pipeline, X, y,\n",
    "                              cv=5,\n",
    "                              scoring='accuracy')\n",
    "print(scores.mean())"
   ]
  },
  {
   "cell_type": "code",
   "execution_count": 7,
   "id": "09d1be63",
   "metadata": {
    "execution": {
     "iopub.execute_input": "2022-08-27T23:39:23.424081Z",
     "iopub.status.busy": "2022-08-27T23:39:23.423666Z",
     "iopub.status.idle": "2022-08-27T23:39:24.230603Z",
     "shell.execute_reply": "2022-08-27T23:39:24.229214Z"
    },
    "papermill": {
     "duration": 0.816253,
     "end_time": "2022-08-27T23:39:24.233762",
     "exception": false,
     "start_time": "2022-08-27T23:39:23.417509",
     "status": "completed"
    },
    "tags": []
   },
   "outputs": [
    {
     "name": "stdout",
     "output_type": "stream",
     "text": [
      "Encoder: OneHotEncoder(handle_unknown='ignore', sparse=False) , imputing: most_frequent,score: 0.810,score em porcentagem: 81%\n",
      "0.8406628585776159\n"
     ]
    }
   ],
   "source": [
    "# 8.3\n",
    "# Gradient Boosting\n",
    "from sklearn.ensemble import GradientBoostingClassifier\n",
    "my_pipelinexg = pipelinecreator(dftreino,OneHotEncoder(handle_unknown='ignore', sparse=False),GradientBoostingClassifier(n_iter_no_change=100,random_state=0),'most_frequent',categorical_imputer)\n",
    "scoresxg = cross_val_score(my_pipelinexg, X, y,\n",
    "                              cv=5,\n",
    "                              scoring='accuracy')\n",
    "print(scoresxg.mean())"
   ]
  },
  {
   "cell_type": "markdown",
   "id": "9aa11857",
   "metadata": {
    "papermill": {
     "duration": 0.004073,
     "end_time": "2022-08-27T23:39:24.242830",
     "exception": false,
     "start_time": "2022-08-27T23:39:24.238757",
     "status": "completed"
    },
    "tags": []
   },
   "source": [
    "O GradientBoosting se saiu melhor que o RandomForest, se mantendo quase sempre em 0.84"
   ]
  },
  {
   "cell_type": "code",
   "execution_count": 8,
   "id": "3061217a",
   "metadata": {
    "execution": {
     "iopub.execute_input": "2022-08-27T23:39:24.253348Z",
     "iopub.status.busy": "2022-08-27T23:39:24.252891Z",
     "iopub.status.idle": "2022-08-27T23:39:24.407566Z",
     "shell.execute_reply": "2022-08-27T23:39:24.406221Z"
    },
    "papermill": {
     "duration": 0.163192,
     "end_time": "2022-08-27T23:39:24.410292",
     "exception": false,
     "start_time": "2022-08-27T23:39:24.247100",
     "status": "completed"
    },
    "tags": []
   },
   "outputs": [
    {
     "name": "stdout",
     "output_type": "stream",
     "text": [
      "Encoder: OneHotEncoder(handle_unknown='ignore', sparse=False) , imputing: most_frequent,score: 0.810,score em porcentagem: 81%\n"
     ]
    }
   ],
   "source": [
    "# Treinando utilizando o banco de dados completo\n",
    "fxgpipeline = pipelinecreator(dftreino,OneHotEncoder(handle_unknown='ignore', sparse=False),GradientBoostingClassifier(n_iter_no_change=100,random_state=0),'most_frequent',categorical_imputer)\n",
    "ind = dfteste['PassengerId']\n",
    "predf = fxgpipeline.predict(dfteste)\n",
    "\n",
    "output = pd.DataFrame({'PassengerId' : ind,'Survived' : predf })\n",
    "output.to_csv('submission.csv',index = False)"
   ]
  }
 ],
 "metadata": {
  "kernelspec": {
   "display_name": "Python 3",
   "language": "python",
   "name": "python3"
  },
  "language_info": {
   "codemirror_mode": {
    "name": "ipython",
    "version": 3
   },
   "file_extension": ".py",
   "mimetype": "text/x-python",
   "name": "python",
   "nbconvert_exporter": "python",
   "pygments_lexer": "ipython3",
   "version": "3.7.12"
  },
  "papermill": {
   "default_parameters": {},
   "duration": 17.388905,
   "end_time": "2022-08-27T23:39:25.237740",
   "environment_variables": {},
   "exception": null,
   "input_path": "__notebook__.ipynb",
   "output_path": "__notebook__.ipynb",
   "parameters": {},
   "start_time": "2022-08-27T23:39:07.848835",
   "version": "2.3.4"
  }
 },
 "nbformat": 4,
 "nbformat_minor": 5
}
