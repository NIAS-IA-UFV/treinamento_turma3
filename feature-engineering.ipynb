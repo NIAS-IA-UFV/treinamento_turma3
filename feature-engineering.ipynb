{
 "cells": [
  {
   "cell_type": "code",
   "execution_count": 1,
   "id": "c00fff31",
   "metadata": {
    "execution": {
     "iopub.execute_input": "2022-09-05T00:45:36.978153Z",
     "iopub.status.busy": "2022-09-05T00:45:36.977526Z",
     "iopub.status.idle": "2022-09-05T00:45:38.944644Z",
     "shell.execute_reply": "2022-09-05T00:45:38.943699Z"
    },
    "papermill": {
     "duration": 1.980962,
     "end_time": "2022-09-05T00:45:38.947574",
     "exception": false,
     "start_time": "2022-09-05T00:45:36.966612",
     "status": "completed"
    },
    "tags": []
   },
   "outputs": [
    {
     "data": {
      "text/html": [
       "<div>\n",
       "<style scoped>\n",
       "    .dataframe tbody tr th:only-of-type {\n",
       "        vertical-align: middle;\n",
       "    }\n",
       "\n",
       "    .dataframe tbody tr th {\n",
       "        vertical-align: top;\n",
       "    }\n",
       "\n",
       "    .dataframe thead th {\n",
       "        text-align: right;\n",
       "    }\n",
       "</style>\n",
       "<table border=\"1\" class=\"dataframe\">\n",
       "  <thead>\n",
       "    <tr style=\"text-align: right;\">\n",
       "      <th></th>\n",
       "      <th>PassengerId</th>\n",
       "      <th>Survived</th>\n",
       "      <th>Pclass</th>\n",
       "      <th>Name</th>\n",
       "      <th>Sex</th>\n",
       "      <th>Age</th>\n",
       "      <th>SibSp</th>\n",
       "      <th>Parch</th>\n",
       "      <th>Ticket</th>\n",
       "      <th>Fare</th>\n",
       "      <th>Cabin</th>\n",
       "      <th>Embarked</th>\n",
       "    </tr>\n",
       "  </thead>\n",
       "  <tbody>\n",
       "    <tr>\n",
       "      <th>0</th>\n",
       "      <td>1</td>\n",
       "      <td>0</td>\n",
       "      <td>3</td>\n",
       "      <td>Braund, Mr. Owen Harris</td>\n",
       "      <td>male</td>\n",
       "      <td>22.0</td>\n",
       "      <td>1</td>\n",
       "      <td>0</td>\n",
       "      <td>A/5 21171</td>\n",
       "      <td>7.2500</td>\n",
       "      <td>NaN</td>\n",
       "      <td>S</td>\n",
       "    </tr>\n",
       "    <tr>\n",
       "      <th>1</th>\n",
       "      <td>2</td>\n",
       "      <td>1</td>\n",
       "      <td>1</td>\n",
       "      <td>Cumings, Mrs. John Bradley (Florence Briggs Th...</td>\n",
       "      <td>female</td>\n",
       "      <td>38.0</td>\n",
       "      <td>1</td>\n",
       "      <td>0</td>\n",
       "      <td>PC 17599</td>\n",
       "      <td>71.2833</td>\n",
       "      <td>C85</td>\n",
       "      <td>C</td>\n",
       "    </tr>\n",
       "    <tr>\n",
       "      <th>2</th>\n",
       "      <td>3</td>\n",
       "      <td>1</td>\n",
       "      <td>3</td>\n",
       "      <td>Heikkinen, Miss. Laina</td>\n",
       "      <td>female</td>\n",
       "      <td>26.0</td>\n",
       "      <td>0</td>\n",
       "      <td>0</td>\n",
       "      <td>STON/O2. 3101282</td>\n",
       "      <td>7.9250</td>\n",
       "      <td>NaN</td>\n",
       "      <td>S</td>\n",
       "    </tr>\n",
       "    <tr>\n",
       "      <th>3</th>\n",
       "      <td>4</td>\n",
       "      <td>1</td>\n",
       "      <td>1</td>\n",
       "      <td>Futrelle, Mrs. Jacques Heath (Lily May Peel)</td>\n",
       "      <td>female</td>\n",
       "      <td>35.0</td>\n",
       "      <td>1</td>\n",
       "      <td>0</td>\n",
       "      <td>113803</td>\n",
       "      <td>53.1000</td>\n",
       "      <td>C123</td>\n",
       "      <td>S</td>\n",
       "    </tr>\n",
       "    <tr>\n",
       "      <th>4</th>\n",
       "      <td>5</td>\n",
       "      <td>0</td>\n",
       "      <td>3</td>\n",
       "      <td>Allen, Mr. William Henry</td>\n",
       "      <td>male</td>\n",
       "      <td>35.0</td>\n",
       "      <td>0</td>\n",
       "      <td>0</td>\n",
       "      <td>373450</td>\n",
       "      <td>8.0500</td>\n",
       "      <td>NaN</td>\n",
       "      <td>S</td>\n",
       "    </tr>\n",
       "    <tr>\n",
       "      <th>...</th>\n",
       "      <td>...</td>\n",
       "      <td>...</td>\n",
       "      <td>...</td>\n",
       "      <td>...</td>\n",
       "      <td>...</td>\n",
       "      <td>...</td>\n",
       "      <td>...</td>\n",
       "      <td>...</td>\n",
       "      <td>...</td>\n",
       "      <td>...</td>\n",
       "      <td>...</td>\n",
       "      <td>...</td>\n",
       "    </tr>\n",
       "    <tr>\n",
       "      <th>886</th>\n",
       "      <td>887</td>\n",
       "      <td>0</td>\n",
       "      <td>2</td>\n",
       "      <td>Montvila, Rev. Juozas</td>\n",
       "      <td>male</td>\n",
       "      <td>27.0</td>\n",
       "      <td>0</td>\n",
       "      <td>0</td>\n",
       "      <td>211536</td>\n",
       "      <td>13.0000</td>\n",
       "      <td>NaN</td>\n",
       "      <td>S</td>\n",
       "    </tr>\n",
       "    <tr>\n",
       "      <th>887</th>\n",
       "      <td>888</td>\n",
       "      <td>1</td>\n",
       "      <td>1</td>\n",
       "      <td>Graham, Miss. Margaret Edith</td>\n",
       "      <td>female</td>\n",
       "      <td>19.0</td>\n",
       "      <td>0</td>\n",
       "      <td>0</td>\n",
       "      <td>112053</td>\n",
       "      <td>30.0000</td>\n",
       "      <td>B42</td>\n",
       "      <td>S</td>\n",
       "    </tr>\n",
       "    <tr>\n",
       "      <th>888</th>\n",
       "      <td>889</td>\n",
       "      <td>0</td>\n",
       "      <td>3</td>\n",
       "      <td>Johnston, Miss. Catherine Helen \"Carrie\"</td>\n",
       "      <td>female</td>\n",
       "      <td>NaN</td>\n",
       "      <td>1</td>\n",
       "      <td>2</td>\n",
       "      <td>W./C. 6607</td>\n",
       "      <td>23.4500</td>\n",
       "      <td>NaN</td>\n",
       "      <td>S</td>\n",
       "    </tr>\n",
       "    <tr>\n",
       "      <th>889</th>\n",
       "      <td>890</td>\n",
       "      <td>1</td>\n",
       "      <td>1</td>\n",
       "      <td>Behr, Mr. Karl Howell</td>\n",
       "      <td>male</td>\n",
       "      <td>26.0</td>\n",
       "      <td>0</td>\n",
       "      <td>0</td>\n",
       "      <td>111369</td>\n",
       "      <td>30.0000</td>\n",
       "      <td>C148</td>\n",
       "      <td>C</td>\n",
       "    </tr>\n",
       "    <tr>\n",
       "      <th>890</th>\n",
       "      <td>891</td>\n",
       "      <td>0</td>\n",
       "      <td>3</td>\n",
       "      <td>Dooley, Mr. Patrick</td>\n",
       "      <td>male</td>\n",
       "      <td>32.0</td>\n",
       "      <td>0</td>\n",
       "      <td>0</td>\n",
       "      <td>370376</td>\n",
       "      <td>7.7500</td>\n",
       "      <td>NaN</td>\n",
       "      <td>Q</td>\n",
       "    </tr>\n",
       "  </tbody>\n",
       "</table>\n",
       "<p>891 rows × 12 columns</p>\n",
       "</div>"
      ],
      "text/plain": [
       "     PassengerId  Survived  Pclass  \\\n",
       "0              1         0       3   \n",
       "1              2         1       1   \n",
       "2              3         1       3   \n",
       "3              4         1       1   \n",
       "4              5         0       3   \n",
       "..           ...       ...     ...   \n",
       "886          887         0       2   \n",
       "887          888         1       1   \n",
       "888          889         0       3   \n",
       "889          890         1       1   \n",
       "890          891         0       3   \n",
       "\n",
       "                                                  Name     Sex   Age  SibSp  \\\n",
       "0                              Braund, Mr. Owen Harris    male  22.0      1   \n",
       "1    Cumings, Mrs. John Bradley (Florence Briggs Th...  female  38.0      1   \n",
       "2                               Heikkinen, Miss. Laina  female  26.0      0   \n",
       "3         Futrelle, Mrs. Jacques Heath (Lily May Peel)  female  35.0      1   \n",
       "4                             Allen, Mr. William Henry    male  35.0      0   \n",
       "..                                                 ...     ...   ...    ...   \n",
       "886                              Montvila, Rev. Juozas    male  27.0      0   \n",
       "887                       Graham, Miss. Margaret Edith  female  19.0      0   \n",
       "888           Johnston, Miss. Catherine Helen \"Carrie\"  female   NaN      1   \n",
       "889                              Behr, Mr. Karl Howell    male  26.0      0   \n",
       "890                                Dooley, Mr. Patrick    male  32.0      0   \n",
       "\n",
       "     Parch            Ticket     Fare Cabin Embarked  \n",
       "0        0         A/5 21171   7.2500   NaN        S  \n",
       "1        0          PC 17599  71.2833   C85        C  \n",
       "2        0  STON/O2. 3101282   7.9250   NaN        S  \n",
       "3        0            113803  53.1000  C123        S  \n",
       "4        0            373450   8.0500   NaN        S  \n",
       "..     ...               ...      ...   ...      ...  \n",
       "886      0            211536  13.0000   NaN        S  \n",
       "887      0            112053  30.0000   B42        S  \n",
       "888      2        W./C. 6607  23.4500   NaN        S  \n",
       "889      0            111369  30.0000  C148        C  \n",
       "890      0            370376   7.7500   NaN        Q  \n",
       "\n",
       "[891 rows x 12 columns]"
      ]
     },
     "metadata": {},
     "output_type": "display_data"
    },
    {
     "name": "stderr",
     "output_type": "stream",
     "text": [
      "/opt/conda/lib/python3.7/site-packages/sklearn/metrics/cluster/_supervised.py:65: UserWarning: Clustering metrics expects discrete values but received continuous values for label, and binary values for target\n",
      "  warnings.warn(msg, UserWarning)\n",
      "/opt/conda/lib/python3.7/site-packages/sklearn/metrics/cluster/_supervised.py:65: UserWarning: Clustering metrics expects discrete values but received continuous values for label, and binary values for target\n",
      "  warnings.warn(msg, UserWarning)\n"
     ]
    },
    {
     "name": "stdout",
     "output_type": "stream",
     "text": [
      "Fare        0.386325\n",
      "Age         0.264573\n",
      "Sex         0.158010\n",
      "Parch       0.008265\n",
      "SibSp       0.008053\n",
      "Embarked    0.000000\n",
      "Pclass      0.000000\n",
      "Name: MI Scores, dtype: float64\n"
     ]
    },
    {
     "data": {
      "image/png": "[encoded data removed]",
      "text/plain": [
       "<Figure size 800x500 with 1 Axes>"
      ]
     },
     "metadata": {
      "needs_background": "light"
     },
     "output_type": "display_data"
    }
   ],
   "source": [
    "#9.1\n",
    "import numpy as np\n",
    "import seaborn as sns\n",
    "import pandas as pd\n",
    "import matplotlib.pyplot as plt\n",
    "from sklearn.feature_selection import mutual_info_classif\n",
    "#função que produz um gráfico indicado o Mutual Information score de cada feature existente no banco de dados d treino, em relação ao target\n",
    "dftrain =  pd.read_csv('../input/titanic/train.csv')\n",
    "display(dftrain)\n",
    "train=dftrain\n",
    "dftrain=dftrain.dropna()\n",
    "feat = dftrain.loc[:,['Age', 'SibSp', 'Parch', 'Fare', 'Sex', 'Embarked', 'Pclass']]\n",
    "featdiscr = dftrain.loc[:,['Pclass', 'Sex', 'SibSp', 'Parch', 'Embarked']]\n",
    "dftest = pd.read_csv('../input/titanic/test.csv')\n",
    "target = dftrain['Survived']\n",
    "X = feat[['Age', 'SibSp', 'Parch', 'Fare', 'Sex', 'Embarked', 'Pclass']]\n",
    "\n",
    "# Label encoding for categoricals\n",
    "for colname in X.select_dtypes(\"object\"):\n",
    "    X[colname], _ = X[colname].factorize()\n",
    "    disc= X[['Pclass', 'Sex', 'SibSp', 'Parch', 'Embarked']]\n",
    "    \n",
    "from sklearn.feature_selection import mutual_info_regression\n",
    "\n",
    "def make_mi_scores(X, target, disc):\n",
    "    mi_scores = mutual_info_classif(X, target, discrete_features=disc)\n",
    "    mi_scores = pd.Series(mi_scores, name=\"MI Scores\", index=X.columns)\n",
    "    mi_scores = mi_scores.sort_values(ascending=False)\n",
    "    return mi_scores\n",
    "\n",
    "mi_scores = make_mi_scores(X, target, disc)\n",
    "print(mi_scores)  # show a few features with their MI scores\n",
    "\n",
    "def plot_mi_scores(scores):\n",
    "    scores = scores.sort_values(ascending=True)\n",
    "    width = np.arange(len(scores))\n",
    "    ticks = list(scores.index)\n",
    "    plt.barh(width, scores)\n",
    "    plt.yticks(width, ticks)\n",
    "    plt.title(\"Mutual Information Scores\")\n",
    "\n",
    "plt.figure(dpi=100, figsize=(8, 5))\n",
    "plot_mi_scores(mi_scores)\n"
   ]
  },
  {
   "cell_type": "code",
   "execution_count": 2,
   "id": "6ea9e73a",
   "metadata": {
    "execution": {
     "iopub.execute_input": "2022-09-05T00:45:38.965886Z",
     "iopub.status.busy": "2022-09-05T00:45:38.964697Z",
     "iopub.status.idle": "2022-09-05T00:45:39.390860Z",
     "shell.execute_reply": "2022-09-05T00:45:39.389105Z"
    },
    "papermill": {
     "duration": 0.439375,
     "end_time": "2022-09-05T00:45:39.395076",
     "exception": false,
     "start_time": "2022-09-05T00:45:38.955701",
     "status": "completed"
    },
    "tags": []
   },
   "outputs": [
    {
     "data": {
      "text/plain": [
       "<AxesSubplot:xlabel='Fare', ylabel='Count'>"
      ]
     },
     "metadata": {},
     "output_type": "display_data"
    },
    {
     "data": {
      "image/png": "[encoded data removed]",
      "text/plain": [
       "<Figure size 432x288 with 1 Axes>"
      ]
     },
     "metadata": {
      "needs_background": "light"
     },
     "output_type": "display_data"
    }
   ],
   "source": [
    "#Construção de dois gráficos do tipo sns.histplot para a análise de “Fare”.\n",
    "#A distribuição total das taxas.\n",
    "display(sns.histplot(data=dftest, x=\"Fare\", kde=True))"
   ]
  },
  {
   "cell_type": "code",
   "execution_count": 3,
   "id": "fac05abf",
   "metadata": {
    "execution": {
     "iopub.execute_input": "2022-09-05T00:45:39.421121Z",
     "iopub.status.busy": "2022-09-05T00:45:39.420126Z",
     "iopub.status.idle": "2022-09-05T00:45:39.835856Z",
     "shell.execute_reply": "2022-09-05T00:45:39.834621Z"
    },
    "papermill": {
     "duration": 0.431535,
     "end_time": "2022-09-05T00:45:39.838230",
     "exception": false,
     "start_time": "2022-09-05T00:45:39.406695",
     "status": "completed"
    },
    "tags": []
   },
   "outputs": [
    {
     "data": {
      "image/png": "[encoded data removed]",
      "text/plain": [
       "<Figure size 432x288 with 1 Axes>"
      ]
     },
     "metadata": {
      "needs_background": "light"
     },
     "output_type": "display_data"
    }
   ],
   "source": [
    "#A distribuição relacionada com o total e target\n",
    "th=sns.histplot(data=dftest, x=\"Fare\", kde=True)\n"
   ]
  },
  {
   "cell_type": "code",
   "execution_count": 4,
   "id": "0b31b781",
   "metadata": {
    "execution": {
     "iopub.execute_input": "2022-09-05T00:45:39.857602Z",
     "iopub.status.busy": "2022-09-05T00:45:39.856970Z",
     "iopub.status.idle": "2022-09-05T00:45:40.210870Z",
     "shell.execute_reply": "2022-09-05T00:45:40.209639Z"
    },
    "papermill": {
     "duration": 0.366347,
     "end_time": "2022-09-05T00:45:40.213624",
     "exception": false,
     "start_time": "2022-09-05T00:45:39.847277",
     "status": "completed"
    },
    "tags": []
   },
   "outputs": [
    {
     "data": {
      "text/plain": [
       "<AxesSubplot:xlabel='Fare', ylabel='Count'>"
      ]
     },
     "execution_count": 4,
     "metadata": {},
     "output_type": "execute_result"
    },
    {
     "data": {
      "image/png": "[encoded data removed]",
      "text/plain": [
       "<Figure size 432x288 with 1 Axes>"
      ]
     },
     "metadata": {
      "needs_background": "light"
     },
     "output_type": "display_data"
    }
   ],
   "source": [
    "sns.histplot(dftrain, x=\"Fare\", hue=\"Survived\",kde=True,legend=False)"
   ]
  },
  {
   "cell_type": "code",
   "execution_count": 5,
   "id": "4365f3fe",
   "metadata": {
    "execution": {
     "iopub.execute_input": "2022-09-05T00:45:40.235421Z",
     "iopub.status.busy": "2022-09-05T00:45:40.234167Z",
     "iopub.status.idle": "2022-09-05T00:45:40.239742Z",
     "shell.execute_reply": "2022-09-05T00:45:40.238481Z"
    },
    "papermill": {
     "duration": 0.01923,
     "end_time": "2022-09-05T00:45:40.242672",
     "exception": false,
     "start_time": "2022-09-05T00:45:40.223442",
     "status": "completed"
    },
    "tags": []
   },
   "outputs": [],
   "source": [
    "#Realize uma análise em relação à distribuição total, se a curva é normal\n",
    "#ou não, por exemplo. Qual a influência da feature “Fare” no target que\n",
    "#pode ser percebida a partir do segundo gráfico?\n",
    "#RES: A curva tem um pico no inicio e depois diminui. No grafico 2 a curva diminui conforme o fare aumenta\n"
   ]
  },
  {
   "cell_type": "code",
   "execution_count": 6,
   "id": "bda858d3",
   "metadata": {
    "execution": {
     "iopub.execute_input": "2022-09-05T00:45:40.269368Z",
     "iopub.status.busy": "2022-09-05T00:45:40.268128Z",
     "iopub.status.idle": "2022-09-05T00:45:40.914735Z",
     "shell.execute_reply": "2022-09-05T00:45:40.913052Z"
    },
    "papermill": {
     "duration": 0.661968,
     "end_time": "2022-09-05T00:45:40.917981",
     "exception": false,
     "start_time": "2022-09-05T00:45:40.256013",
     "status": "completed"
    },
    "tags": []
   },
   "outputs": [
    {
     "data": {
      "text/plain": [
       "<AxesSubplot:xlabel='Sex', ylabel='Count'>"
      ]
     },
     "execution_count": 6,
     "metadata": {},
     "output_type": "execute_result"
    },
    {
     "data": {
      "image/png": "[encoded data removed]",
      "text/plain": [
       "<Figure size 432x288 with 4 Axes>"
      ]
     },
     "metadata": {
      "needs_background": "light"
     },
     "output_type": "display_data"
    }
   ],
   "source": [
    "#4 gráficos também utilizando histogramas com seaborn.\n",
    "#Tais gráficos relacionam a Feature “Age” com “Sex”.\n",
    "import numpy as np\n",
    "import seaborn as sns\n",
    "import pandas as pd\n",
    "import matplotlib.pyplot as plt\n",
    "from sklearn.feature_selection import mutual_info_classif\n",
    "fig, ((ax1,ax2),(ax3,ax4)) = plt.subplots(2,2)\n",
    "sur= dftrain['Survived'] == 1\n",
    "male = (dftrain['Sex'] == 'male')\n",
    "fema= (dftrain['Sex'] == 'female')\n",
    "sns.histplot(dftrain, x=\"Age\", hue=\"Sex\",legend=False, ax=ax1)\n",
    "sns.histplot(data=dftrain[sur], x='Age', hue='Sex',legend=False, ax=ax2)\n",
    "sns.histplot(dftrain[male], x='Sex', hue=\"Survived\",legend=False, ax=ax3)\n",
    "sns.histplot(dftrain[fema], x='Sex', hue=\"Survived\",legend=False, ax=ax4)\n",
    "#RES:mulheres e jovens tem mais chance de sobreviver"
   ]
  },
  {
   "cell_type": "code",
   "execution_count": 7,
   "id": "04ecc242",
   "metadata": {
    "execution": {
     "iopub.execute_input": "2022-09-05T00:45:40.939181Z",
     "iopub.status.busy": "2022-09-05T00:45:40.938750Z",
     "iopub.status.idle": "2022-09-05T00:45:40.978356Z",
     "shell.execute_reply": "2022-09-05T00:45:40.977019Z"
    },
    "papermill": {
     "duration": 0.053516,
     "end_time": "2022-09-05T00:45:40.980878",
     "exception": false,
     "start_time": "2022-09-05T00:45:40.927362",
     "status": "completed"
    },
    "tags": []
   },
   "outputs": [
    {
     "data": {
      "text/html": [
       "<div>\n",
       "<style scoped>\n",
       "    .dataframe tbody tr th:only-of-type {\n",
       "        vertical-align: middle;\n",
       "    }\n",
       "\n",
       "    .dataframe tbody tr th {\n",
       "        vertical-align: top;\n",
       "    }\n",
       "\n",
       "    .dataframe thead th {\n",
       "        text-align: right;\n",
       "    }\n",
       "</style>\n",
       "<table border=\"1\" class=\"dataframe\">\n",
       "  <thead>\n",
       "    <tr style=\"text-align: right;\">\n",
       "      <th></th>\n",
       "      <th>PassengerId</th>\n",
       "      <th>Survived</th>\n",
       "      <th>Pclass</th>\n",
       "      <th>Sex</th>\n",
       "      <th>Age</th>\n",
       "      <th>SibSp</th>\n",
       "      <th>Parch</th>\n",
       "      <th>Ticket</th>\n",
       "      <th>Fare</th>\n",
       "      <th>Cabin</th>\n",
       "      <th>Embarked</th>\n",
       "      <th>Title</th>\n",
       "    </tr>\n",
       "  </thead>\n",
       "  <tbody>\n",
       "    <tr>\n",
       "      <th>1</th>\n",
       "      <td>2</td>\n",
       "      <td>1</td>\n",
       "      <td>1</td>\n",
       "      <td>female</td>\n",
       "      <td>38.0</td>\n",
       "      <td>1</td>\n",
       "      <td>0</td>\n",
       "      <td>PC 17599</td>\n",
       "      <td>71.2833</td>\n",
       "      <td>C85</td>\n",
       "      <td>C</td>\n",
       "      <td>Mrs</td>\n",
       "    </tr>\n",
       "    <tr>\n",
       "      <th>3</th>\n",
       "      <td>4</td>\n",
       "      <td>1</td>\n",
       "      <td>1</td>\n",
       "      <td>female</td>\n",
       "      <td>35.0</td>\n",
       "      <td>1</td>\n",
       "      <td>0</td>\n",
       "      <td>113803</td>\n",
       "      <td>53.1000</td>\n",
       "      <td>C123</td>\n",
       "      <td>S</td>\n",
       "      <td>Mrs</td>\n",
       "    </tr>\n",
       "    <tr>\n",
       "      <th>6</th>\n",
       "      <td>7</td>\n",
       "      <td>0</td>\n",
       "      <td>1</td>\n",
       "      <td>male</td>\n",
       "      <td>54.0</td>\n",
       "      <td>0</td>\n",
       "      <td>0</td>\n",
       "      <td>17463</td>\n",
       "      <td>51.8625</td>\n",
       "      <td>E46</td>\n",
       "      <td>S</td>\n",
       "      <td>Mr</td>\n",
       "    </tr>\n",
       "    <tr>\n",
       "      <th>10</th>\n",
       "      <td>11</td>\n",
       "      <td>1</td>\n",
       "      <td>3</td>\n",
       "      <td>female</td>\n",
       "      <td>4.0</td>\n",
       "      <td>1</td>\n",
       "      <td>1</td>\n",
       "      <td>PP 9549</td>\n",
       "      <td>16.7000</td>\n",
       "      <td>G6</td>\n",
       "      <td>S</td>\n",
       "      <td>Miss</td>\n",
       "    </tr>\n",
       "    <tr>\n",
       "      <th>11</th>\n",
       "      <td>12</td>\n",
       "      <td>1</td>\n",
       "      <td>1</td>\n",
       "      <td>female</td>\n",
       "      <td>58.0</td>\n",
       "      <td>0</td>\n",
       "      <td>0</td>\n",
       "      <td>113783</td>\n",
       "      <td>26.5500</td>\n",
       "      <td>C103</td>\n",
       "      <td>S</td>\n",
       "      <td>Miss</td>\n",
       "    </tr>\n",
       "    <tr>\n",
       "      <th>...</th>\n",
       "      <td>...</td>\n",
       "      <td>...</td>\n",
       "      <td>...</td>\n",
       "      <td>...</td>\n",
       "      <td>...</td>\n",
       "      <td>...</td>\n",
       "      <td>...</td>\n",
       "      <td>...</td>\n",
       "      <td>...</td>\n",
       "      <td>...</td>\n",
       "      <td>...</td>\n",
       "      <td>...</td>\n",
       "    </tr>\n",
       "    <tr>\n",
       "      <th>871</th>\n",
       "      <td>872</td>\n",
       "      <td>1</td>\n",
       "      <td>1</td>\n",
       "      <td>female</td>\n",
       "      <td>47.0</td>\n",
       "      <td>1</td>\n",
       "      <td>1</td>\n",
       "      <td>11751</td>\n",
       "      <td>52.5542</td>\n",
       "      <td>D35</td>\n",
       "      <td>S</td>\n",
       "      <td>Mrs</td>\n",
       "    </tr>\n",
       "    <tr>\n",
       "      <th>872</th>\n",
       "      <td>873</td>\n",
       "      <td>0</td>\n",
       "      <td>1</td>\n",
       "      <td>male</td>\n",
       "      <td>33.0</td>\n",
       "      <td>0</td>\n",
       "      <td>0</td>\n",
       "      <td>695</td>\n",
       "      <td>5.0000</td>\n",
       "      <td>B51 B53 B55</td>\n",
       "      <td>S</td>\n",
       "      <td>Mr</td>\n",
       "    </tr>\n",
       "    <tr>\n",
       "      <th>879</th>\n",
       "      <td>880</td>\n",
       "      <td>1</td>\n",
       "      <td>1</td>\n",
       "      <td>female</td>\n",
       "      <td>56.0</td>\n",
       "      <td>0</td>\n",
       "      <td>1</td>\n",
       "      <td>11767</td>\n",
       "      <td>83.1583</td>\n",
       "      <td>C50</td>\n",
       "      <td>C</td>\n",
       "      <td>Mrs</td>\n",
       "    </tr>\n",
       "    <tr>\n",
       "      <th>887</th>\n",
       "      <td>888</td>\n",
       "      <td>1</td>\n",
       "      <td>1</td>\n",
       "      <td>female</td>\n",
       "      <td>19.0</td>\n",
       "      <td>0</td>\n",
       "      <td>0</td>\n",
       "      <td>112053</td>\n",
       "      <td>30.0000</td>\n",
       "      <td>B42</td>\n",
       "      <td>S</td>\n",
       "      <td>Miss</td>\n",
       "    </tr>\n",
       "    <tr>\n",
       "      <th>889</th>\n",
       "      <td>890</td>\n",
       "      <td>1</td>\n",
       "      <td>1</td>\n",
       "      <td>male</td>\n",
       "      <td>26.0</td>\n",
       "      <td>0</td>\n",
       "      <td>0</td>\n",
       "      <td>111369</td>\n",
       "      <td>30.0000</td>\n",
       "      <td>C148</td>\n",
       "      <td>C</td>\n",
       "      <td>Mr</td>\n",
       "    </tr>\n",
       "  </tbody>\n",
       "</table>\n",
       "<p>183 rows × 12 columns</p>\n",
       "</div>"
      ],
      "text/plain": [
       "     PassengerId  Survived  Pclass     Sex   Age  SibSp  Parch    Ticket  \\\n",
       "1              2         1       1  female  38.0      1      0  PC 17599   \n",
       "3              4         1       1  female  35.0      1      0    113803   \n",
       "6              7         0       1    male  54.0      0      0     17463   \n",
       "10            11         1       3  female   4.0      1      1   PP 9549   \n",
       "11            12         1       1  female  58.0      0      0    113783   \n",
       "..           ...       ...     ...     ...   ...    ...    ...       ...   \n",
       "871          872         1       1  female  47.0      1      1     11751   \n",
       "872          873         0       1    male  33.0      0      0       695   \n",
       "879          880         1       1  female  56.0      0      1     11767   \n",
       "887          888         1       1  female  19.0      0      0    112053   \n",
       "889          890         1       1    male  26.0      0      0    111369   \n",
       "\n",
       "        Fare        Cabin Embarked Title  \n",
       "1    71.2833          C85        C   Mrs  \n",
       "3    53.1000         C123        S   Mrs  \n",
       "6    51.8625          E46        S    Mr  \n",
       "10   16.7000           G6        S  Miss  \n",
       "11   26.5500         C103        S  Miss  \n",
       "..       ...          ...      ...   ...  \n",
       "871  52.5542          D35        S   Mrs  \n",
       "872   5.0000  B51 B53 B55        S    Mr  \n",
       "879  83.1583          C50        C   Mrs  \n",
       "887  30.0000          B42        S  Miss  \n",
       "889  30.0000         C148        C    Mr  \n",
       "\n",
       "[183 rows x 12 columns]"
      ]
     },
     "execution_count": 7,
     "metadata": {},
     "output_type": "execute_result"
    }
   ],
   "source": [
    "#9.2\n",
    "# dropping null value columns to avoid errors\n",
    "dftrain2=dftrain.copy()\n",
    "dftrain2.dropna(inplace = True)\n",
    "  \n",
    "# new data frame with split value columns\n",
    "new = dftrain2[\"Name\"].str.split(\",\", n = 1, expand = True)\n",
    "new2 = dftrain2[\"Name\"].str.split(\".\", n = 1, expand = True)\n",
    "  \n",
    "# making separate column from new data frame\n",
    "dftrain2[\"Title5\"]= new[0]\n",
    "  \n",
    "# making separate column from new data frame\n",
    "dftrain2[\"Title2\"]= new2[0]\n",
    "  \n",
    "# Dropping old Name and Title5 columns\n",
    "dftrain2.drop(columns =[\"Name\",'Title5'], inplace = True)\n",
    "new3 = dftrain2[\"Title2\"].str.split(\" \", n = 1, expand = True)\n",
    "dftrain2['Title']=new3[1]\n",
    "dftrain2.drop(columns =['Title2'], inplace = True)\n",
    "# dftrain2 display\n",
    "dftrain2\n"
   ]
  },
  {
   "cell_type": "code",
   "execution_count": 8,
   "id": "e7cdde84",
   "metadata": {
    "execution": {
     "iopub.execute_input": "2022-09-05T00:45:41.002195Z",
     "iopub.status.busy": "2022-09-05T00:45:41.001346Z",
     "iopub.status.idle": "2022-09-05T00:45:41.030352Z",
     "shell.execute_reply": "2022-09-05T00:45:41.029186Z"
    },
    "papermill": {
     "duration": 0.042219,
     "end_time": "2022-09-05T00:45:41.032660",
     "exception": false,
     "start_time": "2022-09-05T00:45:40.990441",
     "status": "completed"
    },
    "tags": []
   },
   "outputs": [
    {
     "data": {
      "text/html": [
       "<div>\n",
       "<style scoped>\n",
       "    .dataframe tbody tr th:only-of-type {\n",
       "        vertical-align: middle;\n",
       "    }\n",
       "\n",
       "    .dataframe tbody tr th {\n",
       "        vertical-align: top;\n",
       "    }\n",
       "\n",
       "    .dataframe thead th {\n",
       "        text-align: right;\n",
       "    }\n",
       "</style>\n",
       "<table border=\"1\" class=\"dataframe\">\n",
       "  <thead>\n",
       "    <tr style=\"text-align: right;\">\n",
       "      <th></th>\n",
       "      <th>PassengerId</th>\n",
       "      <th>Survived</th>\n",
       "      <th>Pclass</th>\n",
       "      <th>Sex</th>\n",
       "      <th>Age</th>\n",
       "      <th>SibSp</th>\n",
       "      <th>Parch</th>\n",
       "      <th>Ticket</th>\n",
       "      <th>Fare</th>\n",
       "      <th>Cabin</th>\n",
       "      <th>Embarked</th>\n",
       "      <th>Title</th>\n",
       "      <th>Tamanho da familia</th>\n",
       "      <th>Sozinho</th>\n",
       "    </tr>\n",
       "  </thead>\n",
       "  <tbody>\n",
       "    <tr>\n",
       "      <th>1</th>\n",
       "      <td>2</td>\n",
       "      <td>1</td>\n",
       "      <td>1</td>\n",
       "      <td>female</td>\n",
       "      <td>38.0</td>\n",
       "      <td>1</td>\n",
       "      <td>0</td>\n",
       "      <td>PC 17599</td>\n",
       "      <td>71.2833</td>\n",
       "      <td>C85</td>\n",
       "      <td>C</td>\n",
       "      <td>Mrs</td>\n",
       "      <td>1</td>\n",
       "      <td>False</td>\n",
       "    </tr>\n",
       "    <tr>\n",
       "      <th>3</th>\n",
       "      <td>4</td>\n",
       "      <td>1</td>\n",
       "      <td>1</td>\n",
       "      <td>female</td>\n",
       "      <td>35.0</td>\n",
       "      <td>1</td>\n",
       "      <td>0</td>\n",
       "      <td>113803</td>\n",
       "      <td>53.1000</td>\n",
       "      <td>C123</td>\n",
       "      <td>S</td>\n",
       "      <td>Mrs</td>\n",
       "      <td>1</td>\n",
       "      <td>False</td>\n",
       "    </tr>\n",
       "    <tr>\n",
       "      <th>6</th>\n",
       "      <td>7</td>\n",
       "      <td>0</td>\n",
       "      <td>1</td>\n",
       "      <td>male</td>\n",
       "      <td>54.0</td>\n",
       "      <td>0</td>\n",
       "      <td>0</td>\n",
       "      <td>17463</td>\n",
       "      <td>51.8625</td>\n",
       "      <td>E46</td>\n",
       "      <td>S</td>\n",
       "      <td>Mr</td>\n",
       "      <td>0</td>\n",
       "      <td>True</td>\n",
       "    </tr>\n",
       "    <tr>\n",
       "      <th>10</th>\n",
       "      <td>11</td>\n",
       "      <td>1</td>\n",
       "      <td>3</td>\n",
       "      <td>female</td>\n",
       "      <td>4.0</td>\n",
       "      <td>1</td>\n",
       "      <td>1</td>\n",
       "      <td>PP 9549</td>\n",
       "      <td>16.7000</td>\n",
       "      <td>G6</td>\n",
       "      <td>S</td>\n",
       "      <td>Miss</td>\n",
       "      <td>2</td>\n",
       "      <td>False</td>\n",
       "    </tr>\n",
       "    <tr>\n",
       "      <th>11</th>\n",
       "      <td>12</td>\n",
       "      <td>1</td>\n",
       "      <td>1</td>\n",
       "      <td>female</td>\n",
       "      <td>58.0</td>\n",
       "      <td>0</td>\n",
       "      <td>0</td>\n",
       "      <td>113783</td>\n",
       "      <td>26.5500</td>\n",
       "      <td>C103</td>\n",
       "      <td>S</td>\n",
       "      <td>Miss</td>\n",
       "      <td>0</td>\n",
       "      <td>True</td>\n",
       "    </tr>\n",
       "    <tr>\n",
       "      <th>...</th>\n",
       "      <td>...</td>\n",
       "      <td>...</td>\n",
       "      <td>...</td>\n",
       "      <td>...</td>\n",
       "      <td>...</td>\n",
       "      <td>...</td>\n",
       "      <td>...</td>\n",
       "      <td>...</td>\n",
       "      <td>...</td>\n",
       "      <td>...</td>\n",
       "      <td>...</td>\n",
       "      <td>...</td>\n",
       "      <td>...</td>\n",
       "      <td>...</td>\n",
       "    </tr>\n",
       "    <tr>\n",
       "      <th>871</th>\n",
       "      <td>872</td>\n",
       "      <td>1</td>\n",
       "      <td>1</td>\n",
       "      <td>female</td>\n",
       "      <td>47.0</td>\n",
       "      <td>1</td>\n",
       "      <td>1</td>\n",
       "      <td>11751</td>\n",
       "      <td>52.5542</td>\n",
       "      <td>D35</td>\n",
       "      <td>S</td>\n",
       "      <td>Mrs</td>\n",
       "      <td>2</td>\n",
       "      <td>False</td>\n",
       "    </tr>\n",
       "    <tr>\n",
       "      <th>872</th>\n",
       "      <td>873</td>\n",
       "      <td>0</td>\n",
       "      <td>1</td>\n",
       "      <td>male</td>\n",
       "      <td>33.0</td>\n",
       "      <td>0</td>\n",
       "      <td>0</td>\n",
       "      <td>695</td>\n",
       "      <td>5.0000</td>\n",
       "      <td>B51 B53 B55</td>\n",
       "      <td>S</td>\n",
       "      <td>Mr</td>\n",
       "      <td>0</td>\n",
       "      <td>True</td>\n",
       "    </tr>\n",
       "    <tr>\n",
       "      <th>879</th>\n",
       "      <td>880</td>\n",
       "      <td>1</td>\n",
       "      <td>1</td>\n",
       "      <td>female</td>\n",
       "      <td>56.0</td>\n",
       "      <td>0</td>\n",
       "      <td>1</td>\n",
       "      <td>11767</td>\n",
       "      <td>83.1583</td>\n",
       "      <td>C50</td>\n",
       "      <td>C</td>\n",
       "      <td>Mrs</td>\n",
       "      <td>1</td>\n",
       "      <td>False</td>\n",
       "    </tr>\n",
       "    <tr>\n",
       "      <th>887</th>\n",
       "      <td>888</td>\n",
       "      <td>1</td>\n",
       "      <td>1</td>\n",
       "      <td>female</td>\n",
       "      <td>19.0</td>\n",
       "      <td>0</td>\n",
       "      <td>0</td>\n",
       "      <td>112053</td>\n",
       "      <td>30.0000</td>\n",
       "      <td>B42</td>\n",
       "      <td>S</td>\n",
       "      <td>Miss</td>\n",
       "      <td>0</td>\n",
       "      <td>True</td>\n",
       "    </tr>\n",
       "    <tr>\n",
       "      <th>889</th>\n",
       "      <td>890</td>\n",
       "      <td>1</td>\n",
       "      <td>1</td>\n",
       "      <td>male</td>\n",
       "      <td>26.0</td>\n",
       "      <td>0</td>\n",
       "      <td>0</td>\n",
       "      <td>111369</td>\n",
       "      <td>30.0000</td>\n",
       "      <td>C148</td>\n",
       "      <td>C</td>\n",
       "      <td>Mr</td>\n",
       "      <td>0</td>\n",
       "      <td>True</td>\n",
       "    </tr>\n",
       "  </tbody>\n",
       "</table>\n",
       "<p>183 rows × 14 columns</p>\n",
       "</div>"
      ],
      "text/plain": [
       "     PassengerId  Survived  Pclass     Sex   Age  SibSp  Parch    Ticket  \\\n",
       "1              2         1       1  female  38.0      1      0  PC 17599   \n",
       "3              4         1       1  female  35.0      1      0    113803   \n",
       "6              7         0       1    male  54.0      0      0     17463   \n",
       "10            11         1       3  female   4.0      1      1   PP 9549   \n",
       "11            12         1       1  female  58.0      0      0    113783   \n",
       "..           ...       ...     ...     ...   ...    ...    ...       ...   \n",
       "871          872         1       1  female  47.0      1      1     11751   \n",
       "872          873         0       1    male  33.0      0      0       695   \n",
       "879          880         1       1  female  56.0      0      1     11767   \n",
       "887          888         1       1  female  19.0      0      0    112053   \n",
       "889          890         1       1    male  26.0      0      0    111369   \n",
       "\n",
       "        Fare        Cabin Embarked Title  Tamanho da familia  Sozinho  \n",
       "1    71.2833          C85        C   Mrs                   1    False  \n",
       "3    53.1000         C123        S   Mrs                   1    False  \n",
       "6    51.8625          E46        S    Mr                   0     True  \n",
       "10   16.7000           G6        S  Miss                   2    False  \n",
       "11   26.5500         C103        S  Miss                   0     True  \n",
       "..       ...          ...      ...   ...                 ...      ...  \n",
       "871  52.5542          D35        S   Mrs                   2    False  \n",
       "872   5.0000  B51 B53 B55        S    Mr                   0     True  \n",
       "879  83.1583          C50        C   Mrs                   1    False  \n",
       "887  30.0000          B42        S  Miss                   0     True  \n",
       "889  30.0000         C148        C    Mr                   0     True  \n",
       "\n",
       "[183 rows x 14 columns]"
      ]
     },
     "execution_count": 8,
     "metadata": {},
     "output_type": "execute_result"
    }
   ],
   "source": [
    "#feature que indica o tamanho da família, somando “SibSp” e “Parch”.\n",
    "dftrain2['Tamanho da familia']= dftrain[\"SibSp\"]+dftrain2[\"Parch\"]\n",
    "#feature booleana indicando se o passageiro está sozinho, sendo, verdadeiro caso não tenha nenhum familiar a bordo, e falso caso tenha.\n",
    "dftrain2['Sozinho']=dftrain2['Tamanho da familia']<1\n",
    "dftrain2"
   ]
  },
  {
   "cell_type": "code",
   "execution_count": 9,
   "id": "a61f40ba",
   "metadata": {
    "execution": {
     "iopub.execute_input": "2022-09-05T00:45:41.055262Z",
     "iopub.status.busy": "2022-09-05T00:45:41.054833Z",
     "iopub.status.idle": "2022-09-05T00:45:43.616402Z",
     "shell.execute_reply": "2022-09-05T00:45:43.614979Z"
    },
    "papermill": {
     "duration": 2.575855,
     "end_time": "2022-09-05T00:45:43.619281",
     "exception": false,
     "start_time": "2022-09-05T00:45:41.043426",
     "status": "completed"
    },
    "tags": []
   },
   "outputs": [
    {
     "data": {
      "text/html": [
       "        <script type=\"text/javascript\">\n",
       "        window.PlotlyConfig = {MathJaxConfig: 'local'};\n",
       "        if (window.MathJax && window.MathJax.Hub && window.MathJax.Hub.Config) {window.MathJax.Hub.Config({SVG: {font: \"STIX-Web\"}});}\n",
       "        if (typeof require !== 'undefined') {\n",
       "        require.undef(\"plotly\");\n",
       "        requirejs.config({\n",
       "            paths: {\n",
       "                'plotly': ['https://cdn.plot.ly/plotly-2.14.0.min']\n",
       "            }\n",
       "        });\n",
       "        require(['plotly'], function(Plotly) {\n",
       "            window._Plotly = Plotly;\n",
       "        });\n",
       "        }\n",
       "        </script>\n",
       "        "
      ]
     },
     "metadata": {},
     "output_type": "display_data"
    },
    {
     "data": {
      "text/html": [
       "<div>                            <div id=\"e52ef51e-0929-4212-9a7f-d274d7adcd9c\" class=\"plotly-graph-div\" style=\"height:525px; width:800px;\"></div>            <script type=\"text/javascript\">                require([\"plotly\"], function(Plotly) {                    window.PLOTLYENV=window.PLOTLYENV || {};                                    if (document.getElementById(\"e52ef51e-0929-4212-9a7f-d274d7adcd9c\")) {                    Plotly.newPlot(                        \"e52ef51e-0929-4212-9a7f-d274d7adcd9c\",                        [{\"hovertemplate\":\"Age=%{x}<br>Fare=%{y}<extra></extra>\",\"legendgroup\":\"\",\"marker\":{\"color\":\"#636efa\",\"symbol\":\"circle\"},\"mode\":\"markers\",\"name\":\"\",\"orientation\":\"v\",\"showlegend\":false,\"x\":[38.0,35.0,54.0,4.0,58.0,34.0,28.0,19.0,49.0,65.0,45.0,29.0,25.0,23.0,46.0,71.0,23.0,21.0,47.0,24.0,32.5,54.0,19.0,37.0,24.0,36.5,22.0,61.0,56.0,50.0,1.0,3.0,44.0,58.0,2.0,40.0,31.0,32.0,38.0,35.0,44.0,37.0,29.0,62.0,30.0,52.0,40.0,58.0,35.0,37.0,63.0,19.0,36.0,2.0,50.0,0.92,17.0,30.0,24.0,18.0,31.0,40.0,36.0,36.0,16.0,45.5,38.0,29.0,41.0,45.0,2.0,24.0,24.0,22.0,60.0,24.0,25.0,27.0,36.0,23.0,24.0,33.0,32.0,28.0,50.0,14.0,64.0,4.0,52.0,30.0,49.0,65.0,48.0,47.0,23.0,25.0,35.0,58.0,55.0,54.0,25.0,16.0,18.0,36.0,47.0,34.0,30.0,44.0,45.0,22.0,36.0,50.0,17.0,48.0,39.0,53.0,36.0,39.0,39.0,36.0,18.0,60.0,52.0,49.0,40.0,4.0,42.0,61.0,21.0,80.0,32.0,24.0,48.0,56.0,58.0,47.0,31.0,36.0,27.0,15.0,31.0,49.0,42.0,18.0,35.0,42.0,24.0,48.0,19.0,38.0,27.0,27.0,29.0,35.0,36.0,21.0,70.0,19.0,6.0,33.0,36.0,51.0,57.0,43.0,17.0,29.0,46.0,49.0,11.0,39.0,33.0,52.0,27.0,39.0,16.0,51.0,48.0,31.0,47.0,33.0,56.0,19.0,26.0],\"xaxis\":\"x\",\"y\":[71.2833,53.1,51.8625,16.7,26.55,13.0,35.5,263.0,76.7292,61.9792,83.475,10.5,7.65,263.0,61.175,34.6542,63.3583,77.2875,52.0,247.5208,13.0,77.2875,26.2833,53.1,79.2,26.0,66.6,33.5,30.6958,28.7125,39.0,26.0,27.7208,146.5208,10.4625,31.0,113.275,76.2917,90.0,83.475,90.0,52.5542,10.4625,26.55,86.5,79.65,0.0,153.4625,135.6333,29.7,77.9583,91.0792,12.875,151.55,247.5208,151.55,108.9,56.9292,83.1583,262.375,164.8667,134.5,135.6333,13.0,57.9792,28.5,153.4625,66.6,134.5,35.5,26.0,263.0,13.0,55.0,75.25,69.3,55.4417,211.5,120.0,113.275,16.7,90.0,8.05,26.55,55.9,120.0,263.0,81.8583,30.5,27.75,89.1042,26.55,26.55,38.5,13.7917,91.0792,90.0,29.7,30.5,78.2667,151.55,86.5,108.9,26.2875,34.0208,10.5,93.5,57.9792,26.55,49.5,71.0,106.425,110.8833,39.6,79.65,51.4792,26.3875,55.9,110.8833,40.125,79.65,79.2,78.2667,56.9292,153.4625,39.0,52.5542,32.3208,77.9583,30.0,30.5,69.3,76.7292,35.5,113.275,25.5875,52.0,512.3292,76.7292,211.3375,57.0,110.8833,7.65,227.525,26.2875,26.2875,49.5042,52.0,7.65,227.525,10.5,53.1,211.3375,512.3292,78.85,262.375,71.0,53.1,12.475,86.5,120.0,77.9583,10.5,211.3375,57.0,30.0,79.2,25.9292,120.0,0.0,53.1,93.5,12.475,83.1583,39.4,26.55,25.9292,50.4958,52.5542,5.0,83.1583,30.0,30.0],\"yaxis\":\"y\",\"type\":\"scatter\"}],                        {\"template\":{\"data\":{\"histogram2dcontour\":[{\"type\":\"histogram2dcontour\",\"colorbar\":{\"outlinewidth\":0,\"ticks\":\"\"},\"colorscale\":[[0.0,\"#0d0887\"],[0.1111111111111111,\"#46039f\"],[0.2222222222222222,\"#7201a8\"],[0.3333333333333333,\"#9c179e\"],[0.4444444444444444,\"#bd3786\"],[0.5555555555555556,\"#d8576b\"],[0.6666666666666666,\"#ed7953\"],[0.7777777777777778,\"#fb9f3a\"],[0.8888888888888888,\"#fdca26\"],[1.0,\"#f0f921\"]]}],\"choropleth\":[{\"type\":\"choropleth\",\"colorbar\":{\"outlinewidth\":0,\"ticks\":\"\"}}],\"histogram2d\":[{\"type\":\"histogram2d\",\"colorbar\":{\"outlinewidth\":0,\"ticks\":\"\"},\"colorscale\":[[0.0,\"#0d0887\"],[0.1111111111111111,\"#46039f\"],[0.2222222222222222,\"#7201a8\"],[0.3333333333333333,\"#9c179e\"],[0.4444444444444444,\"#bd3786\"],[0.5555555555555556,\"#d8576b\"],[0.6666666666666666,\"#ed7953\"],[0.7777777777777778,\"#fb9f3a\"],[0.8888888888888888,\"#fdca26\"],[1.0,\"#f0f921\"]]}],\"heatmap\":[{\"type\":\"heatmap\",\"colorbar\":{\"outlinewidth\":0,\"ticks\":\"\"},\"colorscale\":[[0.0,\"#0d0887\"],[0.1111111111111111,\"#46039f\"],[0.2222222222222222,\"#7201a8\"],[0.3333333333333333,\"#9c179e\"],[0.4444444444444444,\"#bd3786\"],[0.5555555555555556,\"#d8576b\"],[0.6666666666666666,\"#ed7953\"],[0.7777777777777778,\"#fb9f3a\"],[0.8888888888888888,\"#fdca26\"],[1.0,\"#f0f921\"]]}],\"heatmapgl\":[{\"type\":\"heatmapgl\",\"colorbar\":{\"outlinewidth\":0,\"ticks\":\"\"},\"colorscale\":[[0.0,\"#0d0887\"],[0.1111111111111111,\"#46039f\"],[0.2222222222222222,\"#7201a8\"],[0.3333333333333333,\"#9c179e\"],[0.4444444444444444,\"#bd3786\"],[0.5555555555555556,\"#d8576b\"],[0.6666666666666666,\"#ed7953\"],[0.7777777777777778,\"#fb9f3a\"],[0.8888888888888888,\"#fdca26\"],[1.0,\"#f0f921\"]]}],\"contourcarpet\":[{\"type\":\"contourcarpet\",\"colorbar\":{\"outlinewidth\":0,\"ticks\":\"\"}}],\"contour\":[{\"type\":\"contour\",\"colorbar\":{\"outlinewidth\":0,\"ticks\":\"\"},\"colorscale\":[[0.0,\"#0d0887\"],[0.1111111111111111,\"#46039f\"],[0.2222222222222222,\"#7201a8\"],[0.3333333333333333,\"#9c179e\"],[0.4444444444444444,\"#bd3786\"],[0.5555555555555556,\"#d8576b\"],[0.6666666666666666,\"#ed7953\"],[0.7777777777777778,\"#fb9f3a\"],[0.8888888888888888,\"#fdca26\"],[1.0,\"#f0f921\"]]}],\"surface\":[{\"type\":\"surface\",\"colorbar\":{\"outlinewidth\":0,\"ticks\":\"\"},\"colorscale\":[[0.0,\"#0d0887\"],[0.1111111111111111,\"#46039f\"],[0.2222222222222222,\"#7201a8\"],[0.3333333333333333,\"#9c179e\"],[0.4444444444444444,\"#bd3786\"],[0.5555555555555556,\"#d8576b\"],[0.6666666666666666,\"#ed7953\"],[0.7777777777777778,\"#fb9f3a\"],[0.8888888888888888,\"#fdca26\"],[1.0,\"#f0f921\"]]}],\"mesh3d\":[{\"type\":\"mesh3d\",\"colorbar\":{\"outlinewidth\":0,\"ticks\":\"\"}}],\"scatter\":[{\"fillpattern\":{\"fillmode\":\"overlay\",\"size\":10,\"solidity\":0.2},\"type\":\"scatter\"}],\"parcoords\":[{\"type\":\"parcoords\",\"line\":{\"colorbar\":{\"outlinewidth\":0,\"ticks\":\"\"}}}],\"scatterpolargl\":[{\"type\":\"scatterpolargl\",\"marker\":{\"colorbar\":{\"outlinewidth\":0,\"ticks\":\"\"}}}],\"bar\":[{\"error_x\":{\"color\":\"#2a3f5f\"},\"error_y\":{\"color\":\"#2a3f5f\"},\"marker\":{\"line\":{\"color\":\"#E5ECF6\",\"width\":0.5},\"pattern\":{\"fillmode\":\"overlay\",\"size\":10,\"solidity\":0.2}},\"type\":\"bar\"}],\"scattergeo\":[{\"type\":\"scattergeo\",\"marker\":{\"colorbar\":{\"outlinewidth\":0,\"ticks\":\"\"}}}],\"scatterpolar\":[{\"type\":\"scatterpolar\",\"marker\":{\"colorbar\":{\"outlinewidth\":0,\"ticks\":\"\"}}}],\"histogram\":[{\"marker\":{\"pattern\":{\"fillmode\":\"overlay\",\"size\":10,\"solidity\":0.2}},\"type\":\"histogram\"}],\"scattergl\":[{\"type\":\"scattergl\",\"marker\":{\"colorbar\":{\"outlinewidth\":0,\"ticks\":\"\"}}}],\"scatter3d\":[{\"type\":\"scatter3d\",\"line\":{\"colorbar\":{\"outlinewidth\":0,\"ticks\":\"\"}},\"marker\":{\"colorbar\":{\"outlinewidth\":0,\"ticks\":\"\"}}}],\"scattermapbox\":[{\"type\":\"scattermapbox\",\"marker\":{\"colorbar\":{\"outlinewidth\":0,\"ticks\":\"\"}}}],\"scatterternary\":[{\"type\":\"scatterternary\",\"marker\":{\"colorbar\":{\"outlinewidth\":0,\"ticks\":\"\"}}}],\"scattercarpet\":[{\"type\":\"scattercarpet\",\"marker\":{\"colorbar\":{\"outlinewidth\":0,\"ticks\":\"\"}}}],\"carpet\":[{\"aaxis\":{\"endlinecolor\":\"#2a3f5f\",\"gridcolor\":\"white\",\"linecolor\":\"white\",\"minorgridcolor\":\"white\",\"startlinecolor\":\"#2a3f5f\"},\"baxis\":{\"endlinecolor\":\"#2a3f5f\",\"gridcolor\":\"white\",\"linecolor\":\"white\",\"minorgridcolor\":\"white\",\"startlinecolor\":\"#2a3f5f\"},\"type\":\"carpet\"}],\"table\":[{\"cells\":{\"fill\":{\"color\":\"#EBF0F8\"},\"line\":{\"color\":\"white\"}},\"header\":{\"fill\":{\"color\":\"#C8D4E3\"},\"line\":{\"color\":\"white\"}},\"type\":\"table\"}],\"barpolar\":[{\"marker\":{\"line\":{\"color\":\"#E5ECF6\",\"width\":0.5},\"pattern\":{\"fillmode\":\"overlay\",\"size\":10,\"solidity\":0.2}},\"type\":\"barpolar\"}],\"pie\":[{\"automargin\":true,\"type\":\"pie\"}]},\"layout\":{\"autotypenumbers\":\"strict\",\"colorway\":[\"#636efa\",\"#EF553B\",\"#00cc96\",\"#ab63fa\",\"#FFA15A\",\"#19d3f3\",\"#FF6692\",\"#B6E880\",\"#FF97FF\",\"#FECB52\"],\"font\":{\"color\":\"#2a3f5f\"},\"hovermode\":\"closest\",\"hoverlabel\":{\"align\":\"left\"},\"paper_bgcolor\":\"white\",\"plot_bgcolor\":\"#E5ECF6\",\"polar\":{\"bgcolor\":\"#E5ECF6\",\"angularaxis\":{\"gridcolor\":\"white\",\"linecolor\":\"white\",\"ticks\":\"\"},\"radialaxis\":{\"gridcolor\":\"white\",\"linecolor\":\"white\",\"ticks\":\"\"}},\"ternary\":{\"bgcolor\":\"#E5ECF6\",\"aaxis\":{\"gridcolor\":\"white\",\"linecolor\":\"white\",\"ticks\":\"\"},\"baxis\":{\"gridcolor\":\"white\",\"linecolor\":\"white\",\"ticks\":\"\"},\"caxis\":{\"gridcolor\":\"white\",\"linecolor\":\"white\",\"ticks\":\"\"}},\"coloraxis\":{\"colorbar\":{\"outlinewidth\":0,\"ticks\":\"\"}},\"colorscale\":{\"sequential\":[[0.0,\"#0d0887\"],[0.1111111111111111,\"#46039f\"],[0.2222222222222222,\"#7201a8\"],[0.3333333333333333,\"#9c179e\"],[0.4444444444444444,\"#bd3786\"],[0.5555555555555556,\"#d8576b\"],[0.6666666666666666,\"#ed7953\"],[0.7777777777777778,\"#fb9f3a\"],[0.8888888888888888,\"#fdca26\"],[1.0,\"#f0f921\"]],\"sequentialminus\":[[0.0,\"#0d0887\"],[0.1111111111111111,\"#46039f\"],[0.2222222222222222,\"#7201a8\"],[0.3333333333333333,\"#9c179e\"],[0.4444444444444444,\"#bd3786\"],[0.5555555555555556,\"#d8576b\"],[0.6666666666666666,\"#ed7953\"],[0.7777777777777778,\"#fb9f3a\"],[0.8888888888888888,\"#fdca26\"],[1.0,\"#f0f921\"]],\"diverging\":[[0,\"#8e0152\"],[0.1,\"#c51b7d\"],[0.2,\"#de77ae\"],[0.3,\"#f1b6da\"],[0.4,\"#fde0ef\"],[0.5,\"#f7f7f7\"],[0.6,\"#e6f5d0\"],[0.7,\"#b8e186\"],[0.8,\"#7fbc41\"],[0.9,\"#4d9221\"],[1,\"#276419\"]]},\"xaxis\":{\"gridcolor\":\"white\",\"linecolor\":\"white\",\"ticks\":\"\",\"title\":{\"standoff\":15},\"zerolinecolor\":\"white\",\"automargin\":true,\"zerolinewidth\":2},\"yaxis\":{\"gridcolor\":\"white\",\"linecolor\":\"white\",\"ticks\":\"\",\"title\":{\"standoff\":15},\"zerolinecolor\":\"white\",\"automargin\":true,\"zerolinewidth\":2},\"scene\":{\"xaxis\":{\"backgroundcolor\":\"#E5ECF6\",\"gridcolor\":\"white\",\"linecolor\":\"white\",\"showbackground\":true,\"ticks\":\"\",\"zerolinecolor\":\"white\",\"gridwidth\":2},\"yaxis\":{\"backgroundcolor\":\"#E5ECF6\",\"gridcolor\":\"white\",\"linecolor\":\"white\",\"showbackground\":true,\"ticks\":\"\",\"zerolinecolor\":\"white\",\"gridwidth\":2},\"zaxis\":{\"backgroundcolor\":\"#E5ECF6\",\"gridcolor\":\"white\",\"linecolor\":\"white\",\"showbackground\":true,\"ticks\":\"\",\"zerolinecolor\":\"white\",\"gridwidth\":2}},\"shapedefaults\":{\"line\":{\"color\":\"#2a3f5f\"}},\"annotationdefaults\":{\"arrowcolor\":\"#2a3f5f\",\"arrowhead\":0,\"arrowwidth\":1},\"geo\":{\"bgcolor\":\"white\",\"landcolor\":\"#E5ECF6\",\"subunitcolor\":\"white\",\"showland\":true,\"showlakes\":true,\"lakecolor\":\"white\"},\"title\":{\"x\":0.05},\"mapbox\":{\"style\":\"light\"}}},\"xaxis\":{\"anchor\":\"y\",\"domain\":[0.0,1.0],\"title\":{\"text\":\"Age\"},\"type\":\"log\"},\"yaxis\":{\"anchor\":\"x\",\"domain\":[0.0,1.0],\"title\":{\"text\":\"Fare\"}},\"legend\":{\"tracegroupgap\":0},\"margin\":{\"t\":60},\"width\":800},                        {\"responsive\": true}                    ).then(function(){\n",
       "                            \n",
       "var gd = document.getElementById('e52ef51e-0929-4212-9a7f-d274d7adcd9c');\n",
       "var x = new MutationObserver(function (mutations, observer) {{\n",
       "        var display = window.getComputedStyle(gd).display;\n",
       "        if (!display || display === 'none') {{\n",
       "            console.log([gd, 'removed!']);\n",
       "            Plotly.purge(gd);\n",
       "            observer.disconnect();\n",
       "        }}\n",
       "}});\n",
       "\n",
       "// Listen for the removal of the full notebook cells\n",
       "var notebookContainer = gd.closest('#notebook-container');\n",
       "if (notebookContainer) {{\n",
       "    x.observe(notebookContainer, {childList: true});\n",
       "}}\n",
       "\n",
       "// Listen for the clearing of the current output cell\n",
       "var outputEl = gd.closest('.output');\n",
       "if (outputEl) {{\n",
       "    x.observe(outputEl, {childList: true});\n",
       "}}\n",
       "\n",
       "                        })                };                });            </script>        </div>"
      ]
     },
     "metadata": {},
     "output_type": "display_data"
    }
   ],
   "source": [
    "#9.3\n",
    "#criar grupos utilizando K-means como forma de clustering.\n",
    "#gráfico, do tipo scatter plot, colocando “Age” e “Fare” como eixos.\n",
    "import seaborn as sns; sns.set();\n",
    "import matplotlib.pyplot as plt;\n",
    "import plotly.express as px;\n",
    "fig  = px.scatter(dftrain, x = 'Age', y = 'Fare', log_x = True, width = 800)\n",
    "fig.show()\n",
    "#RES: Posso tirar os outlier utilizando o método de John Tukey  (John Tukey, Exploratory Data Analysis, Addison-Wesley, 1977, pp. 43-44 ) em uma função."
   ]
  },
  {
   "cell_type": "code",
   "execution_count": 10,
   "id": "d9975627",
   "metadata": {
    "execution": {
     "iopub.execute_input": "2022-09-05T00:45:43.642263Z",
     "iopub.status.busy": "2022-09-05T00:45:43.641846Z",
     "iopub.status.idle": "2022-09-05T00:45:43.800250Z",
     "shell.execute_reply": "2022-09-05T00:45:43.798993Z"
    },
    "papermill": {
     "duration": 0.173469,
     "end_time": "2022-09-05T00:45:43.803381",
     "exception": false,
     "start_time": "2022-09-05T00:45:43.629912",
     "status": "completed"
    },
    "tags": []
   },
   "outputs": [
    {
     "data": {
      "text/html": [
       "<div>\n",
       "<style scoped>\n",
       "    .dataframe tbody tr th:only-of-type {\n",
       "        vertical-align: middle;\n",
       "    }\n",
       "\n",
       "    .dataframe tbody tr th {\n",
       "        vertical-align: top;\n",
       "    }\n",
       "\n",
       "    .dataframe thead th {\n",
       "        text-align: right;\n",
       "    }\n",
       "</style>\n",
       "<table border=\"1\" class=\"dataframe\">\n",
       "  <thead>\n",
       "    <tr style=\"text-align: right;\">\n",
       "      <th></th>\n",
       "      <th>Fare</th>\n",
       "      <th>Age</th>\n",
       "      <th>Grupo</th>\n",
       "    </tr>\n",
       "  </thead>\n",
       "  <tbody>\n",
       "    <tr>\n",
       "      <th>1</th>\n",
       "      <td>71.2833</td>\n",
       "      <td>38.0</td>\n",
       "      <td>2</td>\n",
       "    </tr>\n",
       "    <tr>\n",
       "      <th>3</th>\n",
       "      <td>53.1000</td>\n",
       "      <td>35.0</td>\n",
       "      <td>4</td>\n",
       "    </tr>\n",
       "    <tr>\n",
       "      <th>6</th>\n",
       "      <td>51.8625</td>\n",
       "      <td>54.0</td>\n",
       "      <td>4</td>\n",
       "    </tr>\n",
       "    <tr>\n",
       "      <th>10</th>\n",
       "      <td>16.7000</td>\n",
       "      <td>4.0</td>\n",
       "      <td>0</td>\n",
       "    </tr>\n",
       "    <tr>\n",
       "      <th>11</th>\n",
       "      <td>26.5500</td>\n",
       "      <td>58.0</td>\n",
       "      <td>3</td>\n",
       "    </tr>\n",
       "  </tbody>\n",
       "</table>\n",
       "</div>"
      ],
      "text/plain": [
       "       Fare   Age Grupo\n",
       "1   71.2833  38.0     2\n",
       "3   53.1000  35.0     4\n",
       "6   51.8625  54.0     4\n",
       "10  16.7000   4.0     0\n",
       "11  26.5500  58.0     3"
      ]
     },
     "execution_count": 10,
     "metadata": {},
     "output_type": "execute_result"
    }
   ],
   "source": [
    "#Agora será necessário criar os grupos utilizando a biblioteca K-means do sklearn\n",
    "df = dftrain.loc[dftrain[\"Fare\"] < 500, [ 'Fare','Age']]\n",
    "df\n",
    "from sklearn.cluster import KMeans\n",
    "# Create cluster feature\n",
    "kmeans = KMeans(n_clusters=6)\n",
    "df[\"Grupo\"] = kmeans.fit_predict(df)\n",
    "df[\"Grupo\"] = df[\"Grupo\"].astype(\"category\")\n",
    "\n",
    "df.head()"
   ]
  },
  {
   "cell_type": "code",
   "execution_count": 11,
   "id": "e62733c3",
   "metadata": {
    "execution": {
     "iopub.execute_input": "2022-09-05T00:45:43.827529Z",
     "iopub.status.busy": "2022-09-05T00:45:43.827087Z",
     "iopub.status.idle": "2022-09-05T00:45:43.861617Z",
     "shell.execute_reply": "2022-09-05T00:45:43.860352Z"
    },
    "papermill": {
     "duration": 0.049532,
     "end_time": "2022-09-05T00:45:43.864245",
     "exception": false,
     "start_time": "2022-09-05T00:45:43.814713",
     "status": "completed"
    },
    "tags": []
   },
   "outputs": [
    {
     "data": {
      "text/html": [
       "<div>\n",
       "<style scoped>\n",
       "    .dataframe tbody tr th:only-of-type {\n",
       "        vertical-align: middle;\n",
       "    }\n",
       "\n",
       "    .dataframe tbody tr th {\n",
       "        vertical-align: top;\n",
       "    }\n",
       "\n",
       "    .dataframe thead th {\n",
       "        text-align: right;\n",
       "    }\n",
       "</style>\n",
       "<table border=\"1\" class=\"dataframe\">\n",
       "  <thead>\n",
       "    <tr style=\"text-align: right;\">\n",
       "      <th></th>\n",
       "      <th>PassengerId</th>\n",
       "      <th>Survived</th>\n",
       "      <th>Pclass</th>\n",
       "      <th>Sex</th>\n",
       "      <th>Age</th>\n",
       "      <th>SibSp</th>\n",
       "      <th>Parch</th>\n",
       "      <th>Ticket</th>\n",
       "      <th>Fare</th>\n",
       "      <th>Cabin</th>\n",
       "      <th>Embarked</th>\n",
       "      <th>Title</th>\n",
       "      <th>Tamanho da familia</th>\n",
       "      <th>Sozinho</th>\n",
       "      <th>Grupo</th>\n",
       "    </tr>\n",
       "  </thead>\n",
       "  <tbody>\n",
       "    <tr>\n",
       "      <th>0</th>\n",
       "      <td>2</td>\n",
       "      <td>1</td>\n",
       "      <td>1</td>\n",
       "      <td>female</td>\n",
       "      <td>38.0</td>\n",
       "      <td>1</td>\n",
       "      <td>0</td>\n",
       "      <td>PC 17599</td>\n",
       "      <td>71.2833</td>\n",
       "      <td>C85</td>\n",
       "      <td>C</td>\n",
       "      <td>Mrs</td>\n",
       "      <td>1</td>\n",
       "      <td>False</td>\n",
       "      <td>2</td>\n",
       "    </tr>\n",
       "    <tr>\n",
       "      <th>1</th>\n",
       "      <td>4</td>\n",
       "      <td>1</td>\n",
       "      <td>1</td>\n",
       "      <td>female</td>\n",
       "      <td>35.0</td>\n",
       "      <td>1</td>\n",
       "      <td>0</td>\n",
       "      <td>113803</td>\n",
       "      <td>53.1000</td>\n",
       "      <td>C123</td>\n",
       "      <td>S</td>\n",
       "      <td>Mrs</td>\n",
       "      <td>1</td>\n",
       "      <td>False</td>\n",
       "      <td>4</td>\n",
       "    </tr>\n",
       "    <tr>\n",
       "      <th>2</th>\n",
       "      <td>7</td>\n",
       "      <td>0</td>\n",
       "      <td>1</td>\n",
       "      <td>male</td>\n",
       "      <td>54.0</td>\n",
       "      <td>0</td>\n",
       "      <td>0</td>\n",
       "      <td>17463</td>\n",
       "      <td>51.8625</td>\n",
       "      <td>E46</td>\n",
       "      <td>S</td>\n",
       "      <td>Mr</td>\n",
       "      <td>0</td>\n",
       "      <td>True</td>\n",
       "      <td>4</td>\n",
       "    </tr>\n",
       "    <tr>\n",
       "      <th>3</th>\n",
       "      <td>11</td>\n",
       "      <td>1</td>\n",
       "      <td>3</td>\n",
       "      <td>female</td>\n",
       "      <td>4.0</td>\n",
       "      <td>1</td>\n",
       "      <td>1</td>\n",
       "      <td>PP 9549</td>\n",
       "      <td>16.7000</td>\n",
       "      <td>G6</td>\n",
       "      <td>S</td>\n",
       "      <td>Miss</td>\n",
       "      <td>2</td>\n",
       "      <td>False</td>\n",
       "      <td>0</td>\n",
       "    </tr>\n",
       "    <tr>\n",
       "      <th>4</th>\n",
       "      <td>12</td>\n",
       "      <td>1</td>\n",
       "      <td>1</td>\n",
       "      <td>female</td>\n",
       "      <td>58.0</td>\n",
       "      <td>0</td>\n",
       "      <td>0</td>\n",
       "      <td>113783</td>\n",
       "      <td>26.5500</td>\n",
       "      <td>C103</td>\n",
       "      <td>S</td>\n",
       "      <td>Miss</td>\n",
       "      <td>0</td>\n",
       "      <td>True</td>\n",
       "      <td>3</td>\n",
       "    </tr>\n",
       "    <tr>\n",
       "      <th>...</th>\n",
       "      <td>...</td>\n",
       "      <td>...</td>\n",
       "      <td>...</td>\n",
       "      <td>...</td>\n",
       "      <td>...</td>\n",
       "      <td>...</td>\n",
       "      <td>...</td>\n",
       "      <td>...</td>\n",
       "      <td>...</td>\n",
       "      <td>...</td>\n",
       "      <td>...</td>\n",
       "      <td>...</td>\n",
       "      <td>...</td>\n",
       "      <td>...</td>\n",
       "      <td>...</td>\n",
       "    </tr>\n",
       "    <tr>\n",
       "      <th>182</th>\n",
       "      <td>872</td>\n",
       "      <td>1</td>\n",
       "      <td>1</td>\n",
       "      <td>female</td>\n",
       "      <td>47.0</td>\n",
       "      <td>1</td>\n",
       "      <td>1</td>\n",
       "      <td>11751</td>\n",
       "      <td>52.5542</td>\n",
       "      <td>D35</td>\n",
       "      <td>S</td>\n",
       "      <td>Mrs</td>\n",
       "      <td>2</td>\n",
       "      <td>False</td>\n",
       "      <td>4</td>\n",
       "    </tr>\n",
       "    <tr>\n",
       "      <th>183</th>\n",
       "      <td>873</td>\n",
       "      <td>0</td>\n",
       "      <td>1</td>\n",
       "      <td>male</td>\n",
       "      <td>33.0</td>\n",
       "      <td>0</td>\n",
       "      <td>0</td>\n",
       "      <td>695</td>\n",
       "      <td>5.0000</td>\n",
       "      <td>B51 B53 B55</td>\n",
       "      <td>S</td>\n",
       "      <td>Mr</td>\n",
       "      <td>0</td>\n",
       "      <td>True</td>\n",
       "      <td>0</td>\n",
       "    </tr>\n",
       "    <tr>\n",
       "      <th>184</th>\n",
       "      <td>880</td>\n",
       "      <td>1</td>\n",
       "      <td>1</td>\n",
       "      <td>female</td>\n",
       "      <td>56.0</td>\n",
       "      <td>0</td>\n",
       "      <td>1</td>\n",
       "      <td>11767</td>\n",
       "      <td>83.1583</td>\n",
       "      <td>C50</td>\n",
       "      <td>C</td>\n",
       "      <td>Mrs</td>\n",
       "      <td>1</td>\n",
       "      <td>False</td>\n",
       "      <td>2</td>\n",
       "    </tr>\n",
       "    <tr>\n",
       "      <th>185</th>\n",
       "      <td>888</td>\n",
       "      <td>1</td>\n",
       "      <td>1</td>\n",
       "      <td>female</td>\n",
       "      <td>19.0</td>\n",
       "      <td>0</td>\n",
       "      <td>0</td>\n",
       "      <td>112053</td>\n",
       "      <td>30.0000</td>\n",
       "      <td>B42</td>\n",
       "      <td>S</td>\n",
       "      <td>Miss</td>\n",
       "      <td>0</td>\n",
       "      <td>True</td>\n",
       "      <td>0</td>\n",
       "    </tr>\n",
       "    <tr>\n",
       "      <th>186</th>\n",
       "      <td>890</td>\n",
       "      <td>1</td>\n",
       "      <td>1</td>\n",
       "      <td>male</td>\n",
       "      <td>26.0</td>\n",
       "      <td>0</td>\n",
       "      <td>0</td>\n",
       "      <td>111369</td>\n",
       "      <td>30.0000</td>\n",
       "      <td>C148</td>\n",
       "      <td>C</td>\n",
       "      <td>Mr</td>\n",
       "      <td>0</td>\n",
       "      <td>True</td>\n",
       "      <td>0</td>\n",
       "    </tr>\n",
       "  </tbody>\n",
       "</table>\n",
       "<p>187 rows × 15 columns</p>\n",
       "</div>"
      ],
      "text/plain": [
       "     PassengerId  Survived  Pclass     Sex   Age  SibSp  Parch    Ticket  \\\n",
       "0              2         1       1  female  38.0      1      0  PC 17599   \n",
       "1              4         1       1  female  35.0      1      0    113803   \n",
       "2              7         0       1    male  54.0      0      0     17463   \n",
       "3             11         1       3  female   4.0      1      1   PP 9549   \n",
       "4             12         1       1  female  58.0      0      0    113783   \n",
       "..           ...       ...     ...     ...   ...    ...    ...       ...   \n",
       "182          872         1       1  female  47.0      1      1     11751   \n",
       "183          873         0       1    male  33.0      0      0       695   \n",
       "184          880         1       1  female  56.0      0      1     11767   \n",
       "185          888         1       1  female  19.0      0      0    112053   \n",
       "186          890         1       1    male  26.0      0      0    111369   \n",
       "\n",
       "        Fare        Cabin Embarked Title  Tamanho da familia  Sozinho Grupo  \n",
       "0    71.2833          C85        C   Mrs                   1    False     2  \n",
       "1    53.1000         C123        S   Mrs                   1    False     4  \n",
       "2    51.8625          E46        S    Mr                   0     True     4  \n",
       "3    16.7000           G6        S  Miss                   2    False     0  \n",
       "4    26.5500         C103        S  Miss                   0     True     3  \n",
       "..       ...          ...      ...   ...                 ...      ...   ...  \n",
       "182  52.5542          D35        S   Mrs                   2    False     4  \n",
       "183   5.0000  B51 B53 B55        S    Mr                   0     True     0  \n",
       "184  83.1583          C50        C   Mrs                   1    False     2  \n",
       "185  30.0000          B42        S  Miss                   0     True     0  \n",
       "186  30.0000         C148        C    Mr                   0     True     0  \n",
       "\n",
       "[187 rows x 15 columns]"
      ]
     },
     "metadata": {},
     "output_type": "display_data"
    }
   ],
   "source": [
    "#Adicionando a nova feature ao banco de dados de treino.\n",
    "treinonew = pd.merge(dftrain2, df, how = 'outer')\n",
    "display(treinonew)"
   ]
  },
  {
   "cell_type": "code",
   "execution_count": 12,
   "id": "6e12c59b",
   "metadata": {
    "execution": {
     "iopub.execute_input": "2022-09-05T00:45:43.889175Z",
     "iopub.status.busy": "2022-09-05T00:45:43.888510Z",
     "iopub.status.idle": "2022-09-05T00:45:44.409139Z",
     "shell.execute_reply": "2022-09-05T00:45:44.407943Z"
    },
    "papermill": {
     "duration": 0.53616,
     "end_time": "2022-09-05T00:45:44.411808",
     "exception": false,
     "start_time": "2022-09-05T00:45:43.875648",
     "status": "completed"
    },
    "tags": []
   },
   "outputs": [
    {
     "data": {
      "image/png": "[encoded data removed]",
      "text/plain": [
       "<Figure size 432x288 with 1 Axes>"
      ]
     },
     "metadata": {},
     "output_type": "display_data"
    }
   ],
   "source": [
    "#Construir um gráfico scatter plot que mostra a distribuição “Fare” x “Age”, tendo os grupos como camadas.\n",
    "fig2  = sns.scatterplot(data =treinonew, x = 'Age', y = 'Fare', hue ='Grupo')"
   ]
  },
  {
   "cell_type": "code",
   "execution_count": 13,
   "id": "1de3ee0a",
   "metadata": {
    "execution": {
     "iopub.execute_input": "2022-09-05T00:45:44.438825Z",
     "iopub.status.busy": "2022-09-05T00:45:44.438001Z",
     "iopub.status.idle": "2022-09-05T00:45:44.805851Z",
     "shell.execute_reply": "2022-09-05T00:45:44.804618Z"
    },
    "papermill": {
     "duration": 0.384673,
     "end_time": "2022-09-05T00:45:44.808293",
     "exception": false,
     "start_time": "2022-09-05T00:45:44.423620",
     "status": "completed"
    },
    "tags": []
   },
   "outputs": [
    {
     "data": {
      "text/plain": [
       "<AxesSubplot:xlabel='Grupo', ylabel='Survived'>"
      ]
     },
     "execution_count": 13,
     "metadata": {},
     "output_type": "execute_result"
    },
    {
     "data": {
      "image/png": "[encoded data removed]",
      "text/plain": [
       "<Figure size 432x288 with 1 Axes>"
      ]
     },
     "metadata": {},
     "output_type": "display_data"
    }
   ],
   "source": [
    "#gráfico bar chart que indique a chance de sobrevivência, em média, de cada grupo.\n",
    "sns.barplot(data=treinonew,x=\"Grupo\", y=\"Survived\")\n",
    "#Em média o grupo 5 e 3 tem mais chance de sobreviver, em média, do que os outros grupos. O 4 é o que tem menos chance."
   ]
  },
  {
   "cell_type": "code",
   "execution_count": 14,
   "id": "df2b07a8",
   "metadata": {
    "execution": {
     "iopub.execute_input": "2022-09-05T00:45:44.835155Z",
     "iopub.status.busy": "2022-09-05T00:45:44.834392Z",
     "iopub.status.idle": "2022-09-05T00:45:44.856794Z",
     "shell.execute_reply": "2022-09-05T00:45:44.855102Z"
    },
    "papermill": {
     "duration": 0.038758,
     "end_time": "2022-09-05T00:45:44.859316",
     "exception": false,
     "start_time": "2022-09-05T00:45:44.820558",
     "status": "completed"
    },
    "tags": []
   },
   "outputs": [
    {
     "data": {
      "text/html": [
       "<div>\n",
       "<style scoped>\n",
       "    .dataframe tbody tr th:only-of-type {\n",
       "        vertical-align: middle;\n",
       "    }\n",
       "\n",
       "    .dataframe tbody tr th {\n",
       "        vertical-align: top;\n",
       "    }\n",
       "\n",
       "    .dataframe thead th {\n",
       "        text-align: right;\n",
       "    }\n",
       "</style>\n",
       "<table border=\"1\" class=\"dataframe\">\n",
       "  <thead>\n",
       "    <tr style=\"text-align: right;\">\n",
       "      <th></th>\n",
       "      <th>PassengerId</th>\n",
       "      <th>Survived</th>\n",
       "      <th>Pclass</th>\n",
       "      <th>Sex</th>\n",
       "      <th>Age</th>\n",
       "      <th>SibSp</th>\n",
       "      <th>Parch</th>\n",
       "      <th>Ticket</th>\n",
       "      <th>Fare</th>\n",
       "      <th>Cabin</th>\n",
       "      <th>Embarked</th>\n",
       "      <th>Title</th>\n",
       "      <th>Tamanho da familia</th>\n",
       "      <th>Sozinho</th>\n",
       "      <th>Grupo</th>\n",
       "    </tr>\n",
       "  </thead>\n",
       "  <tbody>\n",
       "    <tr>\n",
       "      <th>142</th>\n",
       "      <td>680</td>\n",
       "      <td>1</td>\n",
       "      <td>1</td>\n",
       "      <td>male</td>\n",
       "      <td>36.0</td>\n",
       "      <td>0</td>\n",
       "      <td>1</td>\n",
       "      <td>PC 17755</td>\n",
       "      <td>512.3292</td>\n",
       "      <td>B51 B53 B55</td>\n",
       "      <td>C</td>\n",
       "      <td>Mr</td>\n",
       "      <td>1</td>\n",
       "      <td>False</td>\n",
       "      <td>NaN</td>\n",
       "    </tr>\n",
       "    <tr>\n",
       "      <th>158</th>\n",
       "      <td>738</td>\n",
       "      <td>1</td>\n",
       "      <td>1</td>\n",
       "      <td>male</td>\n",
       "      <td>35.0</td>\n",
       "      <td>0</td>\n",
       "      <td>0</td>\n",
       "      <td>PC 17755</td>\n",
       "      <td>512.3292</td>\n",
       "      <td>B101</td>\n",
       "      <td>C</td>\n",
       "      <td>Mr</td>\n",
       "      <td>0</td>\n",
       "      <td>True</td>\n",
       "      <td>NaN</td>\n",
       "    </tr>\n",
       "  </tbody>\n",
       "</table>\n",
       "</div>"
      ],
      "text/plain": [
       "     PassengerId  Survived  Pclass   Sex   Age  SibSp  Parch    Ticket  \\\n",
       "142          680         1       1  male  36.0      0      1  PC 17755   \n",
       "158          738         1       1  male  35.0      0      0  PC 17755   \n",
       "\n",
       "         Fare        Cabin Embarked Title  Tamanho da familia  Sozinho Grupo  \n",
       "142  512.3292  B51 B53 B55        C    Mr                   1    False   NaN  \n",
       "158  512.3292         B101        C    Mr                   0     True   NaN  "
      ]
     },
     "metadata": {},
     "output_type": "display_data"
    }
   ],
   "source": [
    "rt = treinonew.loc[treinonew['Grupo'].isna(),:]\n",
    "treinonew['Grupo'] = treinonew['Grupo'].fillna(3)\n",
    "display(rt)"
   ]
  },
  {
   "cell_type": "code",
   "execution_count": 15,
   "id": "2bf6dcc5",
   "metadata": {
    "execution": {
     "iopub.execute_input": "2022-09-05T00:45:44.888012Z",
     "iopub.status.busy": "2022-09-05T00:45:44.887149Z",
     "iopub.status.idle": "2022-09-05T00:45:44.936958Z",
     "shell.execute_reply": "2022-09-05T00:45:44.934619Z"
    },
    "papermill": {
     "duration": 0.068721,
     "end_time": "2022-09-05T00:45:44.940387",
     "exception": false,
     "start_time": "2022-09-05T00:45:44.871666",
     "status": "completed"
    },
    "tags": []
   },
   "outputs": [
    {
     "name": "stdout",
     "output_type": "stream",
     "text": [
      "Sex                   0.137458\n",
      "Title                 0.095714\n",
      "Age                   0.074615\n",
      "Embarked              0.050092\n",
      "Fare                  0.049192\n",
      "Grupo                 0.016215\n",
      "SibSp                 0.004012\n",
      "Parch                 0.000000\n",
      "Pclass                0.000000\n",
      "Tamanho da familia    0.000000\n",
      "Sozinho               0.000000\n",
      "Name: MI Scores, dtype: float64\n"
     ]
    },
    {
     "name": "stderr",
     "output_type": "stream",
     "text": [
      "/opt/conda/lib/python3.7/site-packages/ipykernel_launcher.py:6: SettingWithCopyWarning:\n",
      "\n",
      "\n",
      "A value is trying to be set on a copy of a slice from a DataFrame.\n",
      "Try using .loc[row_indexer,col_indexer] = value instead\n",
      "\n",
      "See the caveats in the documentation: https://pandas.pydata.org/pandas-docs/stable/user_guide/indexing.html#returning-a-view-versus-a-copy\n",
      "\n",
      "/opt/conda/lib/python3.7/site-packages/sklearn/utils/validation.py:976: FutureWarning:\n",
      "\n",
      "Arrays of bytes/strings is being converted to decimal numbers if dtype='numeric'. This behavior is deprecated in 0.24 and will be removed in 1.1 (renaming of 0.26). Please convert your data to numeric values explicitly instead.\n",
      "\n"
     ]
    }
   ],
   "source": [
    "#utilizando mutual information, se a nova feature é significativa para a previsão do target\n",
    "targetw = treinonew['Survived']\n",
    "xx = treinonew[['Age', 'SibSp', 'Parch', 'Fare', 'Sex', 'Embarked', 'Pclass','Title','Tamanho da familia','Sozinho','Grupo']]\n",
    "# Label encoding for categoricals\n",
    "for colnames in xx.select_dtypes(\"object\"):\n",
    "    xx[colnames], _ = xx[colnames].factorize()\n",
    "    disct= 'auto'#xx[['Pclass', 'Sex', 'SibSp', 'Parch', 'Embarked','Title','Sozinho']]# Label encoding for categoricals\n",
    "def make_mi_scores(X, target, disc):\n",
    "    mi_scores = mutual_info_classif(X, target, discrete_features=disc)\n",
    "    mi_scores = pd.Series(mi_scores, name=\"MI Scores\", index=X.columns)\n",
    "    mi_scores = mi_scores.sort_values(ascending=False)\n",
    "    return mi_scores\n",
    "mi_scoresss = make_mi_scores(xx, targetw, disct)\n",
    "print(mi_scoresss)  # show a few features with their MI scores"
   ]
  },
  {
   "cell_type": "code",
   "execution_count": 16,
   "id": "ca0c5ff9",
   "metadata": {
    "execution": {
     "iopub.execute_input": "2022-09-05T00:45:44.969117Z",
     "iopub.status.busy": "2022-09-05T00:45:44.968574Z",
     "iopub.status.idle": "2022-09-05T00:45:44.992777Z",
     "shell.execute_reply": "2022-09-05T00:45:44.991165Z"
    },
    "papermill": {
     "duration": 0.041121,
     "end_time": "2022-09-05T00:45:44.995161",
     "exception": false,
     "start_time": "2022-09-05T00:45:44.954040",
     "status": "completed"
    },
    "tags": []
   },
   "outputs": [
    {
     "name": "stdout",
     "output_type": "stream",
     "text": [
      "MinMaxScaler()\n"
     ]
    },
    {
     "data": {
      "text/html": [
       "<div>\n",
       "<style scoped>\n",
       "    .dataframe tbody tr th:only-of-type {\n",
       "        vertical-align: middle;\n",
       "    }\n",
       "\n",
       "    .dataframe tbody tr th {\n",
       "        vertical-align: top;\n",
       "    }\n",
       "\n",
       "    .dataframe thead th {\n",
       "        text-align: right;\n",
       "    }\n",
       "</style>\n",
       "<table border=\"1\" class=\"dataframe\">\n",
       "  <thead>\n",
       "    <tr style=\"text-align: right;\">\n",
       "      <th></th>\n",
       "      <th>Age</th>\n",
       "      <th>Fare</th>\n",
       "    </tr>\n",
       "  </thead>\n",
       "  <tbody>\n",
       "    <tr>\n",
       "      <th>0</th>\n",
       "      <td>0.468892</td>\n",
       "      <td>0.139136</td>\n",
       "    </tr>\n",
       "    <tr>\n",
       "      <th>1</th>\n",
       "      <td>0.430956</td>\n",
       "      <td>0.103644</td>\n",
       "    </tr>\n",
       "    <tr>\n",
       "      <th>2</th>\n",
       "      <td>0.671219</td>\n",
       "      <td>0.101229</td>\n",
       "    </tr>\n",
       "    <tr>\n",
       "      <th>3</th>\n",
       "      <td>0.038948</td>\n",
       "      <td>0.032596</td>\n",
       "    </tr>\n",
       "    <tr>\n",
       "      <th>4</th>\n",
       "      <td>0.721801</td>\n",
       "      <td>0.051822</td>\n",
       "    </tr>\n",
       "  </tbody>\n",
       "</table>\n",
       "</div>"
      ],
      "text/plain": [
       "        Age      Fare\n",
       "0  0.468892  0.139136\n",
       "1  0.430956  0.103644\n",
       "2  0.671219  0.101229\n",
       "3  0.038948  0.032596\n",
       "4  0.721801  0.051822"
      ]
     },
     "execution_count": 16,
     "metadata": {},
     "output_type": "execute_result"
    }
   ],
   "source": [
    "#Scaling das features “Age” e “Fare”, entre 0 e 1\n",
    "from sklearn.preprocessing import MinMaxScaler\n",
    "scaler = MinMaxScaler()\n",
    "print(scaler.fit(treinonew[['Age','Fare']]))\n",
    "scaled_data=scaler.transform(treinonew[['Age','Fare']])\n",
    "dff = pd.DataFrame(data=treinonew,columns=[\"Age\",\"Fare\"])\n",
    "scaled_df = pd.DataFrame(data=scaled_data,columns=dff.columns)\n",
    "scaled_df.head()\n"
   ]
  },
  {
   "cell_type": "code",
   "execution_count": 17,
   "id": "055b51ad",
   "metadata": {
    "execution": {
     "iopub.execute_input": "2022-09-05T00:45:45.022618Z",
     "iopub.status.busy": "2022-09-05T00:45:45.022168Z",
     "iopub.status.idle": "2022-09-05T00:45:45.332266Z",
     "shell.execute_reply": "2022-09-05T00:45:45.331082Z"
    },
    "papermill": {
     "duration": 0.327062,
     "end_time": "2022-09-05T00:45:45.334786",
     "exception": false,
     "start_time": "2022-09-05T00:45:45.007724",
     "status": "completed"
    },
    "tags": []
   },
   "outputs": [
    {
     "data": {
      "image/png": "[encoded data removed]",
      "text/plain": [
       "<Figure size 432x288 with 1 Axes>"
      ]
     },
     "metadata": {},
     "output_type": "display_data"
    }
   ],
   "source": [
    "#Fazer um histograma com a coluna “Age” do novo dataframe.\n",
    "his=sns.histplot(data=scaled_df, x=\"Age\", kde=True)"
   ]
  },
  {
   "cell_type": "code",
   "execution_count": 18,
   "id": "df5b405e",
   "metadata": {
    "execution": {
     "iopub.execute_input": "2022-09-05T00:45:45.362706Z",
     "iopub.status.busy": "2022-09-05T00:45:45.362241Z",
     "iopub.status.idle": "2022-09-05T00:45:45.687109Z",
     "shell.execute_reply": "2022-09-05T00:45:45.685818Z"
    },
    "papermill": {
     "duration": 0.342475,
     "end_time": "2022-09-05T00:45:45.690245",
     "exception": false,
     "start_time": "2022-09-05T00:45:45.347770",
     "status": "completed"
    },
    "tags": []
   },
   "outputs": [
    {
     "data": {
      "image/png": "[encoded data removed]",
      "text/plain": [
       "<Figure size 432x288 with 1 Axes>"
      ]
     },
     "metadata": {},
     "output_type": "display_data"
    }
   ],
   "source": [
    "#Fazer um histograma com a coluna “Fare” do novo dataframe.\n",
    "hist=sns.histplot(data=scaled_df, x=\"Fare\", kde=True)"
   ]
  },
  {
   "cell_type": "code",
   "execution_count": 19,
   "id": "5ab6f0ea",
   "metadata": {
    "execution": {
     "iopub.execute_input": "2022-09-05T00:45:45.719031Z",
     "iopub.status.busy": "2022-09-05T00:45:45.718629Z",
     "iopub.status.idle": "2022-09-05T00:45:45.753431Z",
     "shell.execute_reply": "2022-09-05T00:45:45.751693Z"
    },
    "papermill": {
     "duration": 0.052655,
     "end_time": "2022-09-05T00:45:45.756397",
     "exception": false,
     "start_time": "2022-09-05T00:45:45.703742",
     "status": "completed"
    },
    "tags": []
   },
   "outputs": [
    {
     "data": {
      "text/html": [
       "<div>\n",
       "<style scoped>\n",
       "    .dataframe tbody tr th:only-of-type {\n",
       "        vertical-align: middle;\n",
       "    }\n",
       "\n",
       "    .dataframe tbody tr th {\n",
       "        vertical-align: top;\n",
       "    }\n",
       "\n",
       "    .dataframe thead th {\n",
       "        text-align: right;\n",
       "    }\n",
       "</style>\n",
       "<table border=\"1\" class=\"dataframe\">\n",
       "  <thead>\n",
       "    <tr style=\"text-align: right;\">\n",
       "      <th></th>\n",
       "      <th>PC1</th>\n",
       "      <th>PC2</th>\n",
       "    </tr>\n",
       "  </thead>\n",
       "  <tbody>\n",
       "    <tr>\n",
       "      <th>0</th>\n",
       "      <td>-0.183828</td>\n",
       "      <td>0.039120</td>\n",
       "    </tr>\n",
       "    <tr>\n",
       "      <th>1</th>\n",
       "      <td>-0.217121</td>\n",
       "      <td>-0.267511</td>\n",
       "    </tr>\n",
       "    <tr>\n",
       "      <th>2</th>\n",
       "      <td>-1.094259</td>\n",
       "      <td>0.586493</td>\n",
       "    </tr>\n",
       "    <tr>\n",
       "      <th>3</th>\n",
       "      <td>0.854890</td>\n",
       "      <td>-2.019995</td>\n",
       "    </tr>\n",
       "    <tr>\n",
       "      <th>4</th>\n",
       "      <td>-1.513085</td>\n",
       "      <td>0.532119</td>\n",
       "    </tr>\n",
       "  </tbody>\n",
       "</table>\n",
       "</div>"
      ],
      "text/plain": [
       "        PC1       PC2\n",
       "0 -0.183828  0.039120\n",
       "1 -0.217121 -0.267511\n",
       "2 -1.094259  0.586493\n",
       "3  0.854890 -2.019995\n",
       "4 -1.513085  0.532119"
      ]
     },
     "execution_count": 19,
     "metadata": {},
     "output_type": "execute_result"
    }
   ],
   "source": [
    "#Realizar o PCA no dataframe com features escaladas\n",
    "features = [\"Age\", \"Fare\"]\n",
    "X = scaled_df.copy()\n",
    "#y = X['Age']\n",
    "X = X.loc[:, features]\n",
    "\n",
    "# Standardize\n",
    "X_scaled = (X - X.mean(axis=0)) / X.std(axis=0)\n",
    "from sklearn.decomposition import PCA\n",
    "\n",
    "# Create principal components\n",
    "pca = PCA()\n",
    "X_pca = pca.fit_transform(X_scaled)\n",
    "\n",
    "# Convert to dataframe\n",
    "component_names = [f\"PC{i+1}\" for i in range(X_pca.shape[1])]\n",
    "X_pca = pd.DataFrame(X_pca, columns=component_names)\n",
    "\n",
    "X_pca.head()\n",
    "#RES:As duas colunas tem em comum muitos valores negativos"
   ]
  },
  {
   "cell_type": "code",
   "execution_count": 20,
   "id": "fd00e80b",
   "metadata": {
    "execution": {
     "iopub.execute_input": "2022-09-05T00:45:45.785168Z",
     "iopub.status.busy": "2022-09-05T00:45:45.784696Z",
     "iopub.status.idle": "2022-09-05T00:45:45.798463Z",
     "shell.execute_reply": "2022-09-05T00:45:45.797316Z"
    },
    "papermill": {
     "duration": 0.031542,
     "end_time": "2022-09-05T00:45:45.801498",
     "exception": false,
     "start_time": "2022-09-05T00:45:45.769956",
     "status": "completed"
    },
    "tags": []
   },
   "outputs": [
    {
     "data": {
      "text/html": [
       "<div>\n",
       "<style scoped>\n",
       "    .dataframe tbody tr th:only-of-type {\n",
       "        vertical-align: middle;\n",
       "    }\n",
       "\n",
       "    .dataframe tbody tr th {\n",
       "        vertical-align: top;\n",
       "    }\n",
       "\n",
       "    .dataframe thead th {\n",
       "        text-align: right;\n",
       "    }\n",
       "</style>\n",
       "<table border=\"1\" class=\"dataframe\">\n",
       "  <thead>\n",
       "    <tr style=\"text-align: right;\">\n",
       "      <th></th>\n",
       "      <th>PC1</th>\n",
       "      <th>PC2</th>\n",
       "    </tr>\n",
       "  </thead>\n",
       "  <tbody>\n",
       "    <tr>\n",
       "      <th>Age</th>\n",
       "      <td>-0.707107</td>\n",
       "      <td>0.707107</td>\n",
       "    </tr>\n",
       "    <tr>\n",
       "      <th>Fare</th>\n",
       "      <td>0.707107</td>\n",
       "      <td>0.707107</td>\n",
       "    </tr>\n",
       "  </tbody>\n",
       "</table>\n",
       "</div>"
      ],
      "text/plain": [
       "           PC1       PC2\n",
       "Age  -0.707107  0.707107\n",
       "Fare  0.707107  0.707107"
      ]
     },
     "execution_count": 20,
     "metadata": {},
     "output_type": "execute_result"
    }
   ],
   "source": [
    "#Agora, o último passo será avaliar a nova feature criada pelo PCA, utilizando o mesmo\n",
    "#processo encontrado no curso de feature engineering do kaggle, no capítulo Principal\n",
    "#Component Analysis. É viável, com essas técnicas, a substituição das features “Fare”\n",
    "#e “Age” por apenas uma?\n",
    "loadings = pd.DataFrame(\n",
    "    pca.components_.T,  # transpose the matrix of loadings\n",
    "    columns=component_names,  # so the columns are the principal components\n",
    "    index=X.columns,  # and the rows are the original features\n",
    ")\n",
    "loadings"
   ]
  },
  {
   "cell_type": "code",
   "execution_count": 21,
   "id": "9209c3e4",
   "metadata": {
    "execution": {
     "iopub.execute_input": "2022-09-05T00:45:45.832495Z",
     "iopub.status.busy": "2022-09-05T00:45:45.832067Z",
     "iopub.status.idle": "2022-09-05T00:45:45.851299Z",
     "shell.execute_reply": "2022-09-05T00:45:45.850245Z"
    },
    "papermill": {
     "duration": 0.038308,
     "end_time": "2022-09-05T00:45:45.853952",
     "exception": false,
     "start_time": "2022-09-05T00:45:45.815644",
     "status": "completed"
    },
    "tags": []
   },
   "outputs": [
    {
     "data": {
      "text/plain": [
       "PC1    0.048469\n",
       "PC2    0.013307\n",
       "Name: MI Scores, dtype: float64"
      ]
     },
     "execution_count": 21,
     "metadata": {},
     "output_type": "execute_result"
    }
   ],
   "source": [
    "def make_mi_scores(X,target):\n",
    "    mi_scores = mutual_info_classif(X,target)\n",
    "    mi_scores = pd.Series(mi_scores, name=\"MI Scores\", index=X.columns)\n",
    "    mi_scores = mi_scores.sort_values(ascending=False)\n",
    "    return mi_scores\n",
    "mi_scores = make_mi_scores(X_pca,targetw)\n",
    "mi_scores"
   ]
  },
  {
   "cell_type": "code",
   "execution_count": 22,
   "id": "55dc9576",
   "metadata": {
    "execution": {
     "iopub.execute_input": "2022-09-05T00:45:45.884829Z",
     "iopub.status.busy": "2022-09-05T00:45:45.884020Z",
     "iopub.status.idle": "2022-09-05T00:45:45.900636Z",
     "shell.execute_reply": "2022-09-05T00:45:45.899490Z"
    },
    "papermill": {
     "duration": 0.035412,
     "end_time": "2022-09-05T00:45:45.903199",
     "exception": false,
     "start_time": "2022-09-05T00:45:45.867787",
     "status": "completed"
    },
    "tags": []
   },
   "outputs": [
    {
     "data": {
      "text/html": [
       "<div>\n",
       "<style scoped>\n",
       "    .dataframe tbody tr th:only-of-type {\n",
       "        vertical-align: middle;\n",
       "    }\n",
       "\n",
       "    .dataframe tbody tr th {\n",
       "        vertical-align: top;\n",
       "    }\n",
       "\n",
       "    .dataframe thead th {\n",
       "        text-align: right;\n",
       "    }\n",
       "</style>\n",
       "<table border=\"1\" class=\"dataframe\">\n",
       "  <thead>\n",
       "    <tr style=\"text-align: right;\">\n",
       "      <th></th>\n",
       "      <th>Age</th>\n",
       "      <th>Fare</th>\n",
       "    </tr>\n",
       "  </thead>\n",
       "  <tbody>\n",
       "    <tr>\n",
       "      <th>158</th>\n",
       "      <td>0.430956</td>\n",
       "      <td>1.000000</td>\n",
       "    </tr>\n",
       "    <tr>\n",
       "      <th>142</th>\n",
       "      <td>0.443601</td>\n",
       "      <td>1.000000</td>\n",
       "    </tr>\n",
       "    <tr>\n",
       "      <th>59</th>\n",
       "      <td>0.215984</td>\n",
       "      <td>0.512122</td>\n",
       "    </tr>\n",
       "    <tr>\n",
       "      <th>7</th>\n",
       "      <td>0.228629</td>\n",
       "      <td>0.513342</td>\n",
       "    </tr>\n",
       "    <tr>\n",
       "      <th>160</th>\n",
       "      <td>0.253920</td>\n",
       "      <td>0.512122</td>\n",
       "    </tr>\n",
       "    <tr>\n",
       "      <th>...</th>\n",
       "      <td>...</td>\n",
       "      <td>...</td>\n",
       "    </tr>\n",
       "    <tr>\n",
       "      <th>161</th>\n",
       "      <td>0.873546</td>\n",
       "      <td>0.138583</td>\n",
       "    </tr>\n",
       "    <tr>\n",
       "      <th>43</th>\n",
       "      <td>0.772382</td>\n",
       "      <td>0.051822</td>\n",
       "    </tr>\n",
       "    <tr>\n",
       "      <th>97</th>\n",
       "      <td>0.810319</td>\n",
       "      <td>0.051822</td>\n",
       "    </tr>\n",
       "    <tr>\n",
       "      <th>15</th>\n",
       "      <td>0.886191</td>\n",
       "      <td>0.067640</td>\n",
       "    </tr>\n",
       "    <tr>\n",
       "      <th>135</th>\n",
       "      <td>1.000000</td>\n",
       "      <td>0.058556</td>\n",
       "    </tr>\n",
       "  </tbody>\n",
       "</table>\n",
       "<p>187 rows × 2 columns</p>\n",
       "</div>"
      ],
      "text/plain": [
       "          Age      Fare\n",
       "158  0.430956  1.000000\n",
       "142  0.443601  1.000000\n",
       "59   0.215984  0.512122\n",
       "7    0.228629  0.513342\n",
       "160  0.253920  0.512122\n",
       "..        ...       ...\n",
       "161  0.873546  0.138583\n",
       "43   0.772382  0.051822\n",
       "97   0.810319  0.051822\n",
       "15   0.886191  0.067640\n",
       "135  1.000000  0.058556\n",
       "\n",
       "[187 rows x 2 columns]"
      ]
     },
     "execution_count": 22,
     "metadata": {},
     "output_type": "execute_result"
    }
   ],
   "source": [
    "# Show dataframe sorted by PC1\n",
    "target=dftrain['Survived']\n",
    "idx = X_pca[\"PC1\"].sort_values(ascending=False).index\n",
    "cols = [\"Age\", \"Fare\"]\n",
    "scaled_df.loc[idx, cols]"
   ]
  },
  {
   "cell_type": "code",
   "execution_count": 23,
   "id": "125d0dba",
   "metadata": {
    "execution": {
     "iopub.execute_input": "2022-09-05T00:45:45.933622Z",
     "iopub.status.busy": "2022-09-05T00:45:45.932371Z",
     "iopub.status.idle": "2022-09-05T00:45:46.414799Z",
     "shell.execute_reply": "2022-09-05T00:45:46.413475Z"
    },
    "papermill": {
     "duration": 0.500274,
     "end_time": "2022-09-05T00:45:46.417338",
     "exception": false,
     "start_time": "2022-09-05T00:45:45.917064",
     "status": "completed"
    },
    "tags": []
   },
   "outputs": [
    {
     "data": {
      "image/png": "[encoded data removed]",
      "text/plain": [
       "<Figure size 432x288 with 1 Axes>"
      ]
     },
     "metadata": {},
     "output_type": "display_data"
    }
   ],
   "source": [
    "treinonewww = pd.merge(scaled_df, treinonew, how = 'outer')\n",
    "scaled_df[\"Age\"] = X.Age / X.Fare\n",
    "sns.regplot(x=\"Age\", y='Survived', data=treinonewww, order=2);\n",
    "#RES:Não foi viavel "
   ]
  },
  {
   "cell_type": "code",
   "execution_count": 24,
   "id": "4cf6b56c",
   "metadata": {
    "execution": {
     "iopub.execute_input": "2022-09-05T00:45:46.450900Z",
     "iopub.status.busy": "2022-09-05T00:45:46.448319Z",
     "iopub.status.idle": "2022-09-05T00:45:47.220288Z",
     "shell.execute_reply": "2022-09-05T00:45:47.219059Z"
    },
    "papermill": {
     "duration": 0.790913,
     "end_time": "2022-09-05T00:45:47.222836",
     "exception": false,
     "start_time": "2022-09-05T00:45:46.431923",
     "status": "completed"
    },
    "tags": []
   },
   "outputs": [
    {
     "name": "stderr",
     "output_type": "stream",
     "text": [
      "/opt/conda/lib/python3.7/site-packages/seaborn/distributions.py:2619: FutureWarning:\n",
      "\n",
      "`distplot` is a deprecated function and will be removed in a future version. Please adapt your code to use either `displot` (a figure-level function with similar flexibility) or `histplot` (an axes-level function for histograms).\n",
      "\n"
     ]
    },
    {
     "data": {
      "image/png": "[encoded data removed]",
      "text/plain": [
       "<Figure size 540x360 with 1 Axes>"
      ]
     },
     "metadata": {},
     "output_type": "display_data"
    }
   ],
   "source": [
    "#9.4 - Target Encoding\n",
    "#Encoding da feature “Title”\n",
    "X = treinonew.copy()\n",
    "y = X.pop('Survived')\n",
    "\n",
    "X_encode = X.sample(frac=0.25)\n",
    "y_encode = y[X_encode.index]\n",
    "X_pretrain = X.drop(X_encode.index)\n",
    "y_train = y[X_pretrain.index]\n",
    "from category_encoders import MEstimateEncoder\n",
    "\n",
    "# Create the encoder instance. Choose m to control noise.\n",
    "encoder = MEstimateEncoder(cols=[\"Title\"], m=5.0)\n",
    "\n",
    "# Fit the encoder on the encoding split.\n",
    "encoder.fit(X_encode, y_encode)\n",
    "\n",
    "# Encode the Zipcode column to create the final training data\n",
    "X_train = encoder.transform(X_pretrain)\n",
    "plt.figure(dpi=90)\n",
    "ax = sns.distplot(y, kde=False, norm_hist=True)\n",
    "#Plot da distribuição dos valores codificados\n",
    "ax = sns.kdeplot(X_train.Title, color='r', ax=ax)\n",
    "ax.set_xlabel(\"Survived\")\n",
    "ax.legend(labels=['Title', 'Survived']);\n"
   ]
  },
  {
   "cell_type": "code",
   "execution_count": 25,
   "id": "fd247103",
   "metadata": {
    "execution": {
     "iopub.execute_input": "2022-09-05T00:45:47.256523Z",
     "iopub.status.busy": "2022-09-05T00:45:47.255304Z",
     "iopub.status.idle": "2022-09-05T00:45:47.556174Z",
     "shell.execute_reply": "2022-09-05T00:45:47.555105Z"
    },
    "papermill": {
     "duration": 0.320935,
     "end_time": "2022-09-05T00:45:47.558981",
     "exception": false,
     "start_time": "2022-09-05T00:45:47.238046",
     "status": "completed"
    },
    "tags": []
   },
   "outputs": [
    {
     "data": {
      "image/png": "[encoded data removed]",
      "text/plain": [
       "<Figure size 432x288 with 1 Axes>"
      ]
     },
     "metadata": {},
     "output_type": "display_data"
    }
   ],
   "source": [
    "histtt=sns.histplot(data=dftrain, x=\"Survived\", kde=True)"
   ]
  }
 ],
 "metadata": {
  "kernelspec": {
   "display_name": "Python 3",
   "language": "python",
   "name": "python3"
  },
  "language_info": {
   "codemirror_mode": {
    "name": "ipython",
    "version": 3
   },
   "file_extension": ".py",
   "mimetype": "text/x-python",
   "name": "python",
   "nbconvert_exporter": "python",
   "pygments_lexer": "ipython3",
   "version": "3.7.12"
  },
  "papermill": {
   "default_parameters": {},
   "duration": 21.590672,
   "end_time": "2022-09-05T00:45:48.602950",
   "environment_variables": {},
   "exception": null,
   "input_path": "__notebook__.ipynb",
   "output_path": "__notebook__.ipynb",
   "parameters": {},
   "start_time": "2022-09-05T00:45:27.012278",
   "version": "2.3.4"
  }
 },
 "nbformat": 4,
 "nbformat_minor": 5
}
