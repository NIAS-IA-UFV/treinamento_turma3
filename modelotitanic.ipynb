{
 "cells": [
  {
   "cell_type": "code",
   "execution_count": 1,
   "id": "e673a1fd",
   "metadata": {
    "_cell_guid": "b1076dfc-b9ad-4769-8c92-a6c4dae69d19",
    "_uuid": "8f2839f25d086af736a60e9eeb907d3b93b6e0e5",
    "execution": {
     "iopub.execute_input": "2022-08-24T20:41:50.756937Z",
     "iopub.status.busy": "2022-08-24T20:41:50.756419Z",
     "iopub.status.idle": "2022-08-24T20:41:52.093989Z",
     "shell.execute_reply": "2022-08-24T20:41:52.092146Z"
    },
    "papermill": {
     "duration": 1.347986,
     "end_time": "2022-08-24T20:41:52.097125",
     "exception": false,
     "start_time": "2022-08-24T20:41:50.749139",
     "status": "completed"
    },
    "tags": []
   },
   "outputs": [
    {
     "name": "stdout",
     "output_type": "stream",
     "text": [
      "/kaggle/input/titanic/train.csv\n",
      "/kaggle/input/titanic/test.csv\n",
      "/kaggle/input/titanic/gender_submission.csv\n"
     ]
    }
   ],
   "source": [
    "import numpy as np # linear algebra\n",
    "import pandas as pd # data processing, CSV file I/O (e.g. pd.read_csv)\n",
    "import seaborn as sns\n",
    "import matplotlib.pyplot as plt\n",
    "%matplotlib inline\n",
    "np.random.seed(0)\n",
    "\n",
    "# Input data files are available in the read-only \"../input/\" directory\n",
    "# For example, running this (by clicking run or pressing Shift+Enter) will list all files under the input directory\n",
    "import os\n",
    "for dirname, _, filenames in os.walk('/kaggle/input'):\n",
    "    for filename in filenames:\n",
    "        print(os.path.join(dirname, filename))"
   ]
  },
  {
   "cell_type": "code",
   "execution_count": 2,
   "id": "4388ba88",
   "metadata": {
    "execution": {
     "iopub.execute_input": "2022-08-24T20:41:52.108861Z",
     "iopub.status.busy": "2022-08-24T20:41:52.108368Z",
     "iopub.status.idle": "2022-08-24T20:41:52.201374Z",
     "shell.execute_reply": "2022-08-24T20:41:52.199467Z"
    },
    "papermill": {
     "duration": 0.102481,
     "end_time": "2022-08-24T20:41:52.204633",
     "exception": false,
     "start_time": "2022-08-24T20:41:52.102152",
     "status": "completed"
    },
    "tags": []
   },
   "outputs": [
    {
     "name": "stdout",
     "output_type": "stream",
     "text": [
      "<class 'pandas.core.frame.DataFrame'>\n",
      "RangeIndex: 891 entries, 0 to 890\n",
      "Data columns (total 12 columns):\n",
      " #   Column       Non-Null Count  Dtype  \n",
      "---  ------       --------------  -----  \n",
      " 0   PassengerId  891 non-null    int64  \n",
      " 1   Survived     891 non-null    int64  \n",
      " 2   Pclass       891 non-null    int64  \n",
      " 3   Name         891 non-null    object \n",
      " 4   Sex          891 non-null    object \n",
      " 5   Age          714 non-null    float64\n",
      " 6   SibSp        891 non-null    int64  \n",
      " 7   Parch        891 non-null    int64  \n",
      " 8   Ticket       891 non-null    object \n",
      " 9   Fare         891 non-null    float64\n",
      " 10  Cabin        204 non-null    object \n",
      " 11  Embarked     889 non-null    object \n",
      "dtypes: float64(2), int64(5), object(5)\n",
      "memory usage: 83.7+ KB\n"
     ]
    },
    {
     "data": {
      "text/html": [
       "<div>\n",
       "<style scoped>\n",
       "    .dataframe tbody tr th:only-of-type {\n",
       "        vertical-align: middle;\n",
       "    }\n",
       "\n",
       "    .dataframe tbody tr th {\n",
       "        vertical-align: top;\n",
       "    }\n",
       "\n",
       "    .dataframe thead th {\n",
       "        text-align: right;\n",
       "    }\n",
       "</style>\n",
       "<table border=\"1\" class=\"dataframe\">\n",
       "  <thead>\n",
       "    <tr style=\"text-align: right;\">\n",
       "      <th></th>\n",
       "      <th>PassengerId</th>\n",
       "      <th>Survived</th>\n",
       "      <th>Pclass</th>\n",
       "      <th>Name</th>\n",
       "      <th>Sex</th>\n",
       "      <th>Age</th>\n",
       "      <th>SibSp</th>\n",
       "      <th>Parch</th>\n",
       "      <th>Ticket</th>\n",
       "      <th>Fare</th>\n",
       "      <th>Cabin</th>\n",
       "      <th>Embarked</th>\n",
       "    </tr>\n",
       "  </thead>\n",
       "  <tbody>\n",
       "    <tr>\n",
       "      <th>0</th>\n",
       "      <td>1</td>\n",
       "      <td>0</td>\n",
       "      <td>3</td>\n",
       "      <td>Braund, Mr. Owen Harris</td>\n",
       "      <td>male</td>\n",
       "      <td>22.0</td>\n",
       "      <td>1</td>\n",
       "      <td>0</td>\n",
       "      <td>A/5 21171</td>\n",
       "      <td>7.2500</td>\n",
       "      <td>NaN</td>\n",
       "      <td>S</td>\n",
       "    </tr>\n",
       "    <tr>\n",
       "      <th>1</th>\n",
       "      <td>2</td>\n",
       "      <td>1</td>\n",
       "      <td>1</td>\n",
       "      <td>Cumings, Mrs. John Bradley (Florence Briggs Th...</td>\n",
       "      <td>female</td>\n",
       "      <td>38.0</td>\n",
       "      <td>1</td>\n",
       "      <td>0</td>\n",
       "      <td>PC 17599</td>\n",
       "      <td>71.2833</td>\n",
       "      <td>C85</td>\n",
       "      <td>C</td>\n",
       "    </tr>\n",
       "    <tr>\n",
       "      <th>2</th>\n",
       "      <td>3</td>\n",
       "      <td>1</td>\n",
       "      <td>3</td>\n",
       "      <td>Heikkinen, Miss. Laina</td>\n",
       "      <td>female</td>\n",
       "      <td>26.0</td>\n",
       "      <td>0</td>\n",
       "      <td>0</td>\n",
       "      <td>STON/O2. 3101282</td>\n",
       "      <td>7.9250</td>\n",
       "      <td>NaN</td>\n",
       "      <td>S</td>\n",
       "    </tr>\n",
       "    <tr>\n",
       "      <th>3</th>\n",
       "      <td>4</td>\n",
       "      <td>1</td>\n",
       "      <td>1</td>\n",
       "      <td>Futrelle, Mrs. Jacques Heath (Lily May Peel)</td>\n",
       "      <td>female</td>\n",
       "      <td>35.0</td>\n",
       "      <td>1</td>\n",
       "      <td>0</td>\n",
       "      <td>113803</td>\n",
       "      <td>53.1000</td>\n",
       "      <td>C123</td>\n",
       "      <td>S</td>\n",
       "    </tr>\n",
       "    <tr>\n",
       "      <th>4</th>\n",
       "      <td>5</td>\n",
       "      <td>0</td>\n",
       "      <td>3</td>\n",
       "      <td>Allen, Mr. William Henry</td>\n",
       "      <td>male</td>\n",
       "      <td>35.0</td>\n",
       "      <td>0</td>\n",
       "      <td>0</td>\n",
       "      <td>373450</td>\n",
       "      <td>8.0500</td>\n",
       "      <td>NaN</td>\n",
       "      <td>S</td>\n",
       "    </tr>\n",
       "    <tr>\n",
       "      <th>...</th>\n",
       "      <td>...</td>\n",
       "      <td>...</td>\n",
       "      <td>...</td>\n",
       "      <td>...</td>\n",
       "      <td>...</td>\n",
       "      <td>...</td>\n",
       "      <td>...</td>\n",
       "      <td>...</td>\n",
       "      <td>...</td>\n",
       "      <td>...</td>\n",
       "      <td>...</td>\n",
       "      <td>...</td>\n",
       "    </tr>\n",
       "    <tr>\n",
       "      <th>886</th>\n",
       "      <td>887</td>\n",
       "      <td>0</td>\n",
       "      <td>2</td>\n",
       "      <td>Montvila, Rev. Juozas</td>\n",
       "      <td>male</td>\n",
       "      <td>27.0</td>\n",
       "      <td>0</td>\n",
       "      <td>0</td>\n",
       "      <td>211536</td>\n",
       "      <td>13.0000</td>\n",
       "      <td>NaN</td>\n",
       "      <td>S</td>\n",
       "    </tr>\n",
       "    <tr>\n",
       "      <th>887</th>\n",
       "      <td>888</td>\n",
       "      <td>1</td>\n",
       "      <td>1</td>\n",
       "      <td>Graham, Miss. Margaret Edith</td>\n",
       "      <td>female</td>\n",
       "      <td>19.0</td>\n",
       "      <td>0</td>\n",
       "      <td>0</td>\n",
       "      <td>112053</td>\n",
       "      <td>30.0000</td>\n",
       "      <td>B42</td>\n",
       "      <td>S</td>\n",
       "    </tr>\n",
       "    <tr>\n",
       "      <th>888</th>\n",
       "      <td>889</td>\n",
       "      <td>0</td>\n",
       "      <td>3</td>\n",
       "      <td>Johnston, Miss. Catherine Helen \"Carrie\"</td>\n",
       "      <td>female</td>\n",
       "      <td>NaN</td>\n",
       "      <td>1</td>\n",
       "      <td>2</td>\n",
       "      <td>W./C. 6607</td>\n",
       "      <td>23.4500</td>\n",
       "      <td>NaN</td>\n",
       "      <td>S</td>\n",
       "    </tr>\n",
       "    <tr>\n",
       "      <th>889</th>\n",
       "      <td>890</td>\n",
       "      <td>1</td>\n",
       "      <td>1</td>\n",
       "      <td>Behr, Mr. Karl Howell</td>\n",
       "      <td>male</td>\n",
       "      <td>26.0</td>\n",
       "      <td>0</td>\n",
       "      <td>0</td>\n",
       "      <td>111369</td>\n",
       "      <td>30.0000</td>\n",
       "      <td>C148</td>\n",
       "      <td>C</td>\n",
       "    </tr>\n",
       "    <tr>\n",
       "      <th>890</th>\n",
       "      <td>891</td>\n",
       "      <td>0</td>\n",
       "      <td>3</td>\n",
       "      <td>Dooley, Mr. Patrick</td>\n",
       "      <td>male</td>\n",
       "      <td>32.0</td>\n",
       "      <td>0</td>\n",
       "      <td>0</td>\n",
       "      <td>370376</td>\n",
       "      <td>7.7500</td>\n",
       "      <td>NaN</td>\n",
       "      <td>Q</td>\n",
       "    </tr>\n",
       "  </tbody>\n",
       "</table>\n",
       "<p>891 rows × 12 columns</p>\n",
       "</div>"
      ],
      "text/plain": [
       "     PassengerId  Survived  Pclass  \\\n",
       "0              1         0       3   \n",
       "1              2         1       1   \n",
       "2              3         1       3   \n",
       "3              4         1       1   \n",
       "4              5         0       3   \n",
       "..           ...       ...     ...   \n",
       "886          887         0       2   \n",
       "887          888         1       1   \n",
       "888          889         0       3   \n",
       "889          890         1       1   \n",
       "890          891         0       3   \n",
       "\n",
       "                                                  Name     Sex   Age  SibSp  \\\n",
       "0                              Braund, Mr. Owen Harris    male  22.0      1   \n",
       "1    Cumings, Mrs. John Bradley (Florence Briggs Th...  female  38.0      1   \n",
       "2                               Heikkinen, Miss. Laina  female  26.0      0   \n",
       "3         Futrelle, Mrs. Jacques Heath (Lily May Peel)  female  35.0      1   \n",
       "4                             Allen, Mr. William Henry    male  35.0      0   \n",
       "..                                                 ...     ...   ...    ...   \n",
       "886                              Montvila, Rev. Juozas    male  27.0      0   \n",
       "887                       Graham, Miss. Margaret Edith  female  19.0      0   \n",
       "888           Johnston, Miss. Catherine Helen \"Carrie\"  female   NaN      1   \n",
       "889                              Behr, Mr. Karl Howell    male  26.0      0   \n",
       "890                                Dooley, Mr. Patrick    male  32.0      0   \n",
       "\n",
       "     Parch            Ticket     Fare Cabin Embarked  \n",
       "0        0         A/5 21171   7.2500   NaN        S  \n",
       "1        0          PC 17599  71.2833   C85        C  \n",
       "2        0  STON/O2. 3101282   7.9250   NaN        S  \n",
       "3        0            113803  53.1000  C123        S  \n",
       "4        0            373450   8.0500   NaN        S  \n",
       "..     ...               ...      ...   ...      ...  \n",
       "886      0            211536  13.0000   NaN        S  \n",
       "887      0            112053  30.0000   B42        S  \n",
       "888      2        W./C. 6607  23.4500   NaN        S  \n",
       "889      0            111369  30.0000  C148        C  \n",
       "890      0            370376   7.7500   NaN        Q  \n",
       "\n",
       "[891 rows x 12 columns]"
      ]
     },
     "metadata": {},
     "output_type": "display_data"
    }
   ],
   "source": [
    "# criando os dataframes\n",
    "dftreino = pd.read_csv(\"../input/titanic/train.csv\")\n",
    "dfteste = pd.read_csv(\"../input/titanic/test.csv\")\n",
    "dftreino.info()\n",
    "# Features númericas discretas = SibSp, Parch\n",
    "# Features númericas contínuas = Age, Fare\n",
    "features = ['Survived','Age','SibSp','Parch','Fare']\n",
    "# Features categóricas = resto\n",
    "display(dftreino)"
   ]
  },
  {
   "cell_type": "code",
   "execution_count": 3,
   "id": "524caf15",
   "metadata": {
    "execution": {
     "iopub.execute_input": "2022-08-24T20:41:52.216426Z",
     "iopub.status.busy": "2022-08-24T20:41:52.215992Z",
     "iopub.status.idle": "2022-08-24T20:41:52.253944Z",
     "shell.execute_reply": "2022-08-24T20:41:52.252434Z"
    },
    "papermill": {
     "duration": 0.04716,
     "end_time": "2022-08-24T20:41:52.256945",
     "exception": false,
     "start_time": "2022-08-24T20:41:52.209785",
     "status": "completed"
    },
    "tags": []
   },
   "outputs": [
    {
     "data": {
      "text/html": [
       "<div>\n",
       "<style scoped>\n",
       "    .dataframe tbody tr th:only-of-type {\n",
       "        vertical-align: middle;\n",
       "    }\n",
       "\n",
       "    .dataframe tbody tr th {\n",
       "        vertical-align: top;\n",
       "    }\n",
       "\n",
       "    .dataframe thead th {\n",
       "        text-align: right;\n",
       "    }\n",
       "</style>\n",
       "<table border=\"1\" class=\"dataframe\">\n",
       "  <thead>\n",
       "    <tr style=\"text-align: right;\">\n",
       "      <th></th>\n",
       "      <th>PassengerId</th>\n",
       "      <th>Survived</th>\n",
       "      <th>Pclass</th>\n",
       "      <th>Age</th>\n",
       "      <th>SibSp</th>\n",
       "      <th>Parch</th>\n",
       "      <th>Fare</th>\n",
       "    </tr>\n",
       "  </thead>\n",
       "  <tbody>\n",
       "    <tr>\n",
       "      <th>count</th>\n",
       "      <td>891.000000</td>\n",
       "      <td>891.000000</td>\n",
       "      <td>891.000000</td>\n",
       "      <td>714.000000</td>\n",
       "      <td>891.000000</td>\n",
       "      <td>891.000000</td>\n",
       "      <td>891.000000</td>\n",
       "    </tr>\n",
       "    <tr>\n",
       "      <th>mean</th>\n",
       "      <td>446.000000</td>\n",
       "      <td>0.383838</td>\n",
       "      <td>2.308642</td>\n",
       "      <td>29.699118</td>\n",
       "      <td>0.523008</td>\n",
       "      <td>0.381594</td>\n",
       "      <td>32.204208</td>\n",
       "    </tr>\n",
       "    <tr>\n",
       "      <th>std</th>\n",
       "      <td>257.353842</td>\n",
       "      <td>0.486592</td>\n",
       "      <td>0.836071</td>\n",
       "      <td>14.526497</td>\n",
       "      <td>1.102743</td>\n",
       "      <td>0.806057</td>\n",
       "      <td>49.693429</td>\n",
       "    </tr>\n",
       "    <tr>\n",
       "      <th>min</th>\n",
       "      <td>1.000000</td>\n",
       "      <td>0.000000</td>\n",
       "      <td>1.000000</td>\n",
       "      <td>0.420000</td>\n",
       "      <td>0.000000</td>\n",
       "      <td>0.000000</td>\n",
       "      <td>0.000000</td>\n",
       "    </tr>\n",
       "    <tr>\n",
       "      <th>25%</th>\n",
       "      <td>223.500000</td>\n",
       "      <td>0.000000</td>\n",
       "      <td>2.000000</td>\n",
       "      <td>20.125000</td>\n",
       "      <td>0.000000</td>\n",
       "      <td>0.000000</td>\n",
       "      <td>7.910400</td>\n",
       "    </tr>\n",
       "    <tr>\n",
       "      <th>50%</th>\n",
       "      <td>446.000000</td>\n",
       "      <td>0.000000</td>\n",
       "      <td>3.000000</td>\n",
       "      <td>28.000000</td>\n",
       "      <td>0.000000</td>\n",
       "      <td>0.000000</td>\n",
       "      <td>14.454200</td>\n",
       "    </tr>\n",
       "    <tr>\n",
       "      <th>75%</th>\n",
       "      <td>668.500000</td>\n",
       "      <td>1.000000</td>\n",
       "      <td>3.000000</td>\n",
       "      <td>38.000000</td>\n",
       "      <td>1.000000</td>\n",
       "      <td>0.000000</td>\n",
       "      <td>31.000000</td>\n",
       "    </tr>\n",
       "    <tr>\n",
       "      <th>max</th>\n",
       "      <td>891.000000</td>\n",
       "      <td>1.000000</td>\n",
       "      <td>3.000000</td>\n",
       "      <td>80.000000</td>\n",
       "      <td>8.000000</td>\n",
       "      <td>6.000000</td>\n",
       "      <td>512.329200</td>\n",
       "    </tr>\n",
       "  </tbody>\n",
       "</table>\n",
       "</div>"
      ],
      "text/plain": [
       "       PassengerId    Survived      Pclass         Age       SibSp  \\\n",
       "count   891.000000  891.000000  891.000000  714.000000  891.000000   \n",
       "mean    446.000000    0.383838    2.308642   29.699118    0.523008   \n",
       "std     257.353842    0.486592    0.836071   14.526497    1.102743   \n",
       "min       1.000000    0.000000    1.000000    0.420000    0.000000   \n",
       "25%     223.500000    0.000000    2.000000   20.125000    0.000000   \n",
       "50%     446.000000    0.000000    3.000000   28.000000    0.000000   \n",
       "75%     668.500000    1.000000    3.000000   38.000000    1.000000   \n",
       "max     891.000000    1.000000    3.000000   80.000000    8.000000   \n",
       "\n",
       "            Parch        Fare  \n",
       "count  891.000000  891.000000  \n",
       "mean     0.381594   32.204208  \n",
       "std      0.806057   49.693429  \n",
       "min      0.000000    0.000000  \n",
       "25%      0.000000    7.910400  \n",
       "50%      0.000000   14.454200  \n",
       "75%      0.000000   31.000000  \n",
       "max      6.000000  512.329200  "
      ]
     },
     "execution_count": 3,
     "metadata": {},
     "output_type": "execute_result"
    }
   ],
   "source": [
    "dftreino.describe()"
   ]
  },
  {
   "cell_type": "markdown",
   "id": "ba04b6fc",
   "metadata": {
    "papermill": {
     "duration": 0.004958,
     "end_time": "2022-08-24T20:41:52.267378",
     "exception": false,
     "start_time": "2022-08-24T20:41:52.262420",
     "status": "completed"
    },
    "tags": []
   },
   "source": [
    "Informações estatísticas"
   ]
  },
  {
   "cell_type": "code",
   "execution_count": 4,
   "id": "433dd838",
   "metadata": {
    "execution": {
     "iopub.execute_input": "2022-08-24T20:41:52.280115Z",
     "iopub.status.busy": "2022-08-24T20:41:52.279448Z",
     "iopub.status.idle": "2022-08-24T20:41:52.291715Z",
     "shell.execute_reply": "2022-08-24T20:41:52.290500Z"
    },
    "papermill": {
     "duration": 0.02202,
     "end_time": "2022-08-24T20:41:52.294725",
     "exception": false,
     "start_time": "2022-08-24T20:41:52.272705",
     "status": "completed"
    },
    "tags": []
   },
   "outputs": [
    {
     "data": {
      "text/plain": [
       "PassengerId      0\n",
       "Survived         0\n",
       "Pclass           0\n",
       "Name             0\n",
       "Sex              0\n",
       "Age            177\n",
       "SibSp            0\n",
       "Parch            0\n",
       "Ticket           0\n",
       "Fare             0\n",
       "Cabin          687\n",
       "Embarked         2\n",
       "dtype: int64"
      ]
     },
     "execution_count": 4,
     "metadata": {},
     "output_type": "execute_result"
    }
   ],
   "source": [
    "dftreino.isnull().sum()\n",
    "# 177 NaN em Age e 687 em Cabin"
   ]
  },
  {
   "cell_type": "code",
   "execution_count": 5,
   "id": "2bef6707",
   "metadata": {
    "execution": {
     "iopub.execute_input": "2022-08-24T20:41:52.307167Z",
     "iopub.status.busy": "2022-08-24T20:41:52.306718Z",
     "iopub.status.idle": "2022-08-24T20:41:52.320090Z",
     "shell.execute_reply": "2022-08-24T20:41:52.319066Z"
    },
    "papermill": {
     "duration": 0.022505,
     "end_time": "2022-08-24T20:41:52.322438",
     "exception": false,
     "start_time": "2022-08-24T20:41:52.299933",
     "status": "completed"
    },
    "tags": []
   },
   "outputs": [],
   "source": [
    "# separando apenas as features de cada dataframe\n",
    "treino = dftreino.loc[:,features]\n",
    "teste = dfteste.loc[:,['Age','SibSp','Parch','Fare']]\n",
    "\n",
    "# dropando os NaN do df de treino e trocando por 0 no de teste\n",
    "treino = treino.dropna()\n",
    "treino.isnull().sum()\n",
    "teste = teste.fillna(0)"
   ]
  },
  {
   "cell_type": "code",
   "execution_count": 6,
   "id": "d6893b75",
   "metadata": {
    "execution": {
     "iopub.execute_input": "2022-08-24T20:41:52.334636Z",
     "iopub.status.busy": "2022-08-24T20:41:52.334232Z",
     "iopub.status.idle": "2022-08-24T20:41:52.815017Z",
     "shell.execute_reply": "2022-08-24T20:41:52.813713Z"
    },
    "papermill": {
     "duration": 0.49021,
     "end_time": "2022-08-24T20:41:52.817871",
     "exception": false,
     "start_time": "2022-08-24T20:41:52.327661",
     "status": "completed"
    },
    "tags": []
   },
   "outputs": [
    {
     "data": {
      "text/html": [
       "<div>\n",
       "<style scoped>\n",
       "    .dataframe tbody tr th:only-of-type {\n",
       "        vertical-align: middle;\n",
       "    }\n",
       "\n",
       "    .dataframe tbody tr th {\n",
       "        vertical-align: top;\n",
       "    }\n",
       "\n",
       "    .dataframe thead th {\n",
       "        text-align: right;\n",
       "    }\n",
       "</style>\n",
       "<table border=\"1\" class=\"dataframe\">\n",
       "  <thead>\n",
       "    <tr style=\"text-align: right;\">\n",
       "      <th></th>\n",
       "      <th>Survived</th>\n",
       "      <th>Age</th>\n",
       "      <th>SibSp</th>\n",
       "      <th>Parch</th>\n",
       "      <th>Fare</th>\n",
       "      <th>AgeGrp</th>\n",
       "    </tr>\n",
       "  </thead>\n",
       "  <tbody>\n",
       "    <tr>\n",
       "      <th>0</th>\n",
       "      <td>0</td>\n",
       "      <td>22.0</td>\n",
       "      <td>1</td>\n",
       "      <td>0</td>\n",
       "      <td>7.2500</td>\n",
       "      <td>Estudante</td>\n",
       "    </tr>\n",
       "    <tr>\n",
       "      <th>1</th>\n",
       "      <td>1</td>\n",
       "      <td>38.0</td>\n",
       "      <td>1</td>\n",
       "      <td>0</td>\n",
       "      <td>71.2833</td>\n",
       "      <td>Adulto</td>\n",
       "    </tr>\n",
       "    <tr>\n",
       "      <th>2</th>\n",
       "      <td>1</td>\n",
       "      <td>26.0</td>\n",
       "      <td>0</td>\n",
       "      <td>0</td>\n",
       "      <td>7.9250</td>\n",
       "      <td>Jovem Adulto</td>\n",
       "    </tr>\n",
       "    <tr>\n",
       "      <th>3</th>\n",
       "      <td>1</td>\n",
       "      <td>35.0</td>\n",
       "      <td>1</td>\n",
       "      <td>0</td>\n",
       "      <td>53.1000</td>\n",
       "      <td>Jovem Adulto</td>\n",
       "    </tr>\n",
       "    <tr>\n",
       "      <th>4</th>\n",
       "      <td>0</td>\n",
       "      <td>35.0</td>\n",
       "      <td>0</td>\n",
       "      <td>0</td>\n",
       "      <td>8.0500</td>\n",
       "      <td>Jovem Adulto</td>\n",
       "    </tr>\n",
       "    <tr>\n",
       "      <th>...</th>\n",
       "      <td>...</td>\n",
       "      <td>...</td>\n",
       "      <td>...</td>\n",
       "      <td>...</td>\n",
       "      <td>...</td>\n",
       "      <td>...</td>\n",
       "    </tr>\n",
       "    <tr>\n",
       "      <th>885</th>\n",
       "      <td>0</td>\n",
       "      <td>39.0</td>\n",
       "      <td>0</td>\n",
       "      <td>5</td>\n",
       "      <td>29.1250</td>\n",
       "      <td>Adulto</td>\n",
       "    </tr>\n",
       "    <tr>\n",
       "      <th>886</th>\n",
       "      <td>0</td>\n",
       "      <td>27.0</td>\n",
       "      <td>0</td>\n",
       "      <td>0</td>\n",
       "      <td>13.0000</td>\n",
       "      <td>Jovem Adulto</td>\n",
       "    </tr>\n",
       "    <tr>\n",
       "      <th>887</th>\n",
       "      <td>1</td>\n",
       "      <td>19.0</td>\n",
       "      <td>0</td>\n",
       "      <td>0</td>\n",
       "      <td>30.0000</td>\n",
       "      <td>Estudante</td>\n",
       "    </tr>\n",
       "    <tr>\n",
       "      <th>889</th>\n",
       "      <td>1</td>\n",
       "      <td>26.0</td>\n",
       "      <td>0</td>\n",
       "      <td>0</td>\n",
       "      <td>30.0000</td>\n",
       "      <td>Jovem Adulto</td>\n",
       "    </tr>\n",
       "    <tr>\n",
       "      <th>890</th>\n",
       "      <td>0</td>\n",
       "      <td>32.0</td>\n",
       "      <td>0</td>\n",
       "      <td>0</td>\n",
       "      <td>7.7500</td>\n",
       "      <td>Jovem Adulto</td>\n",
       "    </tr>\n",
       "  </tbody>\n",
       "</table>\n",
       "<p>714 rows × 6 columns</p>\n",
       "</div>"
      ],
      "text/plain": [
       "     Survived   Age  SibSp  Parch     Fare        AgeGrp\n",
       "0           0  22.0      1      0   7.2500     Estudante\n",
       "1           1  38.0      1      0  71.2833        Adulto\n",
       "2           1  26.0      0      0   7.9250  Jovem Adulto\n",
       "3           1  35.0      1      0  53.1000  Jovem Adulto\n",
       "4           0  35.0      0      0   8.0500  Jovem Adulto\n",
       "..        ...   ...    ...    ...      ...           ...\n",
       "885         0  39.0      0      5  29.1250        Adulto\n",
       "886         0  27.0      0      0  13.0000  Jovem Adulto\n",
       "887         1  19.0      0      0  30.0000     Estudante\n",
       "889         1  26.0      0      0  30.0000  Jovem Adulto\n",
       "890         0  32.0      0      0   7.7500  Jovem Adulto\n",
       "\n",
       "[714 rows x 6 columns]"
      ]
     },
     "metadata": {},
     "output_type": "display_data"
    },
    {
     "data": {
      "text/plain": [
       "<AxesSubplot:xlabel='AgeGrp', ylabel='Survived'>"
      ]
     },
     "execution_count": 6,
     "metadata": {},
     "output_type": "execute_result"
    },
    {
     "data": {
      "image/png": "[encoded data removed]",
      "text/plain": [
       "<Figure size 720x432 with 1 Axes>"
      ]
     },
     "metadata": {
      "needs_background": "light"
     },
     "output_type": "display_data"
    }
   ],
   "source": [
    "# separando as idades em grupos e as classificando\n",
    "intvs = [0,5,12,18,24,35,60,np.inf] #bins\n",
    "grupos = ['Bebê', 'Criança', 'Adolescente', 'Estudante', 'Jovem Adulto', 'Adulto', 'Idoso'] #labels\n",
    "treino['AgeGrp'] = pd.cut(treino['Age'],intvs,labels = grupos) \n",
    "#teste['AgeGrp'] = pd.cut(treino['Age'],intvs,labels = grupos) ignore\n",
    "display(treino)\n",
    "\n",
    "\n",
    "plt.figure(figsize=(10,6))\n",
    "sns.barplot(data=treino,x='AgeGrp',y='Survived') "
   ]
  },
  {
   "cell_type": "markdown",
   "id": "39b1c4f4",
   "metadata": {
    "papermill": {
     "duration": 0.005557,
     "end_time": "2022-08-24T20:41:52.829496",
     "exception": false,
     "start_time": "2022-08-24T20:41:52.823939",
     "status": "completed"
    },
    "tags": []
   },
   "source": [
    "Bebês tinham a maior chance de sobreviver"
   ]
  },
  {
   "cell_type": "code",
   "execution_count": 7,
   "id": "e9dd7cfd",
   "metadata": {
    "execution": {
     "iopub.execute_input": "2022-08-24T20:41:52.845171Z",
     "iopub.status.busy": "2022-08-24T20:41:52.842920Z",
     "iopub.status.idle": "2022-08-24T20:41:53.211017Z",
     "shell.execute_reply": "2022-08-24T20:41:53.210148Z"
    },
    "papermill": {
     "duration": 0.378103,
     "end_time": "2022-08-24T20:41:53.213469",
     "exception": false,
     "start_time": "2022-08-24T20:41:52.835366",
     "status": "completed"
    },
    "tags": []
   },
   "outputs": [
    {
     "data": {
      "text/plain": [
       "Text(0.5, 0, 'Número de pais/filhos')"
      ]
     },
     "execution_count": 7,
     "metadata": {},
     "output_type": "execute_result"
    },
    {
     "data": {
      "image/png": "[encoded data removed]",
      "text/plain": [
       "<Figure size 432x288 with 1 Axes>"
      ]
     },
     "metadata": {
      "needs_background": "light"
     },
     "output_type": "display_data"
    }
   ],
   "source": [
    "sns.barplot(data=treino,x = 'Parch',y='Survived')\n",
    "plt.xlabel(\"Número de pais/filhos\")"
   ]
  },
  {
   "cell_type": "markdown",
   "id": "43d90746",
   "metadata": {
    "papermill": {
     "duration": 0.005678,
     "end_time": "2022-08-24T20:41:53.225194",
     "exception": false,
     "start_time": "2022-08-24T20:41:53.219516",
     "status": "completed"
    },
    "tags": []
   },
   "source": [
    "Pessoas com 3 pais ou filhos tinham mais chance de sobreviver"
   ]
  },
  {
   "cell_type": "code",
   "execution_count": 8,
   "id": "50f76839",
   "metadata": {
    "execution": {
     "iopub.execute_input": "2022-08-24T20:41:53.240105Z",
     "iopub.status.busy": "2022-08-24T20:41:53.239238Z",
     "iopub.status.idle": "2022-08-24T20:41:53.596979Z",
     "shell.execute_reply": "2022-08-24T20:41:53.595996Z"
    },
    "papermill": {
     "duration": 0.367661,
     "end_time": "2022-08-24T20:41:53.599314",
     "exception": false,
     "start_time": "2022-08-24T20:41:53.231653",
     "status": "completed"
    },
    "tags": []
   },
   "outputs": [
    {
     "data": {
      "text/plain": [
       "Text(0.5, 0, 'Número de irmãos/esposo(a)')"
      ]
     },
     "execution_count": 8,
     "metadata": {},
     "output_type": "execute_result"
    },
    {
     "data": {
      "image/png": "[encoded data removed]",
      "text/plain": [
       "<Figure size 432x288 with 1 Axes>"
      ]
     },
     "metadata": {
      "needs_background": "light"
     },
     "output_type": "display_data"
    }
   ],
   "source": [
    "sns.barplot(data=treino,x = 'SibSp',y='Survived')\n",
    "plt.xlabel(\"Número de irmãos/esposo(a)\")"
   ]
  },
  {
   "cell_type": "markdown",
   "id": "45533cd5",
   "metadata": {
    "papermill": {
     "duration": 0.006104,
     "end_time": "2022-08-24T20:41:53.612016",
     "exception": false,
     "start_time": "2022-08-24T20:41:53.605912",
     "status": "completed"
    },
    "tags": []
   },
   "source": [
    "Pessoas com 1 irmão ou esposa tinham mais chance de sobreviver"
   ]
  },
  {
   "cell_type": "code",
   "execution_count": 9,
   "id": "6131703d",
   "metadata": {
    "execution": {
     "iopub.execute_input": "2022-08-24T20:41:53.627216Z",
     "iopub.status.busy": "2022-08-24T20:41:53.626533Z",
     "iopub.status.idle": "2022-08-24T20:41:53.895535Z",
     "shell.execute_reply": "2022-08-24T20:41:53.894281Z"
    },
    "papermill": {
     "duration": 0.279912,
     "end_time": "2022-08-24T20:41:53.898370",
     "exception": false,
     "start_time": "2022-08-24T20:41:53.618458",
     "status": "completed"
    },
    "tags": []
   },
   "outputs": [],
   "source": [
    "# dividindo o dataframe de treino em train e validation\n",
    "from sklearn.model_selection import train_test_split\n",
    "\n",
    "X = treino.drop(['Survived','AgeGrp'],axis = 1)\n",
    "target = treino[\"Survived\"]\n",
    "train_X, val_X, train_y, val_y = train_test_split(X, target,test_size=0.20, random_state = 0)"
   ]
  },
  {
   "cell_type": "code",
   "execution_count": 10,
   "id": "2f9f4f81",
   "metadata": {
    "execution": {
     "iopub.execute_input": "2022-08-24T20:41:53.913007Z",
     "iopub.status.busy": "2022-08-24T20:41:53.912593Z",
     "iopub.status.idle": "2022-08-24T20:41:54.403956Z",
     "shell.execute_reply": "2022-08-24T20:41:54.402696Z"
    },
    "papermill": {
     "duration": 0.502086,
     "end_time": "2022-08-24T20:41:54.406922",
     "exception": false,
     "start_time": "2022-08-24T20:41:53.904836",
     "status": "completed"
    },
    "tags": []
   },
   "outputs": [
    {
     "data": {
      "text/plain": [
       "0.6503496503496503"
      ]
     },
     "execution_count": 10,
     "metadata": {},
     "output_type": "execute_result"
    }
   ],
   "source": [
    "# treinando o modelo\n",
    "from sklearn.ensemble import RandomForestClassifier\n",
    "from sklearn.metrics import accuracy_score\n",
    "\n",
    "modelo_titanic = RandomForestClassifier()\n",
    "modelo_titanic.fit(train_X,train_y)\n",
    "predt = modelo_titanic.predict(val_X)\n",
    "accuracy_score(predt,val_y)"
   ]
  },
  {
   "cell_type": "code",
   "execution_count": 11,
   "id": "3d073176",
   "metadata": {
    "execution": {
     "iopub.execute_input": "2022-08-24T20:41:54.422769Z",
     "iopub.status.busy": "2022-08-24T20:41:54.422278Z",
     "iopub.status.idle": "2022-08-24T20:41:54.458095Z",
     "shell.execute_reply": "2022-08-24T20:41:54.456724Z"
    },
    "papermill": {
     "duration": 0.047633,
     "end_time": "2022-08-24T20:41:54.461497",
     "exception": false,
     "start_time": "2022-08-24T20:41:54.413864",
     "status": "completed"
    },
    "tags": []
   },
   "outputs": [],
   "source": [
    "# Treinando utilizando o banco de dados completo\n",
    "ind = dfteste['PassengerId']\n",
    "predf = modelo_titanic.predict(teste)\n",
    "\n",
    "output = pd.DataFrame({'PassengerId' : ind,'Survived' : predf })\n",
    "output.to_csv('submission.csv',index = False)"
   ]
  }
 ],
 "metadata": {
  "kernelspec": {
   "display_name": "Python 3",
   "language": "python",
   "name": "python3"
  },
  "language_info": {
   "codemirror_mode": {
    "name": "ipython",
    "version": 3
   },
   "file_extension": ".py",
   "mimetype": "text/x-python",
   "name": "python",
   "nbconvert_exporter": "python",
   "pygments_lexer": "ipython3",
   "version": "3.7.12"
  },
  "papermill": {
   "default_parameters": {},
   "duration": 14.544109,
   "end_time": "2022-08-24T20:41:55.295750",
   "environment_variables": {},
   "exception": null,
   "input_path": "__notebook__.ipynb",
   "output_path": "__notebook__.ipynb",
   "parameters": {},
   "start_time": "2022-08-24T20:41:40.751641",
   "version": "2.3.4"
  }
 },
 "nbformat": 4,
 "nbformat_minor": 5
}
