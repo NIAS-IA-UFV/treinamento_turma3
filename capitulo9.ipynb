{
 "cells": [
  {
   "cell_type": "code",
   "execution_count": 1,
   "id": "c8c77002",
   "metadata": {
    "_cell_guid": "b1076dfc-b9ad-4769-8c92-a6c4dae69d19",
    "_uuid": "8f2839f25d086af736a60e9eeb907d3b93b6e0e5",
    "execution": {
     "iopub.execute_input": "2022-09-07T17:21:04.107111Z",
     "iopub.status.busy": "2022-09-07T17:21:04.106725Z",
     "iopub.status.idle": "2022-09-07T17:21:05.007891Z",
     "shell.execute_reply": "2022-09-07T17:21:05.006525Z"
    },
    "papermill": {
     "duration": 0.911117,
     "end_time": "2022-09-07T17:21:05.010018",
     "exception": false,
     "start_time": "2022-09-07T17:21:04.098901",
     "status": "completed"
    },
    "tags": []
   },
   "outputs": [
    {
     "name": "stdout",
     "output_type": "stream",
     "text": [
      "/kaggle/input/titanic/train.csv\n",
      "/kaggle/input/titanic/test.csv\n",
      "/kaggle/input/titanic/gender_submission.csv\n"
     ]
    }
   ],
   "source": [
    "import numpy as np # linear algebra\n",
    "import pandas as pd # data processing, CSV file I/O (e.g. pd.read_csv)\n",
    "import matplotlib.pyplot as plt\n",
    "import numpy as np\n",
    "import pandas as pd\n",
    "import seaborn as sns\n",
    "\n",
    "import os\n",
    "for dirname, _, filenames in os.walk('/kaggle/input'):\n",
    "    for filename in filenames:\n",
    "        print(os.path.join(dirname, filename))\n"
   ]
  },
  {
   "cell_type": "code",
   "execution_count": 2,
   "id": "7577fb0d",
   "metadata": {
    "execution": {
     "iopub.execute_input": "2022-09-07T17:21:05.023136Z",
     "iopub.status.busy": "2022-09-07T17:21:05.022292Z",
     "iopub.status.idle": "2022-09-07T17:21:05.341423Z",
     "shell.execute_reply": "2022-09-07T17:21:05.340461Z"
    },
    "papermill": {
     "duration": 0.327968,
     "end_time": "2022-09-07T17:21:05.343775",
     "exception": false,
     "start_time": "2022-09-07T17:21:05.015807",
     "status": "completed"
    },
    "tags": []
   },
   "outputs": [],
   "source": [
    "treino = pd.read_csv(\"../input/titanic/train.csv\")\n",
    "from sklearn.feature_selection import mutual_info_classif\n",
    "from sklearn.feature_selection import mutual_info_regression\n",
    "teste = treino.drop(['Name','Ticket','Cabin','PassengerId'],axis =1)\n",
    "teste = teste.fillna('median')\n",
    "y = teste.pop('Survived')\n",
    "teste = teste.loc[:,['Sex','SibSp','Parch','Embarked','Pclass','Age','Fare']]\n",
    "#discretefeatures = ['Sex','SibSp','Parch','Embarked','Pclass']\n",
    "#discrete_features = teste.dtypes == int\n",
    "features = ['Age','Fare']\n",
    "for colname in teste.select_dtypes(\"object\"):\n",
    "    teste[colname], _ = teste[colname].factorize()\n",
    "\n",
    "discrete_features = teste.dtypes == int    \n",
    "       \n",
    "def miplot(dataframe,target,discfeat):\n",
    "    mi_scores = mutual_info_classif(dataframe, target, discrete_features=discfeat)\n",
    "    mi_scores = pd.Series(mi_scores, name=\"MI Scores\", index=dataframe.columns) #gera uma série com os scores\n",
    "    mi_scores = mi_scores.sort_values(ascending=False)\n",
    "    \n",
    "    scores = mi_scores.sort_values(ascending=True)\n",
    "    width = np.arange(len(scores))\n",
    "    ticks = list(scores.index)\n",
    "    plt.barh(width, scores) #plota um gráfico com os scores das features\n",
    "    plt.yticks(width, ticks)\n",
    "    plt.title(\"Mutual Information Scores\")\n",
    "    \n",
    "    return mi_scores\n",
    "    "
   ]
  },
  {
   "cell_type": "code",
   "execution_count": 3,
   "id": "a84375e5",
   "metadata": {
    "execution": {
     "iopub.execute_input": "2022-09-07T17:21:05.356753Z",
     "iopub.status.busy": "2022-09-07T17:21:05.355913Z",
     "iopub.status.idle": "2022-09-07T17:21:05.362864Z",
     "shell.execute_reply": "2022-09-07T17:21:05.361982Z"
    },
    "papermill": {
     "duration": 0.015217,
     "end_time": "2022-09-07T17:21:05.364731",
     "exception": false,
     "start_time": "2022-09-07T17:21:05.349514",
     "status": "completed"
    },
    "tags": []
   },
   "outputs": [],
   "source": [
    "treino['Age'].fillna(treino['Age'].median(), inplace = True)"
   ]
  },
  {
   "cell_type": "code",
   "execution_count": 4,
   "id": "c6f5a21c",
   "metadata": {
    "execution": {
     "iopub.execute_input": "2022-09-07T17:21:05.376867Z",
     "iopub.status.busy": "2022-09-07T17:21:05.376237Z",
     "iopub.status.idle": "2022-09-07T17:21:05.575329Z",
     "shell.execute_reply": "2022-09-07T17:21:05.574395Z"
    },
    "papermill": {
     "duration": 0.20771,
     "end_time": "2022-09-07T17:21:05.577898",
     "exception": false,
     "start_time": "2022-09-07T17:21:05.370188",
     "status": "completed"
    },
    "tags": []
   },
   "outputs": [
    {
     "data": {
      "text/plain": [
       "Sex         0.150870\n",
       "Fare        0.113350\n",
       "Age         0.074959\n",
       "Pclass      0.058107\n",
       "SibSp       0.023197\n",
       "Embarked    0.016668\n",
       "Parch       0.016366\n",
       "Name: MI Scores, dtype: float64"
      ]
     },
     "execution_count": 4,
     "metadata": {},
     "output_type": "execute_result"
    },
    {
     "data": {
      "image/png": "[encoded data removed]",
      "text/plain": [
       "<Figure size 432x288 with 1 Axes>"
      ]
     },
     "metadata": {
      "needs_background": "light"
     },
     "output_type": "display_data"
    }
   ],
   "source": [
    "miplot(teste,y,discrete_features)"
   ]
  },
  {
   "cell_type": "code",
   "execution_count": 5,
   "id": "b90c523a",
   "metadata": {
    "execution": {
     "iopub.execute_input": "2022-09-07T17:21:05.591247Z",
     "iopub.status.busy": "2022-09-07T17:21:05.590895Z",
     "iopub.status.idle": "2022-09-07T17:21:05.920260Z",
     "shell.execute_reply": "2022-09-07T17:21:05.919351Z"
    },
    "papermill": {
     "duration": 0.337919,
     "end_time": "2022-09-07T17:21:05.922169",
     "exception": false,
     "start_time": "2022-09-07T17:21:05.584250",
     "status": "completed"
    },
    "tags": []
   },
   "outputs": [
    {
     "data": {
      "text/plain": [
       "<AxesSubplot:xlabel='Fare', ylabel='Count'>"
      ]
     },
     "execution_count": 5,
     "metadata": {},
     "output_type": "execute_result"
    },
    {
     "data": {
      "image/png": "[encoded data removed]",
      "text/plain": [
       "<Figure size 432x288 with 1 Axes>"
      ]
     },
     "metadata": {
      "needs_background": "light"
     },
     "output_type": "display_data"
    }
   ],
   "source": [
    "sns.histplot(teste['Fare'])"
   ]
  },
  {
   "cell_type": "code",
   "execution_count": 6,
   "id": "571a11c1",
   "metadata": {
    "execution": {
     "iopub.execute_input": "2022-09-07T17:21:05.935244Z",
     "iopub.status.busy": "2022-09-07T17:21:05.934941Z",
     "iopub.status.idle": "2022-09-07T17:21:06.555954Z",
     "shell.execute_reply": "2022-09-07T17:21:06.555256Z"
    },
    "papermill": {
     "duration": 0.629641,
     "end_time": "2022-09-07T17:21:06.557788",
     "exception": false,
     "start_time": "2022-09-07T17:21:05.928147",
     "status": "completed"
    },
    "tags": []
   },
   "outputs": [
    {
     "data": {
      "text/plain": [
       "<AxesSubplot:xlabel='Fare', ylabel='Count'>"
      ]
     },
     "execution_count": 6,
     "metadata": {},
     "output_type": "execute_result"
    },
    {
     "data": {
      "image/png": "[encoded data removed]",
      "text/plain": [
       "<Figure size 1008x432 with 1 Axes>"
      ]
     },
     "metadata": {
      "needs_background": "light"
     },
     "output_type": "display_data"
    }
   ],
   "source": [
    "plt.figure(figsize=(14,6))\n",
    "sns.histplot(data = treino,x='Fare',hue = 'Survived',multiple=\"stack\")"
   ]
  },
  {
   "cell_type": "code",
   "execution_count": 7,
   "id": "10860948",
   "metadata": {
    "execution": {
     "iopub.execute_input": "2022-09-07T17:21:06.571625Z",
     "iopub.status.busy": "2022-09-07T17:21:06.571289Z",
     "iopub.status.idle": "2022-09-07T17:21:07.244157Z",
     "shell.execute_reply": "2022-09-07T17:21:07.243272Z"
    },
    "papermill": {
     "duration": 0.682192,
     "end_time": "2022-09-07T17:21:07.246369",
     "exception": false,
     "start_time": "2022-09-07T17:21:06.564177",
     "status": "completed"
    },
    "tags": []
   },
   "outputs": [
    {
     "data": {
      "text/plain": [
       "<AxesSubplot:xlabel='Sex', ylabel='Count'>"
      ]
     },
     "execution_count": 7,
     "metadata": {},
     "output_type": "execute_result"
    },
    {
     "data": {
      "image/png": "[encoded data removed]",
      "text/plain": [
       "<Figure size 576x288 with 4 Axes>"
      ]
     },
     "metadata": {
      "needs_background": "light"
     },
     "output_type": "display_data"
    }
   ],
   "source": [
    "fig, axs = plt.subplots(2, 2, figsize=(8, 4))\n",
    "survivedage = treino['Survived'] == 1\n",
    "agem = (treino['Sex'] == 'male')\n",
    "agef = (treino['Sex'] == 'female')\n",
    "sns.histplot(data = treino,x='Age',hue = 'Sex',multiple=\"layer\",ax = axs[0,0])\n",
    "sns.histplot(data=treino[survivedage], x='Age',hue = 'Sex',ax = axs[0,1])\n",
    "sns.histplot(data = treino[agem],x='Sex',hue = 'Survived',ax = axs[1,0])\n",
    "sns.histplot(data = treino[agef],x='Sex',hue='Survived',ax=axs[1,1])"
   ]
  },
  {
   "cell_type": "markdown",
   "id": "df860234",
   "metadata": {
    "papermill": {
     "duration": 0.006313,
     "end_time": "2022-09-07T17:21:07.259674",
     "exception": false,
     "start_time": "2022-09-07T17:21:07.253361",
     "status": "completed"
    },
    "tags": []
   },
   "source": [
    "Proporcionalmente, mais mulheres sobreviveram do que homens"
   ]
  },
  {
   "cell_type": "code",
   "execution_count": 8,
   "id": "9c2cd3e7",
   "metadata": {
    "execution": {
     "iopub.execute_input": "2022-09-07T17:21:07.274258Z",
     "iopub.status.busy": "2022-09-07T17:21:07.273803Z",
     "iopub.status.idle": "2022-09-07T17:21:07.304162Z",
     "shell.execute_reply": "2022-09-07T17:21:07.303260Z"
    },
    "papermill": {
     "duration": 0.040491,
     "end_time": "2022-09-07T17:21:07.306594",
     "exception": false,
     "start_time": "2022-09-07T17:21:07.266103",
     "status": "completed"
    },
    "tags": []
   },
   "outputs": [
    {
     "data": {
      "text/html": [
       "<div>\n",
       "<style scoped>\n",
       "    .dataframe tbody tr th:only-of-type {\n",
       "        vertical-align: middle;\n",
       "    }\n",
       "\n",
       "    .dataframe tbody tr th {\n",
       "        vertical-align: top;\n",
       "    }\n",
       "\n",
       "    .dataframe thead th {\n",
       "        text-align: right;\n",
       "    }\n",
       "</style>\n",
       "<table border=\"1\" class=\"dataframe\">\n",
       "  <thead>\n",
       "    <tr style=\"text-align: right;\">\n",
       "      <th></th>\n",
       "      <th>PassengerId</th>\n",
       "      <th>Survived</th>\n",
       "      <th>Pclass</th>\n",
       "      <th>Sex</th>\n",
       "      <th>Age</th>\n",
       "      <th>SibSp</th>\n",
       "      <th>Parch</th>\n",
       "      <th>Ticket</th>\n",
       "      <th>Fare</th>\n",
       "      <th>Cabin</th>\n",
       "      <th>Embarked</th>\n",
       "      <th>Title</th>\n",
       "    </tr>\n",
       "  </thead>\n",
       "  <tbody>\n",
       "    <tr>\n",
       "      <th>0</th>\n",
       "      <td>1</td>\n",
       "      <td>0</td>\n",
       "      <td>3</td>\n",
       "      <td>male</td>\n",
       "      <td>22.0</td>\n",
       "      <td>1</td>\n",
       "      <td>0</td>\n",
       "      <td>A/5 21171</td>\n",
       "      <td>7.2500</td>\n",
       "      <td>NaN</td>\n",
       "      <td>S</td>\n",
       "      <td>Mr</td>\n",
       "    </tr>\n",
       "    <tr>\n",
       "      <th>1</th>\n",
       "      <td>2</td>\n",
       "      <td>1</td>\n",
       "      <td>1</td>\n",
       "      <td>female</td>\n",
       "      <td>38.0</td>\n",
       "      <td>1</td>\n",
       "      <td>0</td>\n",
       "      <td>PC 17599</td>\n",
       "      <td>71.2833</td>\n",
       "      <td>C85</td>\n",
       "      <td>C</td>\n",
       "      <td>Mrs</td>\n",
       "    </tr>\n",
       "    <tr>\n",
       "      <th>2</th>\n",
       "      <td>3</td>\n",
       "      <td>1</td>\n",
       "      <td>3</td>\n",
       "      <td>female</td>\n",
       "      <td>26.0</td>\n",
       "      <td>0</td>\n",
       "      <td>0</td>\n",
       "      <td>STON/O2. 3101282</td>\n",
       "      <td>7.9250</td>\n",
       "      <td>NaN</td>\n",
       "      <td>S</td>\n",
       "      <td>Miss</td>\n",
       "    </tr>\n",
       "    <tr>\n",
       "      <th>3</th>\n",
       "      <td>4</td>\n",
       "      <td>1</td>\n",
       "      <td>1</td>\n",
       "      <td>female</td>\n",
       "      <td>35.0</td>\n",
       "      <td>1</td>\n",
       "      <td>0</td>\n",
       "      <td>113803</td>\n",
       "      <td>53.1000</td>\n",
       "      <td>C123</td>\n",
       "      <td>S</td>\n",
       "      <td>Mrs</td>\n",
       "    </tr>\n",
       "    <tr>\n",
       "      <th>4</th>\n",
       "      <td>5</td>\n",
       "      <td>0</td>\n",
       "      <td>3</td>\n",
       "      <td>male</td>\n",
       "      <td>35.0</td>\n",
       "      <td>0</td>\n",
       "      <td>0</td>\n",
       "      <td>373450</td>\n",
       "      <td>8.0500</td>\n",
       "      <td>NaN</td>\n",
       "      <td>S</td>\n",
       "      <td>Mr</td>\n",
       "    </tr>\n",
       "    <tr>\n",
       "      <th>...</th>\n",
       "      <td>...</td>\n",
       "      <td>...</td>\n",
       "      <td>...</td>\n",
       "      <td>...</td>\n",
       "      <td>...</td>\n",
       "      <td>...</td>\n",
       "      <td>...</td>\n",
       "      <td>...</td>\n",
       "      <td>...</td>\n",
       "      <td>...</td>\n",
       "      <td>...</td>\n",
       "      <td>...</td>\n",
       "    </tr>\n",
       "    <tr>\n",
       "      <th>886</th>\n",
       "      <td>887</td>\n",
       "      <td>0</td>\n",
       "      <td>2</td>\n",
       "      <td>male</td>\n",
       "      <td>27.0</td>\n",
       "      <td>0</td>\n",
       "      <td>0</td>\n",
       "      <td>211536</td>\n",
       "      <td>13.0000</td>\n",
       "      <td>NaN</td>\n",
       "      <td>S</td>\n",
       "      <td>Rev</td>\n",
       "    </tr>\n",
       "    <tr>\n",
       "      <th>887</th>\n",
       "      <td>888</td>\n",
       "      <td>1</td>\n",
       "      <td>1</td>\n",
       "      <td>female</td>\n",
       "      <td>19.0</td>\n",
       "      <td>0</td>\n",
       "      <td>0</td>\n",
       "      <td>112053</td>\n",
       "      <td>30.0000</td>\n",
       "      <td>B42</td>\n",
       "      <td>S</td>\n",
       "      <td>Miss</td>\n",
       "    </tr>\n",
       "    <tr>\n",
       "      <th>888</th>\n",
       "      <td>889</td>\n",
       "      <td>0</td>\n",
       "      <td>3</td>\n",
       "      <td>female</td>\n",
       "      <td>28.0</td>\n",
       "      <td>1</td>\n",
       "      <td>2</td>\n",
       "      <td>W./C. 6607</td>\n",
       "      <td>23.4500</td>\n",
       "      <td>NaN</td>\n",
       "      <td>S</td>\n",
       "      <td>Miss</td>\n",
       "    </tr>\n",
       "    <tr>\n",
       "      <th>889</th>\n",
       "      <td>890</td>\n",
       "      <td>1</td>\n",
       "      <td>1</td>\n",
       "      <td>male</td>\n",
       "      <td>26.0</td>\n",
       "      <td>0</td>\n",
       "      <td>0</td>\n",
       "      <td>111369</td>\n",
       "      <td>30.0000</td>\n",
       "      <td>C148</td>\n",
       "      <td>C</td>\n",
       "      <td>Mr</td>\n",
       "    </tr>\n",
       "    <tr>\n",
       "      <th>890</th>\n",
       "      <td>891</td>\n",
       "      <td>0</td>\n",
       "      <td>3</td>\n",
       "      <td>male</td>\n",
       "      <td>32.0</td>\n",
       "      <td>0</td>\n",
       "      <td>0</td>\n",
       "      <td>370376</td>\n",
       "      <td>7.7500</td>\n",
       "      <td>NaN</td>\n",
       "      <td>Q</td>\n",
       "      <td>Mr</td>\n",
       "    </tr>\n",
       "  </tbody>\n",
       "</table>\n",
       "<p>891 rows × 12 columns</p>\n",
       "</div>"
      ],
      "text/plain": [
       "     PassengerId  Survived  Pclass     Sex   Age  SibSp  Parch  \\\n",
       "0              1         0       3    male  22.0      1      0   \n",
       "1              2         1       1  female  38.0      1      0   \n",
       "2              3         1       3  female  26.0      0      0   \n",
       "3              4         1       1  female  35.0      1      0   \n",
       "4              5         0       3    male  35.0      0      0   \n",
       "..           ...       ...     ...     ...   ...    ...    ...   \n",
       "886          887         0       2    male  27.0      0      0   \n",
       "887          888         1       1  female  19.0      0      0   \n",
       "888          889         0       3  female  28.0      1      2   \n",
       "889          890         1       1    male  26.0      0      0   \n",
       "890          891         0       3    male  32.0      0      0   \n",
       "\n",
       "               Ticket     Fare Cabin Embarked  Title  \n",
       "0           A/5 21171   7.2500   NaN        S     Mr  \n",
       "1            PC 17599  71.2833   C85        C    Mrs  \n",
       "2    STON/O2. 3101282   7.9250   NaN        S   Miss  \n",
       "3              113803  53.1000  C123        S    Mrs  \n",
       "4              373450   8.0500   NaN        S     Mr  \n",
       "..                ...      ...   ...      ...    ...  \n",
       "886            211536  13.0000   NaN        S    Rev  \n",
       "887            112053  30.0000   B42        S   Miss  \n",
       "888        W./C. 6607  23.4500   NaN        S   Miss  \n",
       "889            111369  30.0000  C148        C     Mr  \n",
       "890            370376   7.7500   NaN        Q     Mr  \n",
       "\n",
       "[891 rows x 12 columns]"
      ]
     },
     "metadata": {},
     "output_type": "display_data"
    }
   ],
   "source": [
    "# 9.2.1\n",
    "treino[['Name','Title']] = treino['Name'].str.split(\",\",n=1,expand = True)\n",
    "treino[['Title','delete']] = treino['Title'].str.split(\".\",n=1,expand = True)\n",
    "treino = treino.drop(['Name','delete'],axis = 1)\n",
    "display(treino)"
   ]
  },
  {
   "cell_type": "code",
   "execution_count": 9,
   "id": "eaf6dbe8",
   "metadata": {
    "execution": {
     "iopub.execute_input": "2022-09-07T17:21:07.323112Z",
     "iopub.status.busy": "2022-09-07T17:21:07.322520Z",
     "iopub.status.idle": "2022-09-07T17:21:07.360062Z",
     "shell.execute_reply": "2022-09-07T17:21:07.359054Z"
    },
    "papermill": {
     "duration": 0.048107,
     "end_time": "2022-09-07T17:21:07.362268",
     "exception": false,
     "start_time": "2022-09-07T17:21:07.314161",
     "status": "completed"
    },
    "tags": []
   },
   "outputs": [
    {
     "data": {
      "text/html": [
       "<div>\n",
       "<style scoped>\n",
       "    .dataframe tbody tr th:only-of-type {\n",
       "        vertical-align: middle;\n",
       "    }\n",
       "\n",
       "    .dataframe tbody tr th {\n",
       "        vertical-align: top;\n",
       "    }\n",
       "\n",
       "    .dataframe thead th {\n",
       "        text-align: right;\n",
       "    }\n",
       "</style>\n",
       "<table border=\"1\" class=\"dataframe\">\n",
       "  <thead>\n",
       "    <tr style=\"text-align: right;\">\n",
       "      <th></th>\n",
       "      <th>PassengerId</th>\n",
       "      <th>Survived</th>\n",
       "      <th>Pclass</th>\n",
       "      <th>Sex</th>\n",
       "      <th>Age</th>\n",
       "      <th>SibSp</th>\n",
       "      <th>Parch</th>\n",
       "      <th>Ticket</th>\n",
       "      <th>Fare</th>\n",
       "      <th>Cabin</th>\n",
       "      <th>Embarked</th>\n",
       "      <th>Title</th>\n",
       "      <th>FamilySize</th>\n",
       "    </tr>\n",
       "  </thead>\n",
       "  <tbody>\n",
       "    <tr>\n",
       "      <th>0</th>\n",
       "      <td>1</td>\n",
       "      <td>0</td>\n",
       "      <td>3</td>\n",
       "      <td>male</td>\n",
       "      <td>22.0</td>\n",
       "      <td>1</td>\n",
       "      <td>0</td>\n",
       "      <td>A/5 21171</td>\n",
       "      <td>7.2500</td>\n",
       "      <td>NaN</td>\n",
       "      <td>S</td>\n",
       "      <td>Mr</td>\n",
       "      <td>1</td>\n",
       "    </tr>\n",
       "    <tr>\n",
       "      <th>1</th>\n",
       "      <td>2</td>\n",
       "      <td>1</td>\n",
       "      <td>1</td>\n",
       "      <td>female</td>\n",
       "      <td>38.0</td>\n",
       "      <td>1</td>\n",
       "      <td>0</td>\n",
       "      <td>PC 17599</td>\n",
       "      <td>71.2833</td>\n",
       "      <td>C85</td>\n",
       "      <td>C</td>\n",
       "      <td>Mrs</td>\n",
       "      <td>1</td>\n",
       "    </tr>\n",
       "    <tr>\n",
       "      <th>2</th>\n",
       "      <td>3</td>\n",
       "      <td>1</td>\n",
       "      <td>3</td>\n",
       "      <td>female</td>\n",
       "      <td>26.0</td>\n",
       "      <td>0</td>\n",
       "      <td>0</td>\n",
       "      <td>STON/O2. 3101282</td>\n",
       "      <td>7.9250</td>\n",
       "      <td>NaN</td>\n",
       "      <td>S</td>\n",
       "      <td>Miss</td>\n",
       "      <td>0</td>\n",
       "    </tr>\n",
       "    <tr>\n",
       "      <th>3</th>\n",
       "      <td>4</td>\n",
       "      <td>1</td>\n",
       "      <td>1</td>\n",
       "      <td>female</td>\n",
       "      <td>35.0</td>\n",
       "      <td>1</td>\n",
       "      <td>0</td>\n",
       "      <td>113803</td>\n",
       "      <td>53.1000</td>\n",
       "      <td>C123</td>\n",
       "      <td>S</td>\n",
       "      <td>Mrs</td>\n",
       "      <td>1</td>\n",
       "    </tr>\n",
       "    <tr>\n",
       "      <th>4</th>\n",
       "      <td>5</td>\n",
       "      <td>0</td>\n",
       "      <td>3</td>\n",
       "      <td>male</td>\n",
       "      <td>35.0</td>\n",
       "      <td>0</td>\n",
       "      <td>0</td>\n",
       "      <td>373450</td>\n",
       "      <td>8.0500</td>\n",
       "      <td>NaN</td>\n",
       "      <td>S</td>\n",
       "      <td>Mr</td>\n",
       "      <td>0</td>\n",
       "    </tr>\n",
       "    <tr>\n",
       "      <th>...</th>\n",
       "      <td>...</td>\n",
       "      <td>...</td>\n",
       "      <td>...</td>\n",
       "      <td>...</td>\n",
       "      <td>...</td>\n",
       "      <td>...</td>\n",
       "      <td>...</td>\n",
       "      <td>...</td>\n",
       "      <td>...</td>\n",
       "      <td>...</td>\n",
       "      <td>...</td>\n",
       "      <td>...</td>\n",
       "      <td>...</td>\n",
       "    </tr>\n",
       "    <tr>\n",
       "      <th>886</th>\n",
       "      <td>887</td>\n",
       "      <td>0</td>\n",
       "      <td>2</td>\n",
       "      <td>male</td>\n",
       "      <td>27.0</td>\n",
       "      <td>0</td>\n",
       "      <td>0</td>\n",
       "      <td>211536</td>\n",
       "      <td>13.0000</td>\n",
       "      <td>NaN</td>\n",
       "      <td>S</td>\n",
       "      <td>Rev</td>\n",
       "      <td>0</td>\n",
       "    </tr>\n",
       "    <tr>\n",
       "      <th>887</th>\n",
       "      <td>888</td>\n",
       "      <td>1</td>\n",
       "      <td>1</td>\n",
       "      <td>female</td>\n",
       "      <td>19.0</td>\n",
       "      <td>0</td>\n",
       "      <td>0</td>\n",
       "      <td>112053</td>\n",
       "      <td>30.0000</td>\n",
       "      <td>B42</td>\n",
       "      <td>S</td>\n",
       "      <td>Miss</td>\n",
       "      <td>0</td>\n",
       "    </tr>\n",
       "    <tr>\n",
       "      <th>888</th>\n",
       "      <td>889</td>\n",
       "      <td>0</td>\n",
       "      <td>3</td>\n",
       "      <td>female</td>\n",
       "      <td>28.0</td>\n",
       "      <td>1</td>\n",
       "      <td>2</td>\n",
       "      <td>W./C. 6607</td>\n",
       "      <td>23.4500</td>\n",
       "      <td>NaN</td>\n",
       "      <td>S</td>\n",
       "      <td>Miss</td>\n",
       "      <td>3</td>\n",
       "    </tr>\n",
       "    <tr>\n",
       "      <th>889</th>\n",
       "      <td>890</td>\n",
       "      <td>1</td>\n",
       "      <td>1</td>\n",
       "      <td>male</td>\n",
       "      <td>26.0</td>\n",
       "      <td>0</td>\n",
       "      <td>0</td>\n",
       "      <td>111369</td>\n",
       "      <td>30.0000</td>\n",
       "      <td>C148</td>\n",
       "      <td>C</td>\n",
       "      <td>Mr</td>\n",
       "      <td>0</td>\n",
       "    </tr>\n",
       "    <tr>\n",
       "      <th>890</th>\n",
       "      <td>891</td>\n",
       "      <td>0</td>\n",
       "      <td>3</td>\n",
       "      <td>male</td>\n",
       "      <td>32.0</td>\n",
       "      <td>0</td>\n",
       "      <td>0</td>\n",
       "      <td>370376</td>\n",
       "      <td>7.7500</td>\n",
       "      <td>NaN</td>\n",
       "      <td>Q</td>\n",
       "      <td>Mr</td>\n",
       "      <td>0</td>\n",
       "    </tr>\n",
       "  </tbody>\n",
       "</table>\n",
       "<p>891 rows × 13 columns</p>\n",
       "</div>"
      ],
      "text/plain": [
       "     PassengerId  Survived  Pclass     Sex   Age  SibSp  Parch  \\\n",
       "0              1         0       3    male  22.0      1      0   \n",
       "1              2         1       1  female  38.0      1      0   \n",
       "2              3         1       3  female  26.0      0      0   \n",
       "3              4         1       1  female  35.0      1      0   \n",
       "4              5         0       3    male  35.0      0      0   \n",
       "..           ...       ...     ...     ...   ...    ...    ...   \n",
       "886          887         0       2    male  27.0      0      0   \n",
       "887          888         1       1  female  19.0      0      0   \n",
       "888          889         0       3  female  28.0      1      2   \n",
       "889          890         1       1    male  26.0      0      0   \n",
       "890          891         0       3    male  32.0      0      0   \n",
       "\n",
       "               Ticket     Fare Cabin Embarked  Title  FamilySize  \n",
       "0           A/5 21171   7.2500   NaN        S     Mr           1  \n",
       "1            PC 17599  71.2833   C85        C    Mrs           1  \n",
       "2    STON/O2. 3101282   7.9250   NaN        S   Miss           0  \n",
       "3              113803  53.1000  C123        S    Mrs           1  \n",
       "4              373450   8.0500   NaN        S     Mr           0  \n",
       "..                ...      ...   ...      ...    ...         ...  \n",
       "886            211536  13.0000   NaN        S    Rev           0  \n",
       "887            112053  30.0000   B42        S   Miss           0  \n",
       "888        W./C. 6607  23.4500   NaN        S   Miss           3  \n",
       "889            111369  30.0000  C148        C     Mr           0  \n",
       "890            370376   7.7500   NaN        Q     Mr           0  \n",
       "\n",
       "[891 rows x 13 columns]"
      ]
     },
     "metadata": {},
     "output_type": "display_data"
    },
    {
     "data": {
      "text/html": [
       "<div>\n",
       "<style scoped>\n",
       "    .dataframe tbody tr th:only-of-type {\n",
       "        vertical-align: middle;\n",
       "    }\n",
       "\n",
       "    .dataframe tbody tr th {\n",
       "        vertical-align: top;\n",
       "    }\n",
       "\n",
       "    .dataframe thead th {\n",
       "        text-align: right;\n",
       "    }\n",
       "</style>\n",
       "<table border=\"1\" class=\"dataframe\">\n",
       "  <thead>\n",
       "    <tr style=\"text-align: right;\">\n",
       "      <th></th>\n",
       "      <th>PassengerId</th>\n",
       "      <th>Survived</th>\n",
       "      <th>Pclass</th>\n",
       "      <th>Sex</th>\n",
       "      <th>Age</th>\n",
       "      <th>SibSp</th>\n",
       "      <th>Parch</th>\n",
       "      <th>Ticket</th>\n",
       "      <th>Fare</th>\n",
       "      <th>Cabin</th>\n",
       "      <th>Embarked</th>\n",
       "      <th>Title</th>\n",
       "      <th>FamilySize</th>\n",
       "      <th>IsAlone</th>\n",
       "    </tr>\n",
       "  </thead>\n",
       "  <tbody>\n",
       "    <tr>\n",
       "      <th>0</th>\n",
       "      <td>1</td>\n",
       "      <td>0</td>\n",
       "      <td>3</td>\n",
       "      <td>male</td>\n",
       "      <td>22.0</td>\n",
       "      <td>1</td>\n",
       "      <td>0</td>\n",
       "      <td>A/5 21171</td>\n",
       "      <td>7.2500</td>\n",
       "      <td>NaN</td>\n",
       "      <td>S</td>\n",
       "      <td>Mr</td>\n",
       "      <td>1</td>\n",
       "      <td>False</td>\n",
       "    </tr>\n",
       "    <tr>\n",
       "      <th>1</th>\n",
       "      <td>2</td>\n",
       "      <td>1</td>\n",
       "      <td>1</td>\n",
       "      <td>female</td>\n",
       "      <td>38.0</td>\n",
       "      <td>1</td>\n",
       "      <td>0</td>\n",
       "      <td>PC 17599</td>\n",
       "      <td>71.2833</td>\n",
       "      <td>C85</td>\n",
       "      <td>C</td>\n",
       "      <td>Mrs</td>\n",
       "      <td>1</td>\n",
       "      <td>False</td>\n",
       "    </tr>\n",
       "    <tr>\n",
       "      <th>2</th>\n",
       "      <td>3</td>\n",
       "      <td>1</td>\n",
       "      <td>3</td>\n",
       "      <td>female</td>\n",
       "      <td>26.0</td>\n",
       "      <td>0</td>\n",
       "      <td>0</td>\n",
       "      <td>STON/O2. 3101282</td>\n",
       "      <td>7.9250</td>\n",
       "      <td>NaN</td>\n",
       "      <td>S</td>\n",
       "      <td>Miss</td>\n",
       "      <td>0</td>\n",
       "      <td>True</td>\n",
       "    </tr>\n",
       "    <tr>\n",
       "      <th>3</th>\n",
       "      <td>4</td>\n",
       "      <td>1</td>\n",
       "      <td>1</td>\n",
       "      <td>female</td>\n",
       "      <td>35.0</td>\n",
       "      <td>1</td>\n",
       "      <td>0</td>\n",
       "      <td>113803</td>\n",
       "      <td>53.1000</td>\n",
       "      <td>C123</td>\n",
       "      <td>S</td>\n",
       "      <td>Mrs</td>\n",
       "      <td>1</td>\n",
       "      <td>False</td>\n",
       "    </tr>\n",
       "    <tr>\n",
       "      <th>4</th>\n",
       "      <td>5</td>\n",
       "      <td>0</td>\n",
       "      <td>3</td>\n",
       "      <td>male</td>\n",
       "      <td>35.0</td>\n",
       "      <td>0</td>\n",
       "      <td>0</td>\n",
       "      <td>373450</td>\n",
       "      <td>8.0500</td>\n",
       "      <td>NaN</td>\n",
       "      <td>S</td>\n",
       "      <td>Mr</td>\n",
       "      <td>0</td>\n",
       "      <td>True</td>\n",
       "    </tr>\n",
       "    <tr>\n",
       "      <th>...</th>\n",
       "      <td>...</td>\n",
       "      <td>...</td>\n",
       "      <td>...</td>\n",
       "      <td>...</td>\n",
       "      <td>...</td>\n",
       "      <td>...</td>\n",
       "      <td>...</td>\n",
       "      <td>...</td>\n",
       "      <td>...</td>\n",
       "      <td>...</td>\n",
       "      <td>...</td>\n",
       "      <td>...</td>\n",
       "      <td>...</td>\n",
       "      <td>...</td>\n",
       "    </tr>\n",
       "    <tr>\n",
       "      <th>886</th>\n",
       "      <td>887</td>\n",
       "      <td>0</td>\n",
       "      <td>2</td>\n",
       "      <td>male</td>\n",
       "      <td>27.0</td>\n",
       "      <td>0</td>\n",
       "      <td>0</td>\n",
       "      <td>211536</td>\n",
       "      <td>13.0000</td>\n",
       "      <td>NaN</td>\n",
       "      <td>S</td>\n",
       "      <td>Rev</td>\n",
       "      <td>0</td>\n",
       "      <td>True</td>\n",
       "    </tr>\n",
       "    <tr>\n",
       "      <th>887</th>\n",
       "      <td>888</td>\n",
       "      <td>1</td>\n",
       "      <td>1</td>\n",
       "      <td>female</td>\n",
       "      <td>19.0</td>\n",
       "      <td>0</td>\n",
       "      <td>0</td>\n",
       "      <td>112053</td>\n",
       "      <td>30.0000</td>\n",
       "      <td>B42</td>\n",
       "      <td>S</td>\n",
       "      <td>Miss</td>\n",
       "      <td>0</td>\n",
       "      <td>True</td>\n",
       "    </tr>\n",
       "    <tr>\n",
       "      <th>888</th>\n",
       "      <td>889</td>\n",
       "      <td>0</td>\n",
       "      <td>3</td>\n",
       "      <td>female</td>\n",
       "      <td>28.0</td>\n",
       "      <td>1</td>\n",
       "      <td>2</td>\n",
       "      <td>W./C. 6607</td>\n",
       "      <td>23.4500</td>\n",
       "      <td>NaN</td>\n",
       "      <td>S</td>\n",
       "      <td>Miss</td>\n",
       "      <td>3</td>\n",
       "      <td>False</td>\n",
       "    </tr>\n",
       "    <tr>\n",
       "      <th>889</th>\n",
       "      <td>890</td>\n",
       "      <td>1</td>\n",
       "      <td>1</td>\n",
       "      <td>male</td>\n",
       "      <td>26.0</td>\n",
       "      <td>0</td>\n",
       "      <td>0</td>\n",
       "      <td>111369</td>\n",
       "      <td>30.0000</td>\n",
       "      <td>C148</td>\n",
       "      <td>C</td>\n",
       "      <td>Mr</td>\n",
       "      <td>0</td>\n",
       "      <td>True</td>\n",
       "    </tr>\n",
       "    <tr>\n",
       "      <th>890</th>\n",
       "      <td>891</td>\n",
       "      <td>0</td>\n",
       "      <td>3</td>\n",
       "      <td>male</td>\n",
       "      <td>32.0</td>\n",
       "      <td>0</td>\n",
       "      <td>0</td>\n",
       "      <td>370376</td>\n",
       "      <td>7.7500</td>\n",
       "      <td>NaN</td>\n",
       "      <td>Q</td>\n",
       "      <td>Mr</td>\n",
       "      <td>0</td>\n",
       "      <td>True</td>\n",
       "    </tr>\n",
       "  </tbody>\n",
       "</table>\n",
       "<p>891 rows × 14 columns</p>\n",
       "</div>"
      ],
      "text/plain": [
       "     PassengerId  Survived  Pclass     Sex   Age  SibSp  Parch  \\\n",
       "0              1         0       3    male  22.0      1      0   \n",
       "1              2         1       1  female  38.0      1      0   \n",
       "2              3         1       3  female  26.0      0      0   \n",
       "3              4         1       1  female  35.0      1      0   \n",
       "4              5         0       3    male  35.0      0      0   \n",
       "..           ...       ...     ...     ...   ...    ...    ...   \n",
       "886          887         0       2    male  27.0      0      0   \n",
       "887          888         1       1  female  19.0      0      0   \n",
       "888          889         0       3  female  28.0      1      2   \n",
       "889          890         1       1    male  26.0      0      0   \n",
       "890          891         0       3    male  32.0      0      0   \n",
       "\n",
       "               Ticket     Fare Cabin Embarked  Title  FamilySize  IsAlone  \n",
       "0           A/5 21171   7.2500   NaN        S     Mr           1    False  \n",
       "1            PC 17599  71.2833   C85        C    Mrs           1    False  \n",
       "2    STON/O2. 3101282   7.9250   NaN        S   Miss           0     True  \n",
       "3              113803  53.1000  C123        S    Mrs           1    False  \n",
       "4              373450   8.0500   NaN        S     Mr           0     True  \n",
       "..                ...      ...   ...      ...    ...         ...      ...  \n",
       "886            211536  13.0000   NaN        S    Rev           0     True  \n",
       "887            112053  30.0000   B42        S   Miss           0     True  \n",
       "888        W./C. 6607  23.4500   NaN        S   Miss           3    False  \n",
       "889            111369  30.0000  C148        C     Mr           0     True  \n",
       "890            370376   7.7500   NaN        Q     Mr           0     True  \n",
       "\n",
       "[891 rows x 14 columns]"
      ]
     },
     "metadata": {},
     "output_type": "display_data"
    }
   ],
   "source": [
    "# 9.2.2\n",
    "treino['FamilySize'] = treino['SibSp'] + treino['Parch']\n",
    "display(treino)\n",
    "treino['IsAlone'] = treino['FamilySize'] == 0\n",
    "display(treino)"
   ]
  },
  {
   "cell_type": "code",
   "execution_count": 10,
   "id": "a96fdbe4",
   "metadata": {
    "execution": {
     "iopub.execute_input": "2022-09-07T17:21:07.379161Z",
     "iopub.status.busy": "2022-09-07T17:21:07.378784Z",
     "iopub.status.idle": "2022-09-07T17:21:07.554425Z",
     "shell.execute_reply": "2022-09-07T17:21:07.553256Z"
    },
    "papermill": {
     "duration": 0.186127,
     "end_time": "2022-09-07T17:21:07.556240",
     "exception": false,
     "start_time": "2022-09-07T17:21:07.370113",
     "status": "completed"
    },
    "tags": []
   },
   "outputs": [
    {
     "data": {
      "text/plain": [
       "<AxesSubplot:xlabel='Age', ylabel='Fare'>"
      ]
     },
     "execution_count": 10,
     "metadata": {},
     "output_type": "execute_result"
    },
    {
     "data": {
      "image/png": "[encoded data removed]",
      "text/plain": [
       "<Figure size 432x288 with 1 Axes>"
      ]
     },
     "metadata": {
      "needs_background": "light"
     },
     "output_type": "display_data"
    }
   ],
   "source": [
    "# 9.3.1\n",
    "sns.scatterplot(data = treino, x ='Age',y='Fare')\n"
   ]
  },
  {
   "cell_type": "code",
   "execution_count": 11,
   "id": "caa1d83e",
   "metadata": {
    "execution": {
     "iopub.execute_input": "2022-09-07T17:21:07.574036Z",
     "iopub.status.busy": "2022-09-07T17:21:07.573741Z",
     "iopub.status.idle": "2022-09-07T17:21:08.079535Z",
     "shell.execute_reply": "2022-09-07T17:21:08.078679Z"
    },
    "papermill": {
     "duration": 0.516573,
     "end_time": "2022-09-07T17:21:08.081398",
     "exception": false,
     "start_time": "2022-09-07T17:21:07.564825",
     "status": "completed"
    },
    "tags": []
   },
   "outputs": [
    {
     "data": {
      "image/png": "[encoded data removed]",
      "text/plain": [
       "<Figure size 432x288 with 1 Axes>"
      ]
     },
     "metadata": {
      "needs_background": "light"
     },
     "output_type": "display_data"
    }
   ],
   "source": [
    "# 9.3.1 utilizando a função loc pra remover os outliers\n",
    "cols = ['Age','Fare']\n",
    "outrm = treino.copy()\n",
    "outrm = outrm.loc[outrm['Fare'] < 500, ['Fare','Age']]\n",
    "sns.scatterplot(data = outrm[cols], x ='Age',y='Fare')\n",
    "\n",
    "from sklearn.cluster import KMeans\n",
    "kmeans = KMeans(n_clusters=6)\n",
    "outrm[\"Cluster\"] = kmeans.fit_predict(outrm)"
   ]
  },
  {
   "cell_type": "code",
   "execution_count": 12,
   "id": "a20ceffd",
   "metadata": {
    "execution": {
     "iopub.execute_input": "2022-09-07T17:21:08.099214Z",
     "iopub.status.busy": "2022-09-07T17:21:08.098899Z",
     "iopub.status.idle": "2022-09-07T17:21:08.434441Z",
     "shell.execute_reply": "2022-09-07T17:21:08.433474Z"
    },
    "papermill": {
     "duration": 0.346544,
     "end_time": "2022-09-07T17:21:08.436378",
     "exception": false,
     "start_time": "2022-09-07T17:21:08.089834",
     "status": "completed"
    },
    "tags": []
   },
   "outputs": [
    {
     "data": {
      "text/plain": [
       "<AxesSubplot:xlabel='Age', ylabel='Fare'>"
      ]
     },
     "execution_count": 12,
     "metadata": {},
     "output_type": "execute_result"
    },
    {
     "data": {
      "image/png": "[encoded data removed]",
      "text/plain": [
       "<Figure size 432x288 with 1 Axes>"
      ]
     },
     "metadata": {
      "needs_background": "light"
     },
     "output_type": "display_data"
    }
   ],
   "source": [
    "# 9.3.1 c)\n",
    "treino = treino.join(outrm['Cluster'])\n",
    "# scatter plot\n",
    "sns.scatterplot(data = treino, x ='Age',y='Fare',hue = 'Cluster')"
   ]
  },
  {
   "cell_type": "code",
   "execution_count": 13,
   "id": "c13d75d6",
   "metadata": {
    "execution": {
     "iopub.execute_input": "2022-09-07T17:21:08.456754Z",
     "iopub.status.busy": "2022-09-07T17:21:08.455690Z",
     "iopub.status.idle": "2022-09-07T17:21:08.711738Z",
     "shell.execute_reply": "2022-09-07T17:21:08.710999Z"
    },
    "papermill": {
     "duration": 0.268002,
     "end_time": "2022-09-07T17:21:08.713686",
     "exception": false,
     "start_time": "2022-09-07T17:21:08.445684",
     "status": "completed"
    },
    "tags": []
   },
   "outputs": [
    {
     "data": {
      "text/plain": [
       "<AxesSubplot:xlabel='Cluster', ylabel='Survived'>"
      ]
     },
     "execution_count": 13,
     "metadata": {},
     "output_type": "execute_result"
    },
    {
     "data": {
      "image/png": "[encoded data removed]",
      "text/plain": [
       "<Figure size 432x288 with 1 Axes>"
      ]
     },
     "metadata": {
      "needs_background": "light"
     },
     "output_type": "display_data"
    }
   ],
   "source": [
    "# bar plot\n",
    "sns.barplot(data = treino, x = 'Cluster', y = 'Survived')\n",
    "\n",
    "#"
   ]
  },
  {
   "cell_type": "markdown",
   "id": "96bd7b6c",
   "metadata": {
    "papermill": {
     "duration": 0.011835,
     "end_time": "2022-09-07T17:21:08.738420",
     "exception": false,
     "start_time": "2022-09-07T17:21:08.726585",
     "status": "completed"
    },
    "tags": []
   },
   "source": [
    "Os grupos com passageiros que pagaram passagens mais caras tiveram maior chance de sobrevivência\n",
    "Apesar do grupo 2 ter pago uma passagem mais cara, tiveram mais mortes que o grupo 4"
   ]
  },
  {
   "cell_type": "code",
   "execution_count": 14,
   "id": "f47ee09d",
   "metadata": {
    "execution": {
     "iopub.execute_input": "2022-09-07T17:21:08.758808Z",
     "iopub.status.busy": "2022-09-07T17:21:08.757980Z",
     "iopub.status.idle": "2022-09-07T17:21:08.774337Z",
     "shell.execute_reply": "2022-09-07T17:21:08.773263Z"
    },
    "papermill": {
     "duration": 0.028534,
     "end_time": "2022-09-07T17:21:08.776205",
     "exception": false,
     "start_time": "2022-09-07T17:21:08.747671",
     "status": "completed"
    },
    "tags": []
   },
   "outputs": [
    {
     "data": {
      "text/html": [
       "<div>\n",
       "<style scoped>\n",
       "    .dataframe tbody tr th:only-of-type {\n",
       "        vertical-align: middle;\n",
       "    }\n",
       "\n",
       "    .dataframe tbody tr th {\n",
       "        vertical-align: top;\n",
       "    }\n",
       "\n",
       "    .dataframe thead th {\n",
       "        text-align: right;\n",
       "    }\n",
       "</style>\n",
       "<table border=\"1\" class=\"dataframe\">\n",
       "  <thead>\n",
       "    <tr style=\"text-align: right;\">\n",
       "      <th></th>\n",
       "      <th>PassengerId</th>\n",
       "      <th>Survived</th>\n",
       "      <th>Pclass</th>\n",
       "      <th>Sex</th>\n",
       "      <th>Age</th>\n",
       "      <th>SibSp</th>\n",
       "      <th>Parch</th>\n",
       "      <th>Ticket</th>\n",
       "      <th>Fare</th>\n",
       "      <th>Cabin</th>\n",
       "      <th>Embarked</th>\n",
       "      <th>Title</th>\n",
       "      <th>FamilySize</th>\n",
       "      <th>IsAlone</th>\n",
       "      <th>Cluster</th>\n",
       "    </tr>\n",
       "  </thead>\n",
       "  <tbody>\n",
       "    <tr>\n",
       "      <th>258</th>\n",
       "      <td>259</td>\n",
       "      <td>1</td>\n",
       "      <td>1</td>\n",
       "      <td>female</td>\n",
       "      <td>35.0</td>\n",
       "      <td>0</td>\n",
       "      <td>0</td>\n",
       "      <td>PC 17755</td>\n",
       "      <td>512.3292</td>\n",
       "      <td>NaN</td>\n",
       "      <td>C</td>\n",
       "      <td>Miss</td>\n",
       "      <td>0</td>\n",
       "      <td>True</td>\n",
       "      <td>NaN</td>\n",
       "    </tr>\n",
       "    <tr>\n",
       "      <th>679</th>\n",
       "      <td>680</td>\n",
       "      <td>1</td>\n",
       "      <td>1</td>\n",
       "      <td>male</td>\n",
       "      <td>36.0</td>\n",
       "      <td>0</td>\n",
       "      <td>1</td>\n",
       "      <td>PC 17755</td>\n",
       "      <td>512.3292</td>\n",
       "      <td>B51 B53 B55</td>\n",
       "      <td>C</td>\n",
       "      <td>Mr</td>\n",
       "      <td>1</td>\n",
       "      <td>False</td>\n",
       "      <td>NaN</td>\n",
       "    </tr>\n",
       "    <tr>\n",
       "      <th>737</th>\n",
       "      <td>738</td>\n",
       "      <td>1</td>\n",
       "      <td>1</td>\n",
       "      <td>male</td>\n",
       "      <td>35.0</td>\n",
       "      <td>0</td>\n",
       "      <td>0</td>\n",
       "      <td>PC 17755</td>\n",
       "      <td>512.3292</td>\n",
       "      <td>B101</td>\n",
       "      <td>C</td>\n",
       "      <td>Mr</td>\n",
       "      <td>0</td>\n",
       "      <td>True</td>\n",
       "      <td>NaN</td>\n",
       "    </tr>\n",
       "  </tbody>\n",
       "</table>\n",
       "</div>"
      ],
      "text/plain": [
       "     PassengerId  Survived  Pclass     Sex   Age  SibSp  Parch    Ticket  \\\n",
       "258          259         1       1  female  35.0      0      0  PC 17755   \n",
       "679          680         1       1    male  36.0      0      1  PC 17755   \n",
       "737          738         1       1    male  35.0      0      0  PC 17755   \n",
       "\n",
       "         Fare        Cabin Embarked  Title  FamilySize  IsAlone  Cluster  \n",
       "258  512.3292          NaN        C   Miss           0     True      NaN  \n",
       "679  512.3292  B51 B53 B55        C     Mr           1    False      NaN  \n",
       "737  512.3292         B101        C     Mr           0     True      NaN  "
      ]
     },
     "execution_count": 14,
     "metadata": {},
     "output_type": "execute_result"
    }
   ],
   "source": [
    "# 9.3.2\n",
    "# localizando os NaN na feature cluster\n",
    "treino.loc[treino['Cluster'].isna(),:] # os três passageiros com NaN na coluna Cluster se encaixam no grupo 2.0, que tem a maior Fare entre todos os outros."
   ]
  },
  {
   "cell_type": "code",
   "execution_count": 15,
   "id": "978c8a11",
   "metadata": {
    "execution": {
     "iopub.execute_input": "2022-09-07T17:21:08.796713Z",
     "iopub.status.busy": "2022-09-07T17:21:08.796339Z",
     "iopub.status.idle": "2022-09-07T17:21:08.803293Z",
     "shell.execute_reply": "2022-09-07T17:21:08.802222Z"
    },
    "papermill": {
     "duration": 0.019352,
     "end_time": "2022-09-07T17:21:08.805219",
     "exception": false,
     "start_time": "2022-09-07T17:21:08.785867",
     "status": "completed"
    },
    "tags": []
   },
   "outputs": [
    {
     "name": "stdout",
     "output_type": "stream",
     "text": [
      "258    2.0\n",
      "679    2.0\n",
      "737    2.0\n",
      "Name: Cluster, dtype: float64\n"
     ]
    }
   ],
   "source": [
    "# 9.3.2 b)\n",
    "null = [258,679,737] # linhas nulas\n",
    "treino['Cluster'].fillna(2.0,inplace = True)\n",
    "\n",
    "print(treino['Cluster'].iloc[null]) # usando o iloc pra acessar linhas com o index"
   ]
  },
  {
   "cell_type": "code",
   "execution_count": 16,
   "id": "e7806750",
   "metadata": {
    "execution": {
     "iopub.execute_input": "2022-09-07T17:21:08.825901Z",
     "iopub.status.busy": "2022-09-07T17:21:08.825033Z",
     "iopub.status.idle": "2022-09-07T17:21:09.002042Z",
     "shell.execute_reply": "2022-09-07T17:21:09.001316Z"
    },
    "papermill": {
     "duration": 0.189272,
     "end_time": "2022-09-07T17:21:09.003889",
     "exception": false,
     "start_time": "2022-09-07T17:21:08.814617",
     "status": "completed"
    },
    "tags": []
   },
   "outputs": [
    {
     "name": "stdout",
     "output_type": "stream",
     "text": [
      "PassengerId      int64\n",
      "Survived         int64\n",
      "Pclass           int64\n",
      "Sex             object\n",
      "Age            float64\n",
      "SibSp            int64\n",
      "Parch            int64\n",
      "Ticket          object\n",
      "Fare           float64\n",
      "Cabin           object\n",
      "Embarked        object\n",
      "Title           object\n",
      "FamilySize       int64\n",
      "IsAlone           bool\n",
      "Cluster        float64\n",
      "dtype: object\n",
      "PassengerId      int64\n",
      "Survived         int64\n",
      "Pclass           int64\n",
      "Sex             object\n",
      "Age            float64\n",
      "SibSp            int64\n",
      "Parch            int64\n",
      "Ticket          object\n",
      "Fare           float64\n",
      "Cabin           object\n",
      "Embarked        object\n",
      "Title           object\n",
      "FamilySize       int64\n",
      "IsAlone           bool\n",
      "Cluster        float64\n",
      "dtype: object\n"
     ]
    },
    {
     "data": {
      "text/plain": [
       "Fare          0.143271\n",
       "Cluster       0.034554\n",
       "FamilySize    0.034409\n",
       "Pclass        0.032923\n",
       "Age           0.024801\n",
       "Parch         0.023077\n",
       "SibSp         0.012635\n",
       "Name: MI Scores, dtype: float64"
      ]
     },
     "execution_count": 16,
     "metadata": {},
     "output_type": "execute_result"
    },
    {
     "data": {
      "image/png": "[encoded data removed]",
      "text/plain": [
       "<Figure size 432x288 with 1 Axes>"
      ]
     },
     "metadata": {
      "needs_background": "light"
     },
     "output_type": "display_data"
    }
   ],
   "source": [
    "# 9.3.3\n",
    "# avaliando a nova feature\n",
    "aval = treino.drop(['PassengerId','Survived','Ticket','Cabin','Title','IsAlone','Sex','Embarked'], axis =1)\n",
    "print(treino.dtypes)\n",
    "#dfeat = (treino.dtypes == int) | (treino.dtypes == bool)\n",
    "dfeat = 'auto'\n",
    "#dfeat = ['Sex','SibSp','Parch','Fare','Pclass','Embarked','Cluster']\n",
    "#for colname in treino.select_dtypes(\"object\"):\n",
    "    #treino[colname], _ = treino[colname].factorize()\n",
    "#print(dfeat)\n",
    "print(treino.dtypes)\n",
    "treino.fillna(0,inplace=True)\n",
    "miplot(aval,y,dfeat)\n"
   ]
  },
  {
   "cell_type": "code",
   "execution_count": 17,
   "id": "78014a7a",
   "metadata": {
    "execution": {
     "iopub.execute_input": "2022-09-07T17:21:09.026188Z",
     "iopub.status.busy": "2022-09-07T17:21:09.025223Z",
     "iopub.status.idle": "2022-09-07T17:21:09.062117Z",
     "shell.execute_reply": "2022-09-07T17:21:09.061497Z"
    },
    "papermill": {
     "duration": 0.049872,
     "end_time": "2022-09-07T17:21:09.063973",
     "exception": false,
     "start_time": "2022-09-07T17:21:09.014101",
     "status": "completed"
    },
    "tags": []
   },
   "outputs": [
    {
     "data": {
      "text/html": [
       "<div>\n",
       "<style scoped>\n",
       "    .dataframe tbody tr th:only-of-type {\n",
       "        vertical-align: middle;\n",
       "    }\n",
       "\n",
       "    .dataframe tbody tr th {\n",
       "        vertical-align: top;\n",
       "    }\n",
       "\n",
       "    .dataframe thead th {\n",
       "        text-align: right;\n",
       "    }\n",
       "</style>\n",
       "<table border=\"1\" class=\"dataframe\">\n",
       "  <thead>\n",
       "    <tr style=\"text-align: right;\">\n",
       "      <th></th>\n",
       "    </tr>\n",
       "  </thead>\n",
       "  <tbody>\n",
       "  </tbody>\n",
       "</table>\n",
       "</div>"
      ],
      "text/plain": [
       "Empty DataFrame\n",
       "Columns: []\n",
       "Index: []"
      ]
     },
     "metadata": {},
     "output_type": "display_data"
    },
    {
     "data": {
      "text/plain": [
       "'Age'"
      ]
     },
     "metadata": {},
     "output_type": "display_data"
    },
    {
     "data": {
      "text/plain": [
       "'Fare'"
      ]
     },
     "metadata": {},
     "output_type": "display_data"
    },
    {
     "data": {
      "text/html": [
       "<div>\n",
       "<style scoped>\n",
       "    .dataframe tbody tr th:only-of-type {\n",
       "        vertical-align: middle;\n",
       "    }\n",
       "\n",
       "    .dataframe tbody tr th {\n",
       "        vertical-align: top;\n",
       "    }\n",
       "\n",
       "    .dataframe thead th {\n",
       "        text-align: right;\n",
       "    }\n",
       "</style>\n",
       "<table border=\"1\" class=\"dataframe\">\n",
       "  <thead>\n",
       "    <tr style=\"text-align: right;\">\n",
       "      <th></th>\n",
       "      <th>Age</th>\n",
       "      <th>Fare</th>\n",
       "    </tr>\n",
       "  </thead>\n",
       "  <tbody>\n",
       "    <tr>\n",
       "      <th>0</th>\n",
       "      <td>0.271174</td>\n",
       "      <td>0.014151</td>\n",
       "    </tr>\n",
       "    <tr>\n",
       "      <th>1</th>\n",
       "      <td>0.472229</td>\n",
       "      <td>0.139136</td>\n",
       "    </tr>\n",
       "    <tr>\n",
       "      <th>2</th>\n",
       "      <td>0.321438</td>\n",
       "      <td>0.015469</td>\n",
       "    </tr>\n",
       "    <tr>\n",
       "      <th>3</th>\n",
       "      <td>0.434531</td>\n",
       "      <td>0.103644</td>\n",
       "    </tr>\n",
       "    <tr>\n",
       "      <th>4</th>\n",
       "      <td>0.434531</td>\n",
       "      <td>0.015713</td>\n",
       "    </tr>\n",
       "    <tr>\n",
       "      <th>...</th>\n",
       "      <td>...</td>\n",
       "      <td>...</td>\n",
       "    </tr>\n",
       "    <tr>\n",
       "      <th>886</th>\n",
       "      <td>0.334004</td>\n",
       "      <td>0.025374</td>\n",
       "    </tr>\n",
       "    <tr>\n",
       "      <th>887</th>\n",
       "      <td>0.233476</td>\n",
       "      <td>0.058556</td>\n",
       "    </tr>\n",
       "    <tr>\n",
       "      <th>888</th>\n",
       "      <td>0.346569</td>\n",
       "      <td>0.045771</td>\n",
       "    </tr>\n",
       "    <tr>\n",
       "      <th>889</th>\n",
       "      <td>0.321438</td>\n",
       "      <td>0.058556</td>\n",
       "    </tr>\n",
       "    <tr>\n",
       "      <th>890</th>\n",
       "      <td>0.396833</td>\n",
       "      <td>0.015127</td>\n",
       "    </tr>\n",
       "  </tbody>\n",
       "</table>\n",
       "<p>891 rows × 2 columns</p>\n",
       "</div>"
      ],
      "text/plain": [
       "          Age      Fare\n",
       "0    0.271174  0.014151\n",
       "1    0.472229  0.139136\n",
       "2    0.321438  0.015469\n",
       "3    0.434531  0.103644\n",
       "4    0.434531  0.015713\n",
       "..        ...       ...\n",
       "886  0.334004  0.025374\n",
       "887  0.233476  0.058556\n",
       "888  0.346569  0.045771\n",
       "889  0.321438  0.058556\n",
       "890  0.396833  0.015127\n",
       "\n",
       "[891 rows x 2 columns]"
      ]
     },
     "metadata": {},
     "output_type": "display_data"
    }
   ],
   "source": [
    "#9.3.4\n",
    "from mlxtend.preprocessing import minmax_scaling\n",
    "novodf = pd.DataFrame()\n",
    "display(novodf)\n",
    "cols = ['Age','Fare']\n",
    "for i in treino[cols]:\n",
    "    display(i)\n",
    "    novodf[i] = minmax_scaling(treino[cols],columns=i)\n",
    "display(novodf)"
   ]
  },
  {
   "cell_type": "code",
   "execution_count": 18,
   "id": "a6e6b498",
   "metadata": {
    "execution": {
     "iopub.execute_input": "2022-09-07T17:21:09.085897Z",
     "iopub.status.busy": "2022-09-07T17:21:09.085364Z",
     "iopub.status.idle": "2022-09-07T17:21:09.275601Z",
     "shell.execute_reply": "2022-09-07T17:21:09.274747Z"
    },
    "papermill": {
     "duration": 0.203397,
     "end_time": "2022-09-07T17:21:09.277706",
     "exception": false,
     "start_time": "2022-09-07T17:21:09.074309",
     "status": "completed"
    },
    "tags": []
   },
   "outputs": [
    {
     "data": {
      "text/plain": [
       "<AxesSubplot:xlabel='Age', ylabel='Count'>"
      ]
     },
     "execution_count": 18,
     "metadata": {},
     "output_type": "execute_result"
    },
    {
     "data": {
      "image/png": "[encoded data removed]",
      "text/plain": [
       "<Figure size 432x288 with 1 Axes>"
      ]
     },
     "metadata": {
      "needs_background": "light"
     },
     "output_type": "display_data"
    }
   ],
   "source": [
    "# 9.3.4 b)\n",
    "sns.histplot(data=novodf, x='Age')"
   ]
  },
  {
   "cell_type": "code",
   "execution_count": 19,
   "id": "f000670c",
   "metadata": {
    "execution": {
     "iopub.execute_input": "2022-09-07T17:21:09.305493Z",
     "iopub.status.busy": "2022-09-07T17:21:09.305162Z",
     "iopub.status.idle": "2022-09-07T17:21:09.618286Z",
     "shell.execute_reply": "2022-09-07T17:21:09.617440Z"
    },
    "papermill": {
     "duration": 0.331251,
     "end_time": "2022-09-07T17:21:09.620134",
     "exception": false,
     "start_time": "2022-09-07T17:21:09.288883",
     "status": "completed"
    },
    "tags": []
   },
   "outputs": [
    {
     "data": {
      "text/plain": [
       "<AxesSubplot:xlabel='Fare', ylabel='Count'>"
      ]
     },
     "execution_count": 19,
     "metadata": {},
     "output_type": "execute_result"
    },
    {
     "data": {
      "image/png": "[encoded data removed]",
      "text/plain": [
       "<Figure size 432x288 with 1 Axes>"
      ]
     },
     "metadata": {
      "needs_background": "light"
     },
     "output_type": "display_data"
    }
   ],
   "source": [
    "sns.histplot(data=novodf,x = 'Fare')"
   ]
  },
  {
   "cell_type": "code",
   "execution_count": 20,
   "id": "fbf553d3",
   "metadata": {
    "execution": {
     "iopub.execute_input": "2022-09-07T17:21:09.643405Z",
     "iopub.status.busy": "2022-09-07T17:21:09.643059Z",
     "iopub.status.idle": "2022-09-07T17:21:09.670542Z",
     "shell.execute_reply": "2022-09-07T17:21:09.669372Z"
    },
    "papermill": {
     "duration": 0.041421,
     "end_time": "2022-09-07T17:21:09.672522",
     "exception": false,
     "start_time": "2022-09-07T17:21:09.631101",
     "status": "completed"
    },
    "tags": []
   },
   "outputs": [
    {
     "data": {
      "text/html": [
       "<div>\n",
       "<style scoped>\n",
       "    .dataframe tbody tr th:only-of-type {\n",
       "        vertical-align: middle;\n",
       "    }\n",
       "\n",
       "    .dataframe tbody tr th {\n",
       "        vertical-align: top;\n",
       "    }\n",
       "\n",
       "    .dataframe thead th {\n",
       "        text-align: right;\n",
       "    }\n",
       "</style>\n",
       "<table border=\"1\" class=\"dataframe\">\n",
       "  <thead>\n",
       "    <tr style=\"text-align: right;\">\n",
       "      <th></th>\n",
       "      <th>0</th>\n",
       "      <th>1</th>\n",
       "    </tr>\n",
       "  </thead>\n",
       "  <tbody>\n",
       "    <tr>\n",
       "      <th>0</th>\n",
       "      <td>-0.096407</td>\n",
       "      <td>-0.040438</td>\n",
       "    </tr>\n",
       "    <tr>\n",
       "      <th>1</th>\n",
       "      <td>0.114800</td>\n",
       "      <td>0.066501</td>\n",
       "    </tr>\n",
       "    <tr>\n",
       "      <th>2</th>\n",
       "      <td>-0.046221</td>\n",
       "      <td>-0.043518</td>\n",
       "    </tr>\n",
       "    <tr>\n",
       "      <th>3</th>\n",
       "      <td>0.074145</td>\n",
       "      <td>0.034439</td>\n",
       "    </tr>\n",
       "    <tr>\n",
       "      <th>4</th>\n",
       "      <td>0.066462</td>\n",
       "      <td>-0.053156</td>\n",
       "    </tr>\n",
       "    <tr>\n",
       "      <th>...</th>\n",
       "      <td>...</td>\n",
       "      <td>...</td>\n",
       "    </tr>\n",
       "    <tr>\n",
       "      <th>886</th>\n",
       "      <td>-0.032837</td>\n",
       "      <td>-0.034748</td>\n",
       "    </tr>\n",
       "    <tr>\n",
       "      <th>887</th>\n",
       "      <td>-0.130081</td>\n",
       "      <td>0.007091</td>\n",
       "    </tr>\n",
       "    <tr>\n",
       "      <th>888</th>\n",
       "      <td>-0.018537</td>\n",
       "      <td>-0.015527</td>\n",
       "    </tr>\n",
       "    <tr>\n",
       "      <th>889</th>\n",
       "      <td>-0.042456</td>\n",
       "      <td>-0.000595</td>\n",
       "    </tr>\n",
       "    <tr>\n",
       "      <th>890</th>\n",
       "      <td>0.028857</td>\n",
       "      <td>-0.050446</td>\n",
       "    </tr>\n",
       "  </tbody>\n",
       "</table>\n",
       "<p>891 rows × 2 columns</p>\n",
       "</div>"
      ],
      "text/plain": [
       "            0         1\n",
       "0   -0.096407 -0.040438\n",
       "1    0.114800  0.066501\n",
       "2   -0.046221 -0.043518\n",
       "3    0.074145  0.034439\n",
       "4    0.066462 -0.053156\n",
       "..        ...       ...\n",
       "886 -0.032837 -0.034748\n",
       "887 -0.130081  0.007091\n",
       "888 -0.018537 -0.015527\n",
       "889 -0.042456 -0.000595\n",
       "890  0.028857 -0.050446\n",
       "\n",
       "[891 rows x 2 columns]"
      ]
     },
     "metadata": {},
     "output_type": "display_data"
    }
   ],
   "source": [
    "from sklearn.decomposition import PCA\n",
    "pca = PCA()\n",
    "novodfpca = pca.fit_transform(novodf)\n",
    "novodfpca = pd.DataFrame(novodfpca)\n",
    "display(novodfpca)"
   ]
  },
  {
   "cell_type": "code",
   "execution_count": 21,
   "id": "2a53656c",
   "metadata": {
    "execution": {
     "iopub.execute_input": "2022-09-07T17:21:09.696473Z",
     "iopub.status.busy": "2022-09-07T17:21:09.696130Z",
     "iopub.status.idle": "2022-09-07T17:21:09.809459Z",
     "shell.execute_reply": "2022-09-07T17:21:09.808603Z"
    },
    "papermill": {
     "duration": 0.127502,
     "end_time": "2022-09-07T17:21:09.811520",
     "exception": false,
     "start_time": "2022-09-07T17:21:09.684018",
     "status": "completed"
    },
    "tags": []
   },
   "outputs": [
    {
     "data": {
      "text/plain": [
       "1    0.092854\n",
       "0    0.074675\n",
       "Name: MI Scores, dtype: float64"
      ]
     },
     "execution_count": 21,
     "metadata": {},
     "output_type": "execute_result"
    },
    {
     "data": {
      "image/png": "[encoded data removed]",
      "text/plain": [
       "<Figure size 432x288 with 1 Axes>"
      ]
     },
     "metadata": {
      "needs_background": "light"
     },
     "output_type": "display_data"
    }
   ],
   "source": [
    "# teste miscore\n",
    "ddfeat = False\n",
    "miplot(novodfpca,y,ddfeat)\n",
    "\n",
    "# como ambas tem um score abaixo de 0.1, não me parecem muito úteis"
   ]
  },
  {
   "cell_type": "code",
   "execution_count": 22,
   "id": "a7cd7905",
   "metadata": {
    "execution": {
     "iopub.execute_input": "2022-09-07T17:21:09.843688Z",
     "iopub.status.busy": "2022-09-07T17:21:09.842855Z",
     "iopub.status.idle": "2022-09-07T17:21:10.053722Z",
     "shell.execute_reply": "2022-09-07T17:21:10.052692Z"
    },
    "papermill": {
     "duration": 0.228985,
     "end_time": "2022-09-07T17:21:10.055611",
     "exception": false,
     "start_time": "2022-09-07T17:21:09.826626",
     "status": "completed"
    },
    "tags": []
   },
   "outputs": [
    {
     "data": {
      "text/html": [
       "<div>\n",
       "<style scoped>\n",
       "    .dataframe tbody tr th:only-of-type {\n",
       "        vertical-align: middle;\n",
       "    }\n",
       "\n",
       "    .dataframe tbody tr th {\n",
       "        vertical-align: top;\n",
       "    }\n",
       "\n",
       "    .dataframe thead th {\n",
       "        text-align: right;\n",
       "    }\n",
       "</style>\n",
       "<table border=\"1\" class=\"dataframe\">\n",
       "  <thead>\n",
       "    <tr style=\"text-align: right;\">\n",
       "      <th></th>\n",
       "      <th>PassengerId</th>\n",
       "      <th>Survived</th>\n",
       "      <th>Pclass</th>\n",
       "      <th>Sex</th>\n",
       "      <th>Age</th>\n",
       "      <th>SibSp</th>\n",
       "      <th>Parch</th>\n",
       "      <th>Ticket</th>\n",
       "      <th>Fare</th>\n",
       "      <th>Cabin</th>\n",
       "      <th>Embarked</th>\n",
       "      <th>Title</th>\n",
       "      <th>FamilySize</th>\n",
       "      <th>IsAlone</th>\n",
       "      <th>Cluster</th>\n",
       "    </tr>\n",
       "  </thead>\n",
       "  <tbody>\n",
       "    <tr>\n",
       "      <th>0</th>\n",
       "      <td>1</td>\n",
       "      <td>0</td>\n",
       "      <td>3</td>\n",
       "      <td>male</td>\n",
       "      <td>22.0</td>\n",
       "      <td>1</td>\n",
       "      <td>0</td>\n",
       "      <td>A/5 21171</td>\n",
       "      <td>7.2500</td>\n",
       "      <td>0</td>\n",
       "      <td>S</td>\n",
       "      <td>0.167032</td>\n",
       "      <td>1</td>\n",
       "      <td>False</td>\n",
       "      <td>5.0</td>\n",
       "    </tr>\n",
       "    <tr>\n",
       "      <th>1</th>\n",
       "      <td>2</td>\n",
       "      <td>1</td>\n",
       "      <td>1</td>\n",
       "      <td>female</td>\n",
       "      <td>38.0</td>\n",
       "      <td>1</td>\n",
       "      <td>0</td>\n",
       "      <td>PC 17599</td>\n",
       "      <td>71.2833</td>\n",
       "      <td>C85</td>\n",
       "      <td>C</td>\n",
       "      <td>0.754600</td>\n",
       "      <td>1</td>\n",
       "      <td>False</td>\n",
       "      <td>2.0</td>\n",
       "    </tr>\n",
       "    <tr>\n",
       "      <th>2</th>\n",
       "      <td>3</td>\n",
       "      <td>1</td>\n",
       "      <td>3</td>\n",
       "      <td>female</td>\n",
       "      <td>26.0</td>\n",
       "      <td>0</td>\n",
       "      <td>0</td>\n",
       "      <td>STON/O2. 3101282</td>\n",
       "      <td>7.9250</td>\n",
       "      <td>0</td>\n",
       "      <td>S</td>\n",
       "      <td>0.677668</td>\n",
       "      <td>0</td>\n",
       "      <td>True</td>\n",
       "      <td>5.0</td>\n",
       "    </tr>\n",
       "    <tr>\n",
       "      <th>3</th>\n",
       "      <td>4</td>\n",
       "      <td>1</td>\n",
       "      <td>1</td>\n",
       "      <td>female</td>\n",
       "      <td>35.0</td>\n",
       "      <td>1</td>\n",
       "      <td>0</td>\n",
       "      <td>113803</td>\n",
       "      <td>53.1000</td>\n",
       "      <td>C123</td>\n",
       "      <td>S</td>\n",
       "      <td>0.754600</td>\n",
       "      <td>1</td>\n",
       "      <td>False</td>\n",
       "      <td>2.0</td>\n",
       "    </tr>\n",
       "    <tr>\n",
       "      <th>5</th>\n",
       "      <td>6</td>\n",
       "      <td>0</td>\n",
       "      <td>3</td>\n",
       "      <td>male</td>\n",
       "      <td>28.0</td>\n",
       "      <td>0</td>\n",
       "      <td>0</td>\n",
       "      <td>330877</td>\n",
       "      <td>8.4583</td>\n",
       "      <td>0</td>\n",
       "      <td>Q</td>\n",
       "      <td>0.167032</td>\n",
       "      <td>0</td>\n",
       "      <td>True</td>\n",
       "      <td>5.0</td>\n",
       "    </tr>\n",
       "    <tr>\n",
       "      <th>...</th>\n",
       "      <td>...</td>\n",
       "      <td>...</td>\n",
       "      <td>...</td>\n",
       "      <td>...</td>\n",
       "      <td>...</td>\n",
       "      <td>...</td>\n",
       "      <td>...</td>\n",
       "      <td>...</td>\n",
       "      <td>...</td>\n",
       "      <td>...</td>\n",
       "      <td>...</td>\n",
       "      <td>...</td>\n",
       "      <td>...</td>\n",
       "      <td>...</td>\n",
       "      <td>...</td>\n",
       "    </tr>\n",
       "    <tr>\n",
       "      <th>885</th>\n",
       "      <td>886</td>\n",
       "      <td>0</td>\n",
       "      <td>3</td>\n",
       "      <td>female</td>\n",
       "      <td>39.0</td>\n",
       "      <td>0</td>\n",
       "      <td>5</td>\n",
       "      <td>382652</td>\n",
       "      <td>29.1250</td>\n",
       "      <td>0</td>\n",
       "      <td>Q</td>\n",
       "      <td>0.754600</td>\n",
       "      <td>5</td>\n",
       "      <td>False</td>\n",
       "      <td>0.0</td>\n",
       "    </tr>\n",
       "    <tr>\n",
       "      <th>886</th>\n",
       "      <td>887</td>\n",
       "      <td>0</td>\n",
       "      <td>2</td>\n",
       "      <td>male</td>\n",
       "      <td>27.0</td>\n",
       "      <td>0</td>\n",
       "      <td>0</td>\n",
       "      <td>211536</td>\n",
       "      <td>13.0000</td>\n",
       "      <td>0</td>\n",
       "      <td>S</td>\n",
       "      <td>0.269058</td>\n",
       "      <td>0</td>\n",
       "      <td>True</td>\n",
       "      <td>5.0</td>\n",
       "    </tr>\n",
       "    <tr>\n",
       "      <th>888</th>\n",
       "      <td>889</td>\n",
       "      <td>0</td>\n",
       "      <td>3</td>\n",
       "      <td>female</td>\n",
       "      <td>28.0</td>\n",
       "      <td>1</td>\n",
       "      <td>2</td>\n",
       "      <td>W./C. 6607</td>\n",
       "      <td>23.4500</td>\n",
       "      <td>0</td>\n",
       "      <td>S</td>\n",
       "      <td>0.677668</td>\n",
       "      <td>3</td>\n",
       "      <td>False</td>\n",
       "      <td>3.0</td>\n",
       "    </tr>\n",
       "    <tr>\n",
       "      <th>889</th>\n",
       "      <td>890</td>\n",
       "      <td>1</td>\n",
       "      <td>1</td>\n",
       "      <td>male</td>\n",
       "      <td>26.0</td>\n",
       "      <td>0</td>\n",
       "      <td>0</td>\n",
       "      <td>111369</td>\n",
       "      <td>30.0000</td>\n",
       "      <td>C148</td>\n",
       "      <td>C</td>\n",
       "      <td>0.167032</td>\n",
       "      <td>0</td>\n",
       "      <td>True</td>\n",
       "      <td>3.0</td>\n",
       "    </tr>\n",
       "    <tr>\n",
       "      <th>890</th>\n",
       "      <td>891</td>\n",
       "      <td>0</td>\n",
       "      <td>3</td>\n",
       "      <td>male</td>\n",
       "      <td>32.0</td>\n",
       "      <td>0</td>\n",
       "      <td>0</td>\n",
       "      <td>370376</td>\n",
       "      <td>7.7500</td>\n",
       "      <td>0</td>\n",
       "      <td>Q</td>\n",
       "      <td>0.167032</td>\n",
       "      <td>0</td>\n",
       "      <td>True</td>\n",
       "      <td>5.0</td>\n",
       "    </tr>\n",
       "  </tbody>\n",
       "</table>\n",
       "<p>668 rows × 15 columns</p>\n",
       "</div>"
      ],
      "text/plain": [
       "     PassengerId  Survived  Pclass     Sex   Age  SibSp  Parch  \\\n",
       "0              1         0       3    male  22.0      1      0   \n",
       "1              2         1       1  female  38.0      1      0   \n",
       "2              3         1       3  female  26.0      0      0   \n",
       "3              4         1       1  female  35.0      1      0   \n",
       "5              6         0       3    male  28.0      0      0   \n",
       "..           ...       ...     ...     ...   ...    ...    ...   \n",
       "885          886         0       3  female  39.0      0      5   \n",
       "886          887         0       2    male  27.0      0      0   \n",
       "888          889         0       3  female  28.0      1      2   \n",
       "889          890         1       1    male  26.0      0      0   \n",
       "890          891         0       3    male  32.0      0      0   \n",
       "\n",
       "               Ticket     Fare Cabin Embarked     Title  FamilySize  IsAlone  \\\n",
       "0           A/5 21171   7.2500     0        S  0.167032           1    False   \n",
       "1            PC 17599  71.2833   C85        C  0.754600           1    False   \n",
       "2    STON/O2. 3101282   7.9250     0        S  0.677668           0     True   \n",
       "3              113803  53.1000  C123        S  0.754600           1    False   \n",
       "5              330877   8.4583     0        Q  0.167032           0     True   \n",
       "..                ...      ...   ...      ...       ...         ...      ...   \n",
       "885            382652  29.1250     0        Q  0.754600           5    False   \n",
       "886            211536  13.0000     0        S  0.269058           0     True   \n",
       "888        W./C. 6607  23.4500     0        S  0.677668           3    False   \n",
       "889            111369  30.0000  C148        C  0.167032           0     True   \n",
       "890            370376   7.7500     0        Q  0.167032           0     True   \n",
       "\n",
       "     Cluster  \n",
       "0        5.0  \n",
       "1        2.0  \n",
       "2        5.0  \n",
       "3        2.0  \n",
       "5        5.0  \n",
       "..       ...  \n",
       "885      0.0  \n",
       "886      5.0  \n",
       "888      3.0  \n",
       "889      3.0  \n",
       "890      5.0  \n",
       "\n",
       "[668 rows x 15 columns]"
      ]
     },
     "metadata": {},
     "output_type": "display_data"
    }
   ],
   "source": [
    "# 9.4.1\n",
    "X_encode = treino.sample(frac=0.25)\n",
    "y_encode = y[X_encode.index]\n",
    "X_pretrain = treino.drop(X_encode.index)\n",
    "y_train = y[X_pretrain.index]\n",
    "\n",
    "from category_encoders import MEstimateEncoder\n",
    "encoder = MEstimateEncoder(cols=[\"Title\"], m=5.0)\n",
    "encoder.fit(X_encode, y_encode)\n",
    "X_train = encoder.transform(X_pretrain)\n",
    "display(X_train)"
   ]
  },
  {
   "cell_type": "code",
   "execution_count": 23,
   "id": "363c325c",
   "metadata": {
    "execution": {
     "iopub.execute_input": "2022-09-07T17:21:10.080319Z",
     "iopub.status.busy": "2022-09-07T17:21:10.079465Z",
     "iopub.status.idle": "2022-09-07T17:21:10.287601Z",
     "shell.execute_reply": "2022-09-07T17:21:10.286743Z"
    },
    "papermill": {
     "duration": 0.222713,
     "end_time": "2022-09-07T17:21:10.289874",
     "exception": false,
     "start_time": "2022-09-07T17:21:10.067161",
     "status": "completed"
    },
    "tags": []
   },
   "outputs": [
    {
     "data": {
      "text/plain": [
       "<Figure size 540x360 with 0 Axes>"
      ]
     },
     "metadata": {},
     "output_type": "display_data"
    },
    {
     "data": {
      "image/png": "[encoded data removed]",
      "text/plain": [
       "<Figure size 432x288 with 1 Axes>"
      ]
     },
     "metadata": {
      "needs_background": "light"
     },
     "output_type": "display_data"
    }
   ],
   "source": [
    "plt.figure(dpi=90)\n",
    "fig, ax = plt.subplots()\n",
    "sns.histplot(data=treino['Survived'],ax=ax)\n",
    "sns.kdeplot(data=X_train['Title'], shade=True,ax=ax)\n",
    "ax.set_xlabel(\"Survived\")\n",
    "ax.legend(labels=['Title', 'Survived']);"
   ]
  }
 ],
 "metadata": {
  "kernelspec": {
   "display_name": "Python 3",
   "language": "python",
   "name": "python3"
  },
  "language_info": {
   "codemirror_mode": {
    "name": "ipython",
    "version": 3
   },
   "file_extension": ".py",
   "mimetype": "text/x-python",
   "name": "python",
   "nbconvert_exporter": "python",
   "pygments_lexer": "ipython3",
   "version": "3.7.12"
  },
  "papermill": {
   "default_parameters": {},
   "duration": 14.292621,
   "end_time": "2022-09-07T17:21:11.123007",
   "environment_variables": {},
   "exception": null,
   "input_path": "__notebook__.ipynb",
   "output_path": "__notebook__.ipynb",
   "parameters": {},
   "start_time": "2022-09-07T17:20:56.830386",
   "version": "2.3.4"
  }
 },
 "nbformat": 4,
 "nbformat_minor": 5
}
